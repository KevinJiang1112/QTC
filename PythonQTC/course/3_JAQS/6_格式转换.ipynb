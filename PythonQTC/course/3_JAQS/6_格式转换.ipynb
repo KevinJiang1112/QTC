{
 "cells": [
  {
   "cell_type": "markdown",
   "metadata": {},
   "source": [
    "## 6_格式转换"
   ]
  },
  {
   "cell_type": "markdown",
   "metadata": {},
   "source": [
    "1. 读取本地数据\n",
    "2. 修改索引与列名"
   ]
  },
  {
   "cell_type": "code",
   "execution_count": 1,
   "metadata": {
    "collapsed": true
   },
   "outputs": [],
   "source": [
    "from jaqs.data import DataView\n",
    "import os\n",
    "import numpy as np\n",
    "import warnings\n",
    "import pandas as pd\n",
    "from datetime import datetime\n",
    "\n",
    "warnings.filterwarnings(\"ignore\")"
   ]
  },
  {
   "cell_type": "code",
   "execution_count": 2,
   "metadata": {},
   "outputs": [
    {
     "name": "stdout",
     "output_type": "stream",
     "text": [
      "Dataview loaded successfully.\n"
     ]
    }
   ],
   "source": [
    "dataview_folder = './JAQS_Data/hs300'\n",
    "dv = DataView()\n",
    "dv.load_dataview(dataview_folder)"
   ]
  },
  {
   "cell_type": "code",
   "execution_count": 3,
   "metadata": {
    "collapsed": true
   },
   "outputs": [],
   "source": [
    "from datetime import timedelta\n",
    "\n",
    "def change_columns_index(signal):\n",
    "    # 改名称\n",
    "    new_names = {}\n",
    "    for c in signal.columns:\n",
    "        if c.endswith('SZ'):\n",
    "            new_names[c] = c.replace('SZ', 'XSHE')\n",
    "        elif c.endswith('SH'):\n",
    "            new_names[c] = c.replace('SH', 'XSHG')\n",
    "    signal = signal.rename_axis(new_names, axis=1)\n",
    "    # 改时间索引\n",
    "    signal.index = pd.Index(map(lambda x: datetime.strptime(str(x),\"%Y%m%d\") , signal.index))\n",
    "    # 加15个小时\n",
    "    signal.index = pd.Index(map(lambda x: x+timedelta(hours=15) , signal.index))\n",
    "    return signal"
   ]
  },
  {
   "cell_type": "code",
   "execution_count": 4,
   "metadata": {
    "collapsed": true
   },
   "outputs": [],
   "source": [
    "factor = change_columns_index(dv.get_ts('roe_pb_Q5'))"
   ]
  },
  {
   "cell_type": "code",
   "execution_count": 6,
   "metadata": {},
   "outputs": [
    {
     "name": "stdout",
     "output_type": "stream",
     "text": [
      "symbol               000001.XSHE  000002.XSHE  000008.XSHE  000009.XSHE  \\\n",
      "2017-12-25 15:00:00          1.0          NaN          NaN          NaN   \n",
      "2017-12-26 15:00:00          1.0          NaN          NaN          NaN   \n",
      "2017-12-27 15:00:00          1.0          NaN          NaN          NaN   \n",
      "2017-12-28 15:00:00          1.0          NaN          NaN          NaN   \n",
      "2017-12-29 15:00:00          1.0          NaN          NaN          NaN   \n",
      "\n",
      "symbol               000027.XSHE  000039.XSHE  000046.XSHE  000060.XSHE  \\\n",
      "2017-12-25 15:00:00          NaN          NaN          NaN          NaN   \n",
      "2017-12-26 15:00:00          NaN          NaN          NaN          NaN   \n",
      "2017-12-27 15:00:00          NaN          NaN          NaN          NaN   \n",
      "2017-12-28 15:00:00          NaN          NaN          NaN          NaN   \n",
      "2017-12-29 15:00:00          NaN          NaN          NaN          NaN   \n",
      "\n",
      "symbol               000061.XSHE  000063.XSHE     ...       601992.XSHG  \\\n",
      "2017-12-25 15:00:00          NaN          NaN     ...               NaN   \n",
      "2017-12-26 15:00:00          NaN          NaN     ...               NaN   \n",
      "2017-12-27 15:00:00          NaN          NaN     ...               NaN   \n",
      "2017-12-28 15:00:00          NaN          NaN     ...               NaN   \n",
      "2017-12-29 15:00:00          NaN          NaN     ...               NaN   \n",
      "\n",
      "symbol               601997.XSHG  601998.XSHG  603000.XSHG  603160.XSHG  \\\n",
      "2017-12-25 15:00:00          1.0          1.0          NaN          NaN   \n",
      "2017-12-26 15:00:00          1.0          1.0          NaN          NaN   \n",
      "2017-12-27 15:00:00          1.0          1.0          NaN          NaN   \n",
      "2017-12-28 15:00:00          1.0          1.0          NaN          NaN   \n",
      "2017-12-29 15:00:00          1.0          1.0          NaN          NaN   \n",
      "\n",
      "symbol               603799.XSHG  603833.XSHG  603858.XSHG  603885.XSHG  \\\n",
      "2017-12-25 15:00:00          NaN          NaN          NaN          NaN   \n",
      "2017-12-26 15:00:00          NaN          NaN          NaN          NaN   \n",
      "2017-12-27 15:00:00          NaN          NaN          NaN          NaN   \n",
      "2017-12-28 15:00:00          NaN          NaN          NaN          NaN   \n",
      "2017-12-29 15:00:00          NaN          NaN          NaN          NaN   \n",
      "\n",
      "symbol               603993.XSHG  \n",
      "2017-12-25 15:00:00          NaN  \n",
      "2017-12-26 15:00:00          NaN  \n",
      "2017-12-27 15:00:00          NaN  \n",
      "2017-12-28 15:00:00          NaN  \n",
      "2017-12-29 15:00:00          NaN  \n",
      "\n",
      "[5 rows x 376 columns]\n"
     ]
    }
   ],
   "source": [
    "print(factor.tail())"
   ]
  },
  {
   "cell_type": "code",
   "execution_count": null,
   "metadata": {
    "collapsed": true
   },
   "outputs": [],
   "source": []
  }
 ],
 "metadata": {
  "kernelspec": {
   "display_name": "Python 3",
   "language": "python",
   "name": "python3"
  },
  "language_info": {
   "codemirror_mode": {
    "name": "ipython",
    "version": 3
   },
   "file_extension": ".py",
   "mimetype": "text/x-python",
   "name": "python",
   "nbconvert_exporter": "python",
   "pygments_lexer": "ipython3",
   "version": "3.6.1"
  }
 },
 "nbformat": 4,
 "nbformat_minor": 2
}
