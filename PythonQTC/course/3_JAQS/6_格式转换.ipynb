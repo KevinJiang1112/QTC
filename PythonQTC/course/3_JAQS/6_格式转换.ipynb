{
 "cells": [
  {
   "cell_type": "markdown",
   "metadata": {},
   "source": [
    "## 6_格式转换"
   ]
  },
  {
   "cell_type": "markdown",
   "metadata": {},
   "source": [
    "1. 读取本地数据\n",
    "2. 修改索引与列名"
   ]
  },
  {
   "cell_type": "code",
   "execution_count": 1,
   "metadata": {
    "collapsed": true
   },
   "outputs": [],
   "source": [
    "from jaqs.data import DataView\n",
    "import os\n",
    "import numpy as np\n",
    "import warnings\n",
    "import pandas as pd\n",
    "from datetime import datetime\n",
    "\n",
    "warnings.filterwarnings(\"ignore\")"
   ]
  },
  {
   "cell_type": "code",
   "execution_count": 2,
   "metadata": {},
   "outputs": [
    {
     "name": "stdout",
     "output_type": "stream",
     "text": [
      "Dataview loaded successfully.\n"
     ]
    }
   ],
   "source": [
    "dataview_folder = 'JAQS_Data/hs300'\n",
    "dv = DataView()\n",
    "dv.load_dataview(dataview_folder)"
   ]
  },
  {
   "cell_type": "code",
   "execution_count": 3,
   "metadata": {
    "collapsed": true
   },
   "outputs": [],
   "source": [
    "from datetime import timedelta\n",
    "\n",
    "def change_columns_index(signal):\n",
    "    new_names = {}\n",
    "    for c in signal.columns:\n",
    "        if c.endswith('SZ'):\n",
    "            new_names[c] = c.replace('SZ', 'XSHE')\n",
    "        elif c.endswith('SH'):\n",
    "            new_names[c] = c.replace('SH', 'XSHG')\n",
    "    signal = signal.rename_axis(new_names, axis=1)\n",
    "    signal.index = pd.Index(map(lambda x: datetime.strptime(str(x),\"%Y%m%d\") , signal.index))\n",
    "    signal.index = pd.Index(map(lambda x: x+timedelta(hours=15) , signal.index))\n",
    "    return signal"
   ]
  },
  {
   "cell_type": "code",
   "execution_count": 4,
   "metadata": {
    "collapsed": true
   },
   "outputs": [],
   "source": [
    "prices = change_columns_index(dv.get_ts('close_adj'))"
   ]
  },
  {
   "cell_type": "code",
   "execution_count": 5,
   "metadata": {
    "collapsed": true
   },
   "outputs": [],
   "source": [
    "group = change_columns_index(dv.get_ts('group'))"
   ]
  },
  {
   "cell_type": "code",
   "execution_count": 6,
   "metadata": {
    "collapsed": true
   },
   "outputs": [],
   "source": [
    "mask = change_columns_index(dv.get_ts('mask_fundamental'))"
   ]
  },
  {
   "cell_type": "code",
   "execution_count": 7,
   "metadata": {
    "collapsed": true
   },
   "outputs": [],
   "source": [
    "factor_roe = change_columns_index(dv.get_ts('roe').shift(1,axis=0))[mask==0]"
   ]
  },
  {
   "cell_type": "code",
   "execution_count": 8,
   "metadata": {
    "collapsed": true
   },
   "outputs": [],
   "source": [
    "event = change_columns_index(dv.get_ts('sig'))"
   ]
  },
  {
   "cell_type": "code",
   "execution_count": 9,
   "metadata": {},
   "outputs": [
    {
     "name": "stdout",
     "output_type": "stream",
     "text": [
      "symbol               000001.XSHE  000002.XSHE  000008.XSHE  000009.XSHE  \\\n",
      "2012-01-04 15:00:00        15.16         7.33         6.62        10.10   \n",
      "2012-01-05 15:00:00        15.39         7.25         6.35         9.54   \n",
      "2012-01-06 15:00:00        15.35         7.16         6.39        10.11   \n",
      "2012-01-09 15:00:00        15.78         7.41         6.71        11.12   \n",
      "2012-01-10 15:00:00        15.78         7.53         7.05        11.59   \n",
      "\n",
      "symbol               000012.XSHE  000021.XSHE  000024.XSHE  000027.XSHE  \\\n",
      "2012-01-04 15:00:00         8.62         5.07        17.79         6.03   \n",
      "2012-01-05 15:00:00         8.20         4.91        17.95         5.95   \n",
      "2012-01-06 15:00:00         8.27         5.00        17.68         6.03   \n",
      "2012-01-09 15:00:00         8.70         5.21        18.21         6.25   \n",
      "2012-01-10 15:00:00         9.57         5.43        18.43         6.39   \n",
      "\n",
      "symbol               000031.XSHE  000039.XSHE     ...       601998.XSHG  \\\n",
      "2012-01-04 15:00:00         3.75        12.25     ...          4.035033   \n",
      "2012-01-05 15:00:00         3.63        12.14     ...          4.146274   \n",
      "2012-01-06 15:00:00         3.66        12.30     ...          4.196839   \n",
      "2012-01-09 15:00:00         3.76        13.07     ...          4.257516   \n",
      "2012-01-10 15:00:00         3.91        13.79     ...          4.318193   \n",
      "\n",
      "symbol               603000.XSHG  603160.XSHG  603288.XSHG  603699.XSHG  \\\n",
      "2012-01-04 15:00:00          NaN          NaN          NaN          NaN   \n",
      "2012-01-05 15:00:00          NaN          NaN          NaN          NaN   \n",
      "2012-01-06 15:00:00          NaN          NaN          NaN          NaN   \n",
      "2012-01-09 15:00:00          NaN          NaN          NaN          NaN   \n",
      "2012-01-10 15:00:00          NaN          NaN          NaN          NaN   \n",
      "\n",
      "symbol               603799.XSHG  603833.XSHG  603858.XSHG  603885.XSHG  \\\n",
      "2012-01-04 15:00:00          NaN          NaN          NaN          NaN   \n",
      "2012-01-05 15:00:00          NaN          NaN          NaN          NaN   \n",
      "2012-01-06 15:00:00          NaN          NaN          NaN          NaN   \n",
      "2012-01-09 15:00:00          NaN          NaN          NaN          NaN   \n",
      "2012-01-10 15:00:00          NaN          NaN          NaN          NaN   \n",
      "\n",
      "symbol               603993.XSHG  \n",
      "2012-01-04 15:00:00          NaN  \n",
      "2012-01-05 15:00:00          NaN  \n",
      "2012-01-06 15:00:00          NaN  \n",
      "2012-01-09 15:00:00          NaN  \n",
      "2012-01-10 15:00:00          NaN  \n",
      "\n",
      "[5 rows x 539 columns]\n"
     ]
    }
   ],
   "source": [
    "print(prices.head())"
   ]
  },
  {
   "cell_type": "code",
   "execution_count": 10,
   "metadata": {},
   "outputs": [
    {
     "name": "stdout",
     "output_type": "stream",
     "text": [
      "symbol              000001.XSHE  000002.XSHE                000008.XSHE  \\\n",
      "2012-01-04 15:00:00     Finance  Real_Estate  Accommodation_Restaurants   \n",
      "2012-01-05 15:00:00     Finance  Real_Estate  Accommodation_Restaurants   \n",
      "2012-01-06 15:00:00     Finance  Real_Estate  Accommodation_Restaurants   \n",
      "2012-01-09 15:00:00     Finance  Real_Estate  Accommodation_Restaurants   \n",
      "2012-01-10 15:00:00     Finance  Real_Estate  Accommodation_Restaurants   \n",
      "\n",
      "symbol                       000009.XSHE    000012.XSHE    000021.XSHE  \\\n",
      "2012-01-04 15:00:00  Synthesise_Industry  Manufacturing  Manufacturing   \n",
      "2012-01-05 15:00:00  Synthesise_Industry  Manufacturing  Manufacturing   \n",
      "2012-01-06 15:00:00  Synthesise_Industry  Manufacturing  Manufacturing   \n",
      "2012-01-09 15:00:00  Synthesise_Industry  Manufacturing  Manufacturing   \n",
      "2012-01-10 15:00:00  Synthesise_Industry  Manufacturing  Manufacturing   \n",
      "\n",
      "symbol               000024.XSHE 000027.XSHE  000031.XSHE    000039.XSHE  \\\n",
      "2012-01-04 15:00:00  Real_Estate      Energy          NaN  Manufacturing   \n",
      "2012-01-05 15:00:00  Real_Estate      Energy          NaN  Manufacturing   \n",
      "2012-01-06 15:00:00  Real_Estate      Energy          NaN  Manufacturing   \n",
      "2012-01-09 15:00:00  Real_Estate      Energy          NaN  Manufacturing   \n",
      "2012-01-10 15:00:00  Real_Estate      Energy          NaN  Manufacturing   \n",
      "\n",
      "symbol                  ...     601998.XSHG             603000.XSHG  \\\n",
      "2012-01-04 15:00:00     ...         Finance  Information_Technology   \n",
      "2012-01-05 15:00:00     ...         Finance  Information_Technology   \n",
      "2012-01-06 15:00:00     ...         Finance  Information_Technology   \n",
      "2012-01-09 15:00:00     ...         Finance  Information_Technology   \n",
      "2012-01-10 15:00:00     ...         Finance  Information_Technology   \n",
      "\n",
      "symbol                 603160.XSHG    603288.XSHG    603699.XSHG  \\\n",
      "2012-01-04 15:00:00  Manufacturing  Manufacturing  Manufacturing   \n",
      "2012-01-05 15:00:00  Manufacturing  Manufacturing  Manufacturing   \n",
      "2012-01-06 15:00:00  Manufacturing  Manufacturing  Manufacturing   \n",
      "2012-01-09 15:00:00  Manufacturing  Manufacturing  Manufacturing   \n",
      "2012-01-10 15:00:00  Manufacturing  Manufacturing  Manufacturing   \n",
      "\n",
      "symbol                 603799.XSHG    603833.XSHG    603858.XSHG  \\\n",
      "2012-01-04 15:00:00  Manufacturing  Manufacturing  Manufacturing   \n",
      "2012-01-05 15:00:00  Manufacturing  Manufacturing  Manufacturing   \n",
      "2012-01-06 15:00:00  Manufacturing  Manufacturing  Manufacturing   \n",
      "2012-01-09 15:00:00  Manufacturing  Manufacturing  Manufacturing   \n",
      "2012-01-10 15:00:00  Manufacturing  Manufacturing  Manufacturing   \n",
      "\n",
      "symbol                  603885.XSHG 603993.XSHG  \n",
      "2012-01-04 15:00:00  Transportation      Mining  \n",
      "2012-01-05 15:00:00  Transportation      Mining  \n",
      "2012-01-06 15:00:00  Transportation      Mining  \n",
      "2012-01-09 15:00:00  Transportation      Mining  \n",
      "2012-01-10 15:00:00  Transportation      Mining  \n",
      "\n",
      "[5 rows x 539 columns]\n"
     ]
    }
   ],
   "source": [
    "print(group.head())"
   ]
  },
  {
   "cell_type": "code",
   "execution_count": 11,
   "metadata": {},
   "outputs": [
    {
     "name": "stdout",
     "output_type": "stream",
     "text": [
      "symbol               000001.XSHE  000002.XSHE  000008.XSHE  000009.XSHE  \\\n",
      "2012-01-04 15:00:00          NaN          NaN          NaN          NaN   \n",
      "2012-01-05 15:00:00      14.8946       7.8656      -0.5943        9.002   \n",
      "2012-01-06 15:00:00      14.8946       7.8656      -0.5943        9.002   \n",
      "2012-01-09 15:00:00      14.8946       7.8656      -0.5943        9.002   \n",
      "2012-01-10 15:00:00      14.8946       7.8656      -0.5943        9.002   \n",
      "\n",
      "symbol               000012.XSHE  000021.XSHE  000024.XSHE  000027.XSHE  \\\n",
      "2012-01-04 15:00:00          NaN          NaN          NaN          NaN   \n",
      "2012-01-05 15:00:00      16.8596       4.5052      10.8648       7.0081   \n",
      "2012-01-06 15:00:00      16.8596       4.5052      10.8648       7.0081   \n",
      "2012-01-09 15:00:00      16.8596       4.5052      10.8648       7.0081   \n",
      "2012-01-10 15:00:00      16.8596       4.5052      10.8648       7.0081   \n",
      "\n",
      "symbol               000031.XSHE  000039.XSHE     ...       601998.XSHG  \\\n",
      "2012-01-04 15:00:00          NaN          NaN     ...               NaN   \n",
      "2012-01-05 15:00:00       2.7566      19.1123     ...           16.7396   \n",
      "2012-01-06 15:00:00       2.7566      19.1123     ...           16.7396   \n",
      "2012-01-09 15:00:00       2.7566      19.1123     ...           16.7396   \n",
      "2012-01-10 15:00:00       2.7566      19.1123     ...           16.7396   \n",
      "\n",
      "symbol               603000.XSHG  603160.XSHG  603288.XSHG  603699.XSHG  \\\n",
      "2012-01-04 15:00:00          NaN          NaN          NaN          NaN   \n",
      "2012-01-05 15:00:00          NaN          NaN          NaN          NaN   \n",
      "2012-01-06 15:00:00          NaN          NaN          NaN          NaN   \n",
      "2012-01-09 15:00:00          NaN          NaN          NaN          NaN   \n",
      "2012-01-10 15:00:00       5.9636          NaN          NaN          NaN   \n",
      "\n",
      "symbol               603799.XSHG  603833.XSHG  603858.XSHG  603885.XSHG  \\\n",
      "2012-01-04 15:00:00          NaN          NaN          NaN          NaN   \n",
      "2012-01-05 15:00:00          NaN          NaN          NaN          NaN   \n",
      "2012-01-06 15:00:00          NaN          NaN          NaN          NaN   \n",
      "2012-01-09 15:00:00          NaN          NaN          NaN          NaN   \n",
      "2012-01-10 15:00:00          NaN          NaN          NaN          NaN   \n",
      "\n",
      "symbol               603993.XSHG  \n",
      "2012-01-04 15:00:00          NaN  \n",
      "2012-01-05 15:00:00       8.1594  \n",
      "2012-01-06 15:00:00       8.1594  \n",
      "2012-01-09 15:00:00       8.1594  \n",
      "2012-01-10 15:00:00       8.1594  \n",
      "\n",
      "[5 rows x 539 columns]\n"
     ]
    }
   ],
   "source": [
    "print(factor_roe.head())"
   ]
  },
  {
   "cell_type": "code",
   "execution_count": null,
   "metadata": {
    "collapsed": true
   },
   "outputs": [],
   "source": []
  },
  {
   "cell_type": "code",
   "execution_count": null,
   "metadata": {
    "collapsed": true
   },
   "outputs": [],
   "source": []
  }
 ],
 "metadata": {
  "kernelspec": {
   "display_name": "Python 3",
   "language": "python",
   "name": "python3"
  },
  "language_info": {
   "codemirror_mode": {
    "name": "ipython",
    "version": 3
   },
   "file_extension": ".py",
   "mimetype": "text/x-python",
   "name": "python",
   "nbconvert_exporter": "python",
   "pygments_lexer": "ipython3",
   "version": "3.6.1"
  }
 },
 "nbformat": 4,
 "nbformat_minor": 2
}
