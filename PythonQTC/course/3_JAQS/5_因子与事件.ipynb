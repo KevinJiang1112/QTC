{
 "cells": [
  {
   "cell_type": "markdown",
   "metadata": {},
   "source": [
    "## 因子与事件"
   ]
  },
  {
   "cell_type": "markdown",
   "metadata": {},
   "source": [
    "1. 读取本地数据\n",
    "2. 获取因子位移\n",
    "3. 获取事件驱动\n",
    "4. 算法介绍链接"
   ]
  },
  {
   "cell_type": "markdown",
   "metadata": {},
   "source": [
    "## 1_读取本地数据"
   ]
  },
  {
   "cell_type": "code",
   "execution_count": 1,
   "metadata": {
    "collapsed": true
   },
   "outputs": [],
   "source": [
    "from jaqs.data import DataView\n",
    "from jaqs.data import RemoteDataService\n",
    "import os\n",
    "import numpy as np\n",
    "import warnings\n",
    "\n",
    "warnings.filterwarnings(\"ignore\")"
   ]
  },
  {
   "cell_type": "code",
   "execution_count": 2,
   "metadata": {},
   "outputs": [
    {
     "name": "stdout",
     "output_type": "stream",
     "text": [
      "Dataview loaded successfully.\n"
     ]
    }
   ],
   "source": [
    "dv = DataView()\n",
    "dataview_folder = 'JAQS_Data/hs300'\n",
    "dv.load_dataview(dataview_folder)"
   ]
  },
  {
   "cell_type": "markdown",
   "metadata": {},
   "source": [
    "## 2_获取因子位移\n",
    "例子以roe为因子"
   ]
  },
  {
   "cell_type": "code",
   "execution_count": 3,
   "metadata": {
    "collapsed": true
   },
   "outputs": [],
   "source": [
    "def get_factor(factor_str):\n",
    "    factor = dv.get_ts(factor_str).shift(1, axis=0).dropna(how='all')\n",
    "    return factor"
   ]
  },
  {
   "cell_type": "code",
   "execution_count": 4,
   "metadata": {},
   "outputs": [
    {
     "name": "stdout",
     "output_type": "stream",
     "text": [
      "symbol      000001.SZ  000002.SZ  000008.SZ  000009.SZ  000012.SZ  000021.SZ  \\\n",
      "trade_date                                                                     \n",
      "20171218       9.1144      9.652     1.9734     3.9566     8.8008     8.4741   \n",
      "20171219       9.1144      9.652     1.9734     3.9566     8.8008     8.4741   \n",
      "20171220       9.1144      9.652     1.9734     3.9566     8.8008     8.4741   \n",
      "20171221       9.1144      9.652     1.9734     3.9566     8.8008     8.4741   \n",
      "20171222       9.1144      9.652     1.9734     3.9566     8.8008     8.4741   \n",
      "\n",
      "symbol      000024.SZ  000027.SZ  000031.SZ  000039.SZ    ...      601998.SH  \\\n",
      "trade_date                                                ...                  \n",
      "20171218       6.9381     3.6666     8.7558     4.3723    ...         8.9627   \n",
      "20171219       6.9381     3.6666     8.7558     4.3723    ...         8.9627   \n",
      "20171220       6.9381     3.6666     8.7558     4.3723    ...         8.9627   \n",
      "20171221       6.9381     3.6666     8.7558     4.3723    ...         8.9627   \n",
      "20171222       6.9381     3.6666     8.7558     4.3723    ...         8.9627   \n",
      "\n",
      "symbol      603000.SH  603160.SH  603288.SH  603699.SH  603799.SH  603833.SH  \\\n",
      "trade_date                                                                     \n",
      "20171218       0.5913    25.0932    24.4827     6.2495    22.7842    20.9629   \n",
      "20171219       0.5913    25.0932    24.4827     6.2495    22.7842    20.9629   \n",
      "20171220       0.5913    25.0932    24.4827     6.2495    22.7842    20.9629   \n",
      "20171221       0.5913    25.0932    24.4827     6.2495    22.7842    20.9629   \n",
      "20171222       0.5913    25.0932    24.4827     6.2495    22.7842    20.9629   \n",
      "\n",
      "symbol      603858.SH  603885.SH  603993.SH  \n",
      "trade_date                                   \n",
      "20171218       8.9546    15.3731     5.7288  \n",
      "20171219       8.9546    15.3731     5.7288  \n",
      "20171220       8.9546    15.3731     5.7288  \n",
      "20171221       8.9546    15.3731     5.7288  \n",
      "20171222       8.9546    15.3731     5.7288  \n",
      "\n",
      "[5 rows x 539 columns]\n"
     ]
    }
   ],
   "source": [
    "print(get_factor('roe').tail())"
   ]
  },
  {
   "cell_type": "markdown",
   "metadata": {},
   "source": [
    "## 3_获取事件驱动\n",
    "例子以突破10日最高为事件"
   ]
  },
  {
   "cell_type": "code",
   "execution_count": 5,
   "metadata": {
    "collapsed": true
   },
   "outputs": [],
   "source": [
    "def get_event():\n",
    "    dv.add_formula('new_high', 'close_adj>=Ts_Max(close_adj,10)', is_quarterly=False)\n",
    "    dv.add_formula('new_high_delay', 'Delay(Ts_Max(new_high,5),1)', is_quarterly=False)\n",
    "    dv.add_formula('sig', 'new_high && (! new_high_delay)', is_quarterly=False)\n",
    "    event = dv.get_ts('sig').dropna(how='all')\n",
    "    return event"
   ]
  },
  {
   "cell_type": "code",
   "execution_count": 6,
   "metadata": {},
   "outputs": [
    {
     "name": "stdout",
     "output_type": "stream",
     "text": [
      "symbol      000001.SZ  000002.SZ  000008.SZ  000009.SZ  000012.SZ  000021.SZ  \\\n",
      "trade_date                                                                     \n",
      "20120104          0.0        0.0        0.0        0.0        0.0        0.0   \n",
      "20120105          0.0        0.0        0.0        0.0        0.0        0.0   \n",
      "20120106          0.0        0.0        0.0        0.0        0.0        0.0   \n",
      "20120109          0.0        0.0        0.0        0.0        0.0        0.0   \n",
      "20120110          0.0        1.0        0.0        1.0        1.0        1.0   \n",
      "\n",
      "symbol      000024.SZ  000027.SZ  000031.SZ  000039.SZ    ...      601998.SH  \\\n",
      "trade_date                                                ...                  \n",
      "20120104          0.0        0.0        0.0        0.0    ...            0.0   \n",
      "20120105          0.0        0.0        0.0        0.0    ...            0.0   \n",
      "20120106          0.0        0.0        0.0        0.0    ...            0.0   \n",
      "20120109          0.0        1.0        0.0        0.0    ...            0.0   \n",
      "20120110          1.0        0.0        0.0        0.0    ...            0.0   \n",
      "\n",
      "symbol      603000.SH  603160.SH  603288.SH  603699.SH  603799.SH  603833.SH  \\\n",
      "trade_date                                                                     \n",
      "20120104          NaN        NaN        NaN        NaN        NaN        NaN   \n",
      "20120105          NaN        NaN        NaN        NaN        NaN        NaN   \n",
      "20120106          NaN        NaN        NaN        NaN        NaN        NaN   \n",
      "20120109          NaN        NaN        NaN        NaN        NaN        NaN   \n",
      "20120110          NaN        NaN        NaN        NaN        NaN        NaN   \n",
      "\n",
      "symbol      603858.SH  603885.SH  603993.SH  \n",
      "trade_date                                   \n",
      "20120104          NaN        NaN        NaN  \n",
      "20120105          NaN        NaN        NaN  \n",
      "20120106          NaN        NaN        NaN  \n",
      "20120109          NaN        NaN        NaN  \n",
      "20120110          NaN        NaN        NaN  \n",
      "\n",
      "[5 rows x 539 columns]\n"
     ]
    }
   ],
   "source": [
    "event = get_event()\n",
    "print(event.head())"
   ]
  },
  {
   "cell_type": "markdown",
   "metadata": {},
   "source": [
    "## 4_算法介绍链接\n",
    "https://www.quantos.org/jaqs/doc.html"
   ]
  },
  {
   "cell_type": "code",
   "execution_count": 7,
   "metadata": {},
   "outputs": [
    {
     "name": "stdout",
     "output_type": "stream",
     "text": [
      "\n",
      "Store data...\n",
      "Dataview has been successfully saved to:\n",
      "C:\\Users\\small\\OneDrive\\notebook\\Internet_Course\\JAQS\\JAQS_Data\\hs300\n",
      "\n",
      "You can load it with load_dataview('C:\\Users\\small\\OneDrive\\notebook\\Internet_Course\\JAQS\\JAQS_Data\\hs300')\n"
     ]
    }
   ],
   "source": [
    "dv.save_dataview('JAQS_Data/hs300')"
   ]
  }
 ],
 "metadata": {
  "kernelspec": {
   "display_name": "Python 3",
   "language": "python",
   "name": "python3"
  },
  "language_info": {
   "codemirror_mode": {
    "name": "ipython",
    "version": 3
   },
   "file_extension": ".py",
   "mimetype": "text/x-python",
   "name": "python",
   "nbconvert_exporter": "python",
   "pygments_lexer": "ipython3",
   "version": "3.6.1"
  }
 },
 "nbformat": 4,
 "nbformat_minor": 2
}
