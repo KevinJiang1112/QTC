{
 "cells": [
  {
   "cell_type": "markdown",
   "metadata": {},
   "source": [
    "## 条件过滤"
   ]
  },
  {
   "cell_type": "markdown",
   "metadata": {},
   "source": [
    "1. 读取本地数据\n",
    "2. 基本面因子（过滤指数成分停牌涨跌停）\n",
    "3. 技术因子与事件驱动（可买可卖）"
   ]
  },
  {
   "cell_type": "markdown",
   "metadata": {},
   "source": [
    "## 1_读取本地数据"
   ]
  },
  {
   "cell_type": "code",
   "execution_count": 1,
   "metadata": {},
   "outputs": [
    {
     "name": "stderr",
     "output_type": "stream",
     "text": [
      "D:\\Anaconda3\\lib\\importlib\\__init__.py:126: FutureWarning: The pandas.core.datetools module is deprecated and will be removed in a future version. Please use the pandas.tseries module instead.\n",
      "  return _bootstrap._gcd_import(name[level:], package, level)\n",
      "D:\\Anaconda3\\lib\\site-packages\\matplotlib\\__init__.py:1405: UserWarning: \n",
      "This call to matplotlib.use() has no effect because the backend has already\n",
      "been chosen; matplotlib.use() must be called *before* pylab, matplotlib.pyplot,\n",
      "or matplotlib.backends is imported for the first time.\n",
      "\n",
      "  warnings.warn(_use_error_msg)\n"
     ]
    }
   ],
   "source": [
    "import jaqs_fxdayu\n",
    "jaqs_fxdayu.patch_all()\n",
    "from jaqs.data import DataView\n",
    "from jaqs.data import RemoteDataService\n",
    "import os\n",
    "import numpy as np\n",
    "import warnings\n",
    "\n",
    "warnings.filterwarnings(\"ignore\")"
   ]
  },
  {
   "cell_type": "code",
   "execution_count": 2,
   "metadata": {},
   "outputs": [
    {
     "name": "stdout",
     "output_type": "stream",
     "text": [
      "Dataview loaded successfully.\n"
     ]
    }
   ],
   "source": [
    "dataview_folder = './JAQS_Data/hs300'\n",
    "dv = DataView()\n",
    "dv.load_dataview(dataview_folder)"
   ]
  },
  {
   "cell_type": "markdown",
   "metadata": {},
   "source": [
    "## 3_过滤停牌涨跌停（可买可卖）\n",
    "\n",
    "mask_index_member为要过滤的为True\n",
    "\n",
    "can_enter与can_exit皆为可交易为True"
   ]
  },
  {
   "cell_type": "code",
   "execution_count": 3,
   "metadata": {
    "collapsed": true
   },
   "outputs": [],
   "source": [
    "from jaqs_fxdayu.util import dp\n",
    "from jaqs.data.dataapi import DataApi\n",
    "\n",
    "def mask_index():\n",
    "    df_index_member = dv.get_ts('index_member')\n",
    "    mask_index_member = df_index_member==0 #定义信号过滤条件-非指数成分\n",
    "    return mask_index_member\n",
    "\n",
    "def limit_up_down():\n",
    "    # 定义可买卖条件——未停牌、未涨跌停\n",
    "    trade_status = dv.get_ts('trade_status')\n",
    "    mask_sus = trade_status == u'停牌'\n",
    "    # 涨停\n",
    "#     dv.remove_field('up_limit')\n",
    "    dv.add_formula('up_limit', '(close - Delay(close, 1)) / Delay(close, 1) > 0.095', is_quarterly=False, add_data=True)\n",
    "    # 跌停\n",
    "#     dv.remove_field('down_limit')\n",
    "    dv.add_formula('down_limit', '(close - Delay(close, 1)) / Delay(close, 1) < -0.095', is_quarterly=False, add_data=True)\n",
    "    can_enter = np.logical_and(dv.get_ts('up_limit') < 1, ~mask_sus) # 未涨停未停牌\n",
    "    can_exit = np.logical_and(dv.get_ts('down_limit') < 1, ~mask_sus) # 未跌停未停牌\n",
    "    return can_enter,can_exit"
   ]
  },
  {
   "cell_type": "code",
   "execution_count": 4,
   "metadata": {},
   "outputs": [
    {
     "name": "stdout",
     "output_type": "stream",
     "text": [
      "Field [up_limit] is overwritten.\n",
      "Field [down_limit] is overwritten.\n"
     ]
    }
   ],
   "source": [
    "mask_index_member = mask_index()\n",
    "can_enter,can_exit = limit_up_down()"
   ]
  },
  {
   "cell_type": "code",
   "execution_count": 5,
   "metadata": {
    "collapsed": true
   },
   "outputs": [],
   "source": [
    "# dv.remove_field('mask_index_member')\n",
    "# dv.remove_field('can_enter')\n",
    "# dv.remove_field('can_exit')"
   ]
  },
  {
   "cell_type": "code",
   "execution_count": 6,
   "metadata": {},
   "outputs": [
    {
     "name": "stdout",
     "output_type": "stream",
     "text": [
      "Field [mask_index_member] is overwritten.\n",
      "Field [can_enter] is overwritten.\n",
      "Field [can_exit] is overwritten.\n"
     ]
    }
   ],
   "source": [
    "dv.append_df(mask_index_member, 'mask_index_member')\n",
    "dv.append_df(can_enter, 'can_enter')\n",
    "dv.append_df(can_exit, 'can_exit')"
   ]
  },
  {
   "cell_type": "code",
   "execution_count": 7,
   "metadata": {},
   "outputs": [
    {
     "name": "stdout",
     "output_type": "stream",
     "text": [
      "\n",
      "Store data...\n",
      "Dataview has been successfully saved to:\n",
      "E:\\QTC\\PythonQTC\\course\\3_JAQS\\JAQS_Data\\hs300\n",
      "\n",
      "You can load it with load_dataview('E:\\QTC\\PythonQTC\\course\\3_JAQS\\JAQS_Data\\hs300')\n"
     ]
    }
   ],
   "source": [
    "dv.save_dataview('./JAQS_Data/hs300')"
   ]
  },
  {
   "cell_type": "code",
   "execution_count": 8,
   "metadata": {},
   "outputs": [
    {
     "name": "stdout",
     "output_type": "stream",
     "text": [
      "symbol      000001.SZ  000002.SZ  000008.SZ  000009.SZ  000012.SZ  000021.SZ  \\\n",
      "trade_date                                                                     \n",
      "20120105        False      False       True      False      False      False   \n",
      "20120106        False      False       True      False      False      False   \n",
      "20120109        False      False       True      False      False      False   \n",
      "20120110        False      False       True      False      False      False   \n",
      "20120111        False      False       True      False      False      False   \n",
      "\n",
      "symbol      000024.SZ  000027.SZ  000031.SZ  000039.SZ    ...      601998.SH  \\\n",
      "trade_date                                                ...                  \n",
      "20120105        False      False       True      False    ...          False   \n",
      "20120106        False      False       True      False    ...          False   \n",
      "20120109        False      False       True      False    ...          False   \n",
      "20120110        False      False       True      False    ...          False   \n",
      "20120111        False      False       True      False    ...          False   \n",
      "\n",
      "symbol      603000.SH  603160.SH  603288.SH  603699.SH  603799.SH  603833.SH  \\\n",
      "trade_date                                                                     \n",
      "20120105         True       True       True       True       True       True   \n",
      "20120106         True       True       True       True       True       True   \n",
      "20120109         True       True       True       True       True       True   \n",
      "20120110         True       True       True       True       True       True   \n",
      "20120111         True       True       True       True       True       True   \n",
      "\n",
      "symbol      603858.SH  603885.SH  603993.SH  \n",
      "trade_date                                   \n",
      "20120105         True       True       True  \n",
      "20120106         True       True       True  \n",
      "20120109         True       True       True  \n",
      "20120110         True       True       True  \n",
      "20120111         True       True       True  \n",
      "\n",
      "[5 rows x 539 columns]\n"
     ]
    }
   ],
   "source": [
    "print(dv.get_ts('mask_index_member').head())"
   ]
  }
 ],
 "metadata": {
  "kernelspec": {
   "display_name": "Python 3",
   "language": "python",
   "name": "python3"
  },
  "language_info": {
   "codemirror_mode": {
    "name": "ipython",
    "version": 3
   },
   "file_extension": ".py",
   "mimetype": "text/x-python",
   "name": "python",
   "nbconvert_exporter": "python",
   "pygments_lexer": "ipython3",
   "version": "3.6.1"
  }
 },
 "nbformat": 4,
 "nbformat_minor": 2
}
