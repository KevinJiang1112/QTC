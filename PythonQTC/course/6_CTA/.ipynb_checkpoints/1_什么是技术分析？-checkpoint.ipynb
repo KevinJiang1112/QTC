{
 "cells": [
  {
   "cell_type": "markdown",
   "metadata": {},
   "source": [
    "# 什么是技术分析？\n",
    "*量化是技术分析最好的体现*"
   ]
  },
  {
   "cell_type": "markdown",
   "metadata": {},
   "source": [
    "## 目录\n",
    "\n",
    "- 什么是技术分析?\n",
    "- 技术分析主要有哪些模块?\n",
    "- 现代的技术分析该如何使用?\n",
    "- 反对与支持的理论?\n",
    "- 什么是科学的技术分析过程？\n",
    "- Talib的数据格式"
   ]
  },
  {
   "cell_type": "markdown",
   "metadata": {},
   "source": [
    "## 什么是技术分析?\n",
    "\n",
    "定义: '技术分析是指以市场行为为研究对象，以判断市场趋势并跟随趋势的周期性变化来进行股票及一切金融衍生物交易决策的方法的总和。'\n",
    "\n",
    "    \n",
    "- **三大假设**：技术分析认为市场行为包容消化一切信息、价格以趋势演变、历史会重演。\n",
    "- **数据计算**：价格高开低收，成交量，技术指标。\n",
    "- **对比量化**：量化是技术分析最好的体现，相同在假设历史数据可以预测未来，不同在量化需要跟多的统计学习方法。"
   ]
  },
  {
   "cell_type": "markdown",
   "metadata": {},
   "source": [
    "## 技术分析主要有哪些模块?\n",
    "1. 趋势理论\n",
    "2. 蜡烛图形态\n",
    "3. 动能指标\n",
    "4. 成交量指标\n",
    "5. 相对强弱市场\n",
    "6. 市场宽度"
   ]
  },
  {
   "cell_type": "markdown",
   "metadata": {},
   "source": [
    "## 现代的技术分析该如何使用？\n",
    "- 机构与电脑的崛起：技术分析需要适应市场的改变。\n",
    "- 小投资者掌握交易策略：分析环境才是获利的核心。\n",
    "- 机构交易量剧增：资金流量是分析的核心，特别是机构与散户的持仓。\n",
    "- 手续费极低：导致市场牛熊转变加快，需要专注在市场的改变。\n",
    "- 全球一体化：要使用相关性与板块轮动等策略\n",
    "- 电脑大数据计算：自动收集数据方便统计分析，如排序、过滤。"
   ]
  },
  {
   "cell_type": "markdown",
   "metadata": {},
   "source": [
    "## 反对与支持的理论?\n",
    "反对派：\n",
    "1. 有效市场假说：\n",
    "    弱有效市场（价格衍生的数据无用），半强式有效市场假说（过去的公开信息无用），强有效市场假说（内幕消息无用）\n",
    "2. 随机波动原理：\n",
    "\n",
    "## $X_t=X_{t-1}+\\epsilon$\n",
    "\n",
    "支持派：\n",
    "1. 行为金融学：\n",
    "    套利回归正确价位的限制，人类理性的限制\n",
    "    \n",
    "2. 肥尾分布：\n",
    "    价格分布有肥尾效应，两边较长"
   ]
  },
  {
   "cell_type": "markdown",
   "metadata": {},
   "source": [
    "## 什么是科学的技术分析过程？\n",
    "1. 观察市场\n",
    "2. 思考问题与现象\n",
    "3. 提出假设\n",
    "4. 设计可测试的预测模型\n",
    "5. 收集数据进行预测\n",
    "**（无效要改变条件参数等，拒绝假设，重新设计。）**\n",
    "6. 设计出客观科学的预测模型"
   ]
  },
  {
   "cell_type": "markdown",
   "metadata": {},
   "source": [
    "## TA_Lib需要什么样的数据格式？\n",
    "1. 'numpy.ndarray'\n",
    "2. dataframe\n",
    "\n",
    "安装talib编译版本：http://www.lfd.uci.edu/~gohlke/pythonlibs/"
   ]
  },
  {
   "cell_type": "code",
   "execution_count": 1,
   "metadata": {},
   "outputs": [
    {
     "name": "stdout",
     "output_type": "stream",
     "text": [
      "Dataview loaded successfully.\n"
     ]
    }
   ],
   "source": [
    "from jaqs.data import DataView\n",
    "from jaqs.data import RemoteDataService\n",
    "import os\n",
    "import numpy as np\n",
    "import warnings\n",
    "\n",
    "warnings.filterwarnings(\"ignore\")\n",
    "dv = DataView()\n",
    "dataview_folder = '../JAQS_Data/hs300'\n",
    "dv.load_dataview(dataview_folder)"
   ]
  },
  {
   "cell_type": "code",
   "execution_count": 2,
   "metadata": {},
   "outputs": [
    {
     "name": "stdout",
     "output_type": "stream",
     "text": [
      "symbol      000001.SZ  000002.SZ  000008.SZ  000009.SZ  000012.SZ  000021.SZ  \\\n",
      "trade_date                                                                     \n",
      "20171218    37.750091  34.466859  73.328226  13.700476  10.946377  10.013302   \n",
      "20171219    39.319310  35.314603  74.112019  13.681579  10.973011  10.149182   \n",
      "20171220    39.260094  34.636408  74.199107  13.492607  10.799893  10.086468   \n",
      "20171221    40.089116  35.992799  73.763667  13.417018  10.906427  10.295514   \n",
      "20171222    40.029900  36.150237  74.112019  13.662682  10.999644  10.211895   \n",
      "\n",
      "symbol      000024.SZ  000027.SZ  000031.SZ  000039.SZ    ...      601998.SH  \\\n",
      "trade_date                                                ...                  \n",
      "20171218          NaN  10.394544   8.284404  22.675761    ...       7.577115   \n",
      "20171219          NaN  10.428906   8.284404  24.448170    ...       7.651279   \n",
      "20171220          NaN  10.394544   8.284404  24.215541    ...       7.651279   \n",
      "20171221          NaN  10.411725   8.284404  24.525713    ...       7.638919   \n",
      "20171222          NaN  10.566354   8.284404  24.060455    ...       7.651279   \n",
      "\n",
      "symbol      603000.SH   603160.SH   603288.SH  603699.SH  603799.SH  \\\n",
      "trade_date                                                            \n",
      "20171218    47.712514  101.281751  199.821322  19.733790  80.653377   \n",
      "20171219    48.123475  101.914323  202.338155  19.786753  80.673505   \n",
      "20171220    47.424842  101.884201  206.151539  20.030380  79.707355   \n",
      "20171221    46.602921  101.823956  206.571011  20.040972  82.696381   \n",
      "20171222    46.315248  101.151221  203.977910  20.062157  82.253562   \n",
      "\n",
      "symbol      603833.SH  603858.SH  603885.SH  603993.SH  \n",
      "trade_date                                              \n",
      "20171218       118.58  53.261717  41.140310  21.271182  \n",
      "20171219       121.90  53.231001  41.803399  21.206626  \n",
      "20171220       121.58  51.664480  41.861058  20.657901  \n",
      "20171221       121.94  52.063790  42.552977  20.980680  \n",
      "20171222       121.00  52.708828  43.014256  20.787013  \n",
      "\n",
      "[5 rows x 539 columns]\n"
     ]
    }
   ],
   "source": [
    "#Example\n",
    "import talib as ta\n",
    "from datetime import datetime\n",
    "\n",
    "data = dv.get_ts('close_adj')\n",
    "print (data.tail())"
   ]
  },
  {
   "cell_type": "code",
   "execution_count": 3,
   "metadata": {},
   "outputs": [
    {
     "name": "stdout",
     "output_type": "stream",
     "text": [
      "[ 11.67        11.91        11.99       ...,  38.86395129  39.08814104\n",
      "  38.62657392]\n",
      "<class 'numpy.ndarray'>\n"
     ]
    }
   ],
   "source": [
    "print (data['600036.SH'].values)\n",
    "print (type(data['600036.SH'].values))"
   ]
  },
  {
   "cell_type": "code",
   "execution_count": 4,
   "metadata": {},
   "outputs": [
    {
     "data": {
      "text/plain": [
       "array([         nan,  11.79      ,  11.95      , ...,  38.79141932,\n",
       "        38.97604617,  38.85735748])"
      ]
     },
     "execution_count": 4,
     "metadata": {},
     "output_type": "execute_result"
    }
   ],
   "source": [
    "#读取'numpy.ndarray'\n",
    "ta.MA(data['600036.SH'].values, 2)"
   ]
  },
  {
   "cell_type": "code",
   "execution_count": 5,
   "metadata": {
    "scrolled": true
   },
   "outputs": [
    {
     "data": {
      "text/plain": [
       "trade_date\n",
       "20171218    37.182528\n",
       "20171219    38.039724\n",
       "20171220    38.791419\n",
       "20171221    38.976046\n",
       "20171222    38.857357\n",
       "dtype: float64"
      ]
     },
     "execution_count": 5,
     "metadata": {},
     "output_type": "execute_result"
    }
   ],
   "source": [
    "#直接读取DataFrame,默认读取cloumns名为close的数据。\n",
    "ta.abstract.MA(data, 2, price='600036.SH').tail()"
   ]
  },
  {
   "cell_type": "markdown",
   "metadata": {},
   "source": [
    "## 常见问题\n",
    "1. 技术分析有什么策略？\n",
    "2. 如何选择合适的策略？\n",
    "3. 如何优化交易策略？\n",
    "4. 如何通过策略获得稳定收益？\n",
    "5. 如何量化技术分析？"
   ]
  }
 ],
 "metadata": {
  "kernelspec": {
   "display_name": "Python 3",
   "language": "python",
   "name": "python3"
  },
  "language_info": {
   "codemirror_mode": {
    "name": "ipython",
    "version": 3
   },
   "file_extension": ".py",
   "mimetype": "text/x-python",
   "name": "python",
   "nbconvert_exporter": "python",
   "pygments_lexer": "ipython3",
   "version": "3.6.1"
  }
 },
 "nbformat": 4,
 "nbformat_minor": 2
}
