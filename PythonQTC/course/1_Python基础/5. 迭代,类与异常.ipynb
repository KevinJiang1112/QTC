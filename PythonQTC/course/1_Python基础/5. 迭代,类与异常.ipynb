{
 "cells": [
  {
   "cell_type": "markdown",
   "metadata": {},
   "source": [
    "# 迭代"
   ]
  },
  {
   "cell_type": "markdown",
   "metadata": {},
   "source": [
    "迭代就是一个遍历过程"
   ]
  },
  {
   "cell_type": "code",
   "execution_count": 16,
   "metadata": {
    "collapsed": true
   },
   "outputs": [],
   "source": [
    "def fib(maximum):\n",
    "    a, b = 0, 1\n",
    "    while a<maximum:\n",
    "        yield a\n",
    "        a, b = b, a+b"
   ]
  },
  {
   "cell_type": "code",
   "execution_count": 21,
   "metadata": {
    "collapsed": true
   },
   "outputs": [
    {
     "name": "stdout",
     "output_type": "stream",
     "text": [
      "0\n",
      "1\n",
      "1\n",
      "2\n",
      "3\n",
      "5\n",
      "8\n",
      "13\n",
      "21\n",
      "34\n",
      "55\n",
      "89\n"
     ]
    }
   ],
   "source": [
    "for n in fib(100):\n",
    "    print(n)"
   ]
  },
  {
   "cell_type": "markdown",
   "metadata": {},
   "source": [
    "# 类"
   ]
  },
  {
   "cell_type": "markdown",
   "metadata": {},
   "source": [
    "例子一："
   ]
  },
  {
   "cell_type": "code",
   "execution_count": null,
   "metadata": {
    "collapsed": true
   },
   "outputs": [],
   "source": [
    "class Stock():\n",
    "\n",
    "    def __init__(self, code, price):\n",
    "        self.code = code\n",
    "        self.price = price\n",
    "        "
   ]
  },
  {
   "cell_type": "code",
   "execution_count": null,
   "metadata": {
    "collapsed": true
   },
   "outputs": [],
   "source": [
    "# 重写"
   ]
  },
  {
   "cell_type": "markdown",
   "metadata": {},
   "source": [
    "例子二："
   ]
  },
  {
   "cell_type": "code",
   "execution_count": 30,
   "metadata": {
    "collapsed": true
   },
   "outputs": [],
   "source": [
    "# 继承\n",
    "class Calculator:\n",
    "    def calculate(self, expression):\n",
    "        self.value = eval(expression)\n",
    "    \n",
    "class Talker:\n",
    "    def talk(self):\n",
    "        print('Hi, my value is', self.value)\n",
    "        \n",
    "class TalkingCalculator(Calculator, Talker):\n",
    "    pass"
   ]
  },
  {
   "cell_type": "code",
   "execution_count": 31,
   "metadata": {
    "collapsed": false
   },
   "outputs": [
    {
     "name": "stdout",
     "output_type": "stream",
     "text": [
      "Hi, my value is 7\n"
     ]
    }
   ],
   "source": [
    "tc = TalkingCalculator()\n",
    "tc.calculate('1+2*3')\n",
    "tc.talk()"
   ]
  },
  {
   "cell_type": "code",
   "execution_count": null,
   "metadata": {
    "collapsed": true
   },
   "outputs": [],
   "source": []
  },
  {
   "cell_type": "code",
   "execution_count": null,
   "metadata": {
    "collapsed": true
   },
   "outputs": [],
   "source": [
    "# isinstance"
   ]
  },
  {
   "cell_type": "code",
   "execution_count": null,
   "metadata": {
    "collapsed": true
   },
   "outputs": [],
   "source": []
  },
  {
   "cell_type": "code",
   "execution_count": 32,
   "metadata": {
    "collapsed": true
   },
   "outputs": [
    {
     "data": {
      "text/plain": [
       "'\\n更复杂的类的内置方法\\n__iter__(), __next__()     迭代器\\n__call__(), 函数\\n__len__(), __contains__()  序列\\n__getitem__(), __setitem__(), __delitem__()  字典\\n__add__(), __sub__(),.....  数值运算\\n\\n其他： __new__(), __slots__()\\n\\n'"
      ]
     },
     "execution_count": 32,
     "metadata": {},
     "output_type": "execute_result"
    }
   ],
   "source": [
    "'''\n",
    "更复杂的类的内置方法\n",
    "__iter__(), __next__()     迭代器\n",
    "__call__(), 函数\n",
    "__len__(), __contains__()  序列\n",
    "__getitem__(), __setitem__(), __delitem__()  字典\n",
    "__add__(), __sub__(),.....  数值运算\n",
    "\n",
    "其他： __new__(), __slots__()\n",
    "\n",
    "'''"
   ]
  },
  {
   "cell_type": "code",
   "execution_count": null,
   "metadata": {
    "collapsed": true
   },
   "outputs": [],
   "source": []
  },
  {
   "cell_type": "markdown",
   "metadata": {},
   "source": [
    "## 报错处理"
   ]
  },
  {
   "cell_type": "markdown",
   "metadata": {},
   "source": [
    "### 定位与调试（第几行什么错怎么改）\n",
    "以下报错代码显示第四行出现错误，是缩进错误。"
   ]
  },
  {
   "cell_type": "code",
   "execution_count": null,
   "metadata": {
    "collapsed": true
   },
   "outputs": [],
   "source": [
    "price = 1\n",
    "if price>0:\n",
    "        print('True')\n",
    "        print(price is greater than 0)\n",
    "else:\n",
    "    print（\"False\"）"
   ]
  },
  {
   "cell_type": "markdown",
   "metadata": {},
   "source": [
    "以下报错代码显示第六行出现错误，是少了括号。"
   ]
  },
  {
   "cell_type": "code",
   "execution_count": null,
   "metadata": {
    "collapsed": true
   },
   "outputs": [],
   "source": [
    "price=1\n",
    "if price>0:\n",
    "        print ('True')\n",
    "        print ('price is greater than 0')\n",
    "else:\n",
    "    print \"False\""
   ]
  },
  {
   "cell_type": "markdown",
   "metadata": {},
   "source": [
    "以下是正确修改后的代码"
   ]
  },
  {
   "cell_type": "code",
   "execution_count": null,
   "metadata": {
    "collapsed": true
   },
   "outputs": [],
   "source": [
    "price=1\n",
    "if price>0:\n",
    "        print ('True')\n",
    "        print ('price is greater than 0')\n",
    "else:\n",
    "    print (\"False\")"
   ]
  },
  {
   "cell_type": "markdown",
   "metadata": {},
   "source": [
    "## try/except\n",
    "捕捉异常可以使用try/except语句。\n",
    "\n",
    "try/except语句用来检测try语句块中的错误，从而让except语句捕获异常信息并处理。\n",
    "\n",
    "如果你不想在异常发生时结束你的程序，只需在try里捕获它。"
   ]
  },
  {
   "cell_type": "markdown",
   "metadata": {},
   "source": [
    "try:\n",
    "\n",
    "    正常的操作\n",
    "   ......................\n",
    "   \n",
    "except:\n",
    "\n",
    "    发生异常，执行这块代码\n",
    "   ......................\n",
    "   \n",
    "else:\n",
    "\n",
    "    如果没有异常执行这块代码"
   ]
  },
  {
   "cell_type": "code",
   "execution_count": null,
   "metadata": {
    "collapsed": true
   },
   "outputs": [],
   "source": [
    "# 定义函数\n",
    "def test_price(price):\n",
    "    return int(price)\n",
    "# 调用函数\n",
    "test_price(\"xyz\")"
   ]
  },
  {
   "cell_type": "code",
   "execution_count": null,
   "metadata": {
    "collapsed": true
   },
   "outputs": [],
   "source": [
    "# 定义函数\n",
    "def test_price(price):\n",
    "    try:\n",
    "        p = int(price)\n",
    "    except ValueError:\n",
    "        print (\"参数不是数字\\n\")\n",
    "    else:\n",
    "        print(p+100)\n",
    "\n",
    "# 调用函数\n",
    "test_price(\"z66\")"
   ]
  },
  {
   "cell_type": "markdown",
   "metadata": {},
   "source": [
    "## raise\n",
    "使用raise语句自己触发异常"
   ]
  },
  {
   "cell_type": "code",
   "execution_count": null,
   "metadata": {
    "collapsed": true
   },
   "outputs": [],
   "source": [
    "def check_price(price):\n",
    "    if price < 0:\n",
    "        raise Exception(\"Invalid price!\", price)\n",
    "        # 触发异常后，后面的代码就不会再执行"
   ]
  },
  {
   "cell_type": "code",
   "execution_count": null,
   "metadata": {
    "collapsed": true
   },
   "outputs": [],
   "source": [
    "try:\n",
    "    check_price(-1)\n",
    "    print('right')\n",
    "    ##触发异常\n",
    "except Exception as e:\n",
    "    print(e)\n",
    "else:\n",
    "    print('can_trade')"
   ]
  }
 ],
 "metadata": {
  "kernelspec": {
   "display_name": "Python 3",
   "language": "python",
   "name": "python3"
  },
  "language_info": {
   "codemirror_mode": {
    "name": "ipython",
    "version": 3
   },
   "file_extension": ".py",
   "mimetype": "text/x-python",
   "name": "python",
   "nbconvert_exporter": "python",
   "pygments_lexer": "ipython3",
   "version": "3.6.0"
  }
 },
 "nbformat": 4,
 "nbformat_minor": 2
}
