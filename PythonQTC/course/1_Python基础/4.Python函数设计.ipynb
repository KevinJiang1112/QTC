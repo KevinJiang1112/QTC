{
 "cells": [
  {
   "cell_type": "markdown",
   "metadata": {},
   "source": [
    "## 函数定义\n",
    "\n",
    "函数是组织好的，可重复使用的，用来实现单一，或相关联功能的代码段。 \n",
    "- 可以自己创建函数，这被叫做用户自定义函数。 \n",
    "- 函数代码块以 def 关键词开头，后接函数标识符名称和圆括号()。 \n",
    "- 任何传入参数和自变量必须放在圆括号中间。圆括号之间可以用于定义参数。 \n",
    "- 函数的第一行语句可以选择性地使用文档字符串—用于存放函数说明。 \n",
    "- 函数内容以冒号起始，并且缩进。 \n",
    "- return [表达式] 结束函数，选择性地返回一个值给调用方。不带表达式的return相当于返回 None。"
   ]
  },
  {
   "cell_type": "markdown",
   "metadata": {},
   "source": [
    "### 函数语法\n",
    "def function_name( parameters ):\n",
    "\n",
    "    '函数_文档字符串'\n",
    "    functions\n",
    "    return [expression]"
   ]
  },
  {
   "cell_type": "code",
   "execution_count": 1,
   "metadata": {
    "collapsed": false
   },
   "outputs": [
    {
     "data": {
      "text/plain": [
       "4.0"
      ]
     },
     "execution_count": 1,
     "metadata": {},
     "output_type": "execute_result"
    }
   ],
   "source": [
    "def fun_1(x):\n",
    "# 为x执行平方运算，返回所得的值。\n",
    "    return (x**2)\n",
    "# 调用函数\n",
    "fun_1(2.0)"
   ]
  },
  {
   "cell_type": "markdown",
   "metadata": {},
   "source": [
    "### 参数设置\n",
    "**必备参数**\n",
    "\n",
    "必备参数须以正确的顺序传入函数。调用时的数量必须和声明时的一样。 "
   ]
  },
  {
   "cell_type": "code",
   "execution_count": 1,
   "metadata": {
    "collapsed": false
   },
   "outputs": [
    {
     "data": {
      "text/plain": [
       "60"
      ]
     },
     "execution_count": 1,
     "metadata": {},
     "output_type": "execute_result"
    }
   ],
   "source": [
    "# 必备参数实例：\n",
    "def fun_2(x,y):\n",
    "    return (x-y)\n",
    "#x,y为必备参数，需要按正确顺序输入\n",
    "fun_2(66,6)"
   ]
  },
  {
   "cell_type": "markdown",
   "metadata": {},
   "source": [
    "**关键字参数**\n",
    "\n",
    "关键字参数和函数调用关系紧密，函数调用使用关键字参数来确定传入的参数值。 "
   ]
  },
  {
   "cell_type": "code",
   "execution_count": 2,
   "metadata": {
    "collapsed": false
   },
   "outputs": [
    {
     "name": "stdout",
     "output_type": "stream",
     "text": [
      "Stock:  AAPL\n",
      "Price: 120\n"
     ]
    }
   ],
   "source": [
    "# 关键字参数实例：\n",
    "def fun_3(StockName,Price):\n",
    "    print ('Stock: ',StockName)\n",
    "    print ('Price:', Price)\n",
    "    return\n",
    "#调用函数\n",
    "fun_3(Price=120,StockName='AAPL')"
   ]
  },
  {
   "cell_type": "markdown",
   "metadata": {},
   "source": [
    "**默认参数**\n",
    "\n",
    "调用函数时，缺省参数的值如果没有传入，则被认为是默认值。 "
   ]
  },
  {
   "cell_type": "code",
   "execution_count": 4,
   "metadata": {
    "collapsed": false
   },
   "outputs": [
    {
     "name": "stdout",
     "output_type": "stream",
     "text": [
      "Stock: APPL\n",
      "Index: SPX500\n"
     ]
    }
   ],
   "source": [
    "# 默认参数实例\n",
    "def StockIndex(StockName,index='SPX500'):\n",
    "    print ('Stock:', StockName)\n",
    "    print ('Index:', index)\n",
    "StockIndex('APPL')"
   ]
  },
  {
   "cell_type": "code",
   "execution_count": 6,
   "metadata": {
    "collapsed": false
   },
   "outputs": [
    {
     "name": "stdout",
     "output_type": "stream",
     "text": [
      "Stock: APPL\n",
      "Index: NAS100\n"
     ]
    }
   ],
   "source": [
    "StockIndex('APPL',index='NAS100')"
   ]
  },
  {
   "cell_type": "markdown",
   "metadata": {},
   "source": [
    "**不定长参数**\n",
    "\n",
    "你可能需要一个函数能处理比当初声明时更多的参数。这些参数叫做不定长参数，和上述2种参数不同，声明时不会命名。 \n",
    "\n",
    "以一个＊开始的参数，代表一个任意长的元组，一个以＊＊开始的参数，代表一个字典："
   ]
  },
  {
   "cell_type": "code",
   "execution_count": 6,
   "metadata": {
    "collapsed": false
   },
   "outputs": [
    {
     "name": "stdout",
     "output_type": "stream",
     "text": [
      "(1, 2, 3, 4)\n",
      "{}\n",
      "()\n",
      "{'a': 1, 'b': 2, 'c': 3}\n",
      "(1, 2, 3, 4)\n",
      "{'a': 1, 'b': 2, 'c': 3}\n",
      "('a', 1, 'b')\n",
      "{'a': 1, 'b': '2', 'c': 3}\n"
     ]
    }
   ],
   "source": [
    "# 不定长参数实例\n",
    "def fun_4(*agrs, **kwargs):\n",
    "    print(agrs)\n",
    "    print(kwargs)\n",
    "fun_4(1,2,3,4)\n",
    "fun_4(a=1,b=2,c=3)\n",
    "fun_4(1,2,3,4, a=1,b=2,c=3)\n",
    "fun_4('a', 1, 'b', a=1, b='2', c=3)"
   ]
  },
  {
   "cell_type": "markdown",
   "metadata": {},
   "source": [
    "### 匿名函数\n",
    "python 使用 lambda 来创建匿名函数。 \n",
    "- lambda只是一个表达式，函数体比def简单很多。 \n",
    "- lambda的主体是一个表达式，而不是一个代码块。仅仅能在lambda表达式中封装有限的逻辑进去。 \n",
    "- lambda函数拥有自己的命名空间，且不能访问自有参数列表之外或全局命名空间里的参数。\n",
    "\n",
    "虽然lambda函数看起来只能写一行，却不等同于C或C++的内联函数，后者的目的是调用小函数时不占用栈内存从而增加运行效率。"
   ]
  },
  {
   "cell_type": "code",
   "execution_count": 8,
   "metadata": {
    "collapsed": false
   },
   "outputs": [
    {
     "name": "stdout",
     "output_type": "stream",
     "text": [
      "60\n"
     ]
    }
   ],
   "source": [
    "# 匿名函数实例\n",
    "fun_5 = lambda a, b: a - b\n",
    "print (fun_5(66,6))"
   ]
  },
  {
   "cell_type": "code",
   "execution_count": 9,
   "metadata": {
    "collapsed": false
   },
   "outputs": [
    {
     "data": {
      "text/plain": [
       "[0, 1, 4, 9, 16]"
      ]
     },
     "execution_count": 9,
     "metadata": {},
     "output_type": "execute_result"
    }
   ],
   "source": [
    "list(map(lambda x : x**2, range(5)))"
   ]
  },
  {
   "cell_type": "markdown",
   "metadata": {},
   "source": [
    "### return语句\n",
    "return语句[表达式]退出函数，选择性地向调用方返回一个表达式。\n",
    "\n",
    "不带参数值的return语句返回None。 "
   ]
  },
  {
   "cell_type": "code",
   "execution_count": 9,
   "metadata": {
    "collapsed": false
   },
   "outputs": [
    {
     "name": "stdout",
     "output_type": "stream",
     "text": [
      "60\n",
      "11.0\n"
     ]
    }
   ],
   "source": [
    "def fun_6(a,b):\n",
    "    answer = a-b\n",
    "    print (answer)\n",
    "    return(a/b)\n",
    "print(fun_6(66,6))"
   ]
  },
  {
   "cell_type": "markdown",
   "metadata": {},
   "source": [
    "### 变量作用域\n",
    "(全局变量与局部变量)"
   ]
  },
  {
   "cell_type": "code",
   "execution_count": 13,
   "metadata": {
    "collapsed": false
   },
   "outputs": [
    {
     "name": "stdout",
     "output_type": "stream",
     "text": [
      "局部变量： 60\n",
      "全局变量： 66\n"
     ]
    }
   ],
   "source": [
    "answer=66 # 这是一个全局变量\n",
    "def fun_7(a,b):\n",
    "    answer = a-b # answer在这里是局部变量.\n",
    "    print ('局部变量：', answer)\n",
    "    return(answer)\n",
    "fun_7(66,6)\n",
    "print('全局变量：', answer)"
   ]
  },
  {
   "cell_type": "code",
   "execution_count": 5,
   "metadata": {
    "collapsed": false
   },
   "outputs": [
    {
     "name": "stdout",
     "output_type": "stream",
     "text": [
      "4\n",
      "3\n"
     ]
    }
   ],
   "source": [
    "def fun_8(a):\n",
    "    a += 1\n",
    "    print(a)\n",
    "a = 3\n",
    "fun_8(a)\n",
    "print(a)"
   ]
  },
  {
   "cell_type": "code",
   "execution_count": 3,
   "metadata": {
    "collapsed": false
   },
   "outputs": [
    {
     "name": "stdout",
     "output_type": "stream",
     "text": [
      "[0, 1, 2, 3, 4, 5, 6]\n",
      "[0, 1, 2, 3, 4, 5, 6]\n"
     ]
    }
   ],
   "source": [
    "def fun_9(l):\n",
    "    l.pop()\n",
    "    print(l)\n",
    "list1 = list(range(8))\n",
    "fun_9(list1)\n",
    "print(list1)"
   ]
  },
  {
   "cell_type": "code",
   "execution_count": 7,
   "metadata": {
    "collapsed": false
   },
   "outputs": [
    {
     "name": "stdout",
     "output_type": "stream",
     "text": [
      "[0, 1, 2, 3, 4, 5, 6]\n",
      "[0, 1, 2, 3, 4, 5, 6]\n"
     ]
    }
   ],
   "source": [
    "def fun_9(l):\n",
    "    l.pop()\n",
    "    print(l)\n",
    "list1 = list(range(8))\n",
    "fun_9(list1)\n",
    "print(list1)"
   ]
  },
  {
   "cell_type": "code",
   "execution_count": 13,
   "metadata": {
    "collapsed": false
   },
   "outputs": [
    {
     "name": "stdout",
     "output_type": "stream",
     "text": [
      "[10, 1, 2, 3, 4, 5, 6, 7]\n",
      "[10, 1, 2, 3, 4, 5, 6, 7]\n"
     ]
    }
   ],
   "source": [
    "def fun_9(l):\n",
    "    l[0] = 10\n",
    "    print(l)\n",
    "list1 = list(range(8))\n",
    "fun_9(list1)\n",
    "print(list1)"
   ]
  },
  {
   "cell_type": "markdown",
   "metadata": {},
   "source": [
    "# 其他"
   ]
  },
  {
   "cell_type": "code",
   "execution_count": null,
   "metadata": {
    "collapsed": true
   },
   "outputs": [],
   "source": [
    "# 斐波那契\n",
    "# 递归\n",
    "def fib(n):  \n",
    "    if n == 0:\n",
    "        return 0\n",
    "    if n<=2:  \n",
    "        return 1  \n",
    "    else:  \n",
    "        return fib(n-1)+fib(n-2)  "
   ]
  },
  {
   "cell_type": "code",
   "execution_count": null,
   "metadata": {
    "collapsed": true
   },
   "outputs": [],
   "source": [
    "# 闭包\n",
    "def line_base(a, b):\n",
    "    def func(x):\n",
    "        return a*x+b\n",
    "    return func\n"
   ]
  }
 ],
 "metadata": {
  "kernelspec": {
   "display_name": "Python 3",
   "language": "python",
   "name": "python3"
  },
  "language_info": {
   "codemirror_mode": {
    "name": "ipython",
    "version": 3
   },
   "file_extension": ".py",
   "mimetype": "text/x-python",
   "name": "python",
   "nbconvert_exporter": "python",
   "pygments_lexer": "ipython3",
   "version": "3.6.0"
  }
 },
 "nbformat": 4,
 "nbformat_minor": 2
}
