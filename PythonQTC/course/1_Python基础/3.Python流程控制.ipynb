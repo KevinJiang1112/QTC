{
 "cells": [
  {
   "cell_type": "markdown",
   "metadata": {},
   "source": [
    "## 分支语句"
   ]
  },
  {
   "cell_type": "markdown",
   "metadata": {},
   "source": [
    "### if、elif、else\n",
    "Python分支（条件）语句是通过一条或多条语句的执行结果（True或者False）来决定执行的代码块。\n",
    "\n",
    "Python程序语言指定任何非0和非空（null）值为true，0 或者 null为false。\n",
    "\n",
    "if 语句的判断条件可以用>（大于）、<(小于)、==（等于）、>=（大于等于）、<=（小于等于）来表示其关系。 \n",
    "\n",
    "Python 编程中 if 语句用于控制程序的执行，基本形式为:"
   ]
  },
  {
   "cell_type": "markdown",
   "metadata": {},
   "source": [
    "if 判断条件：\n",
    "\n",
    "    执行语句……\n",
    "    \n",
    "else：\n",
    "\n",
    "    执行语句……"
   ]
  },
  {
   "cell_type": "code",
   "execution_count": 1,
   "metadata": {
    "collapsed": false
   },
   "outputs": [
    {
     "name": "stdout",
     "output_type": "stream",
     "text": [
      "Stocks has APPL\n"
     ]
    }
   ],
   "source": [
    "# if-else实例\n",
    "Stocks=['APPL','MSFT','GOOG']\n",
    "if 'APPL' in Stocks:\n",
    "    print ('Stocks has APPL')\n",
    "else:\n",
    "    print ('Stocks has not APPL')"
   ]
  },
  {
   "cell_type": "code",
   "execution_count": 2,
   "metadata": {
    "collapsed": false
   },
   "outputs": [
    {
     "name": "stdout",
     "output_type": "stream",
     "text": [
      "Stocks don`t have YHOO,IBKR,SBUX\n"
     ]
    }
   ],
   "source": [
    "# 当判断条件为多个值时，使用以下形式：\n",
    "Stocks=['APPL','MSFT','GOOG']\n",
    "if 'YHOO' in Stocks:\n",
    "    print ('Stocks have YHOO')\n",
    "elif 'IBKR' in Stocks:\n",
    "    print('Stocks have IBKR')\n",
    "elif 'SBUX' in Stocks:\n",
    "    print ('Stocks have SBUX')\n",
    "else:\n",
    "    print ('Stocks don`t have YHOO,IBKR,SBUX')"
   ]
  },
  {
   "cell_type": "markdown",
   "metadata": {},
   "source": [
    "## 循环语句"
   ]
  },
  {
   "cell_type": "markdown",
   "metadata": {},
   "source": [
    "### while\n",
    "\n",
    "Python 编程中 while 语句用于循环执行程序，即在某条件下，循环执行某段程序，以处理需要重复处理的相同任务。其基本形式为：\n",
    "\n",
    "while 判断条件：\n",
    "\n",
    "    执行语句……"
   ]
  },
  {
   "cell_type": "code",
   "execution_count": 3,
   "metadata": {
    "collapsed": false
   },
   "outputs": [
    {
     "name": "stdout",
     "output_type": "stream",
     "text": [
      "The count is: 0\n",
      "The count is: 1\n",
      "The count is: 2\n",
      "The count is: 3\n",
      "The count is: 4\n",
      "The count is: 5\n",
      "Over\n"
     ]
    }
   ],
   "source": [
    "# while实例\n",
    "count = 0\n",
    "while (count < 6):\n",
    "    print ('The count is:', count)\n",
    "    count+=1\n",
    "print (\"Over\")"
   ]
  },
  {
   "cell_type": "markdown",
   "metadata": {},
   "source": [
    "### for\n",
    "\n",
    "Python for循环可以遍历任何序列的项目，如一个列表或者一个字符串。"
   ]
  },
  {
   "cell_type": "code",
   "execution_count": 4,
   "metadata": {
    "collapsed": false
   },
   "outputs": [
    {
     "name": "stdout",
     "output_type": "stream",
     "text": [
      "The count is: 0\n",
      "The count is: 1\n",
      "The count is: 2\n",
      "The count is: 3\n",
      "The count is: 4\n",
      "The count is: 5\n",
      "Over\n"
     ]
    }
   ],
   "source": [
    "# for迭代列表实例\n",
    "count=[0,1,2,3,4,5]\n",
    "for c in count:\n",
    "    print ('The count is:',c)\n",
    "print('Over')"
   ]
  },
  {
   "cell_type": "code",
   "execution_count": 5,
   "metadata": {
    "collapsed": false
   },
   "outputs": [
    {
     "name": "stdout",
     "output_type": "stream",
     "text": [
      "AAPL : 120\n",
      "MSFT : 62.5\n",
      "GOOG : 800\n"
     ]
    }
   ],
   "source": [
    "# for迭代字典实例\n",
    "d={'AAPL':120,'MSFT':62.5,'GOOG':800}\n",
    "for k in d:\n",
    "    print (k,':',d[k])"
   ]
  },
  {
   "cell_type": "markdown",
   "metadata": {},
   "source": [
    "## 循环控制语句(break、 continue、 pass)"
   ]
  },
  {
   "cell_type": "markdown",
   "metadata": {},
   "source": [
    "### break\n",
    "\n",
    "break语句用来终止循环语句，即循环条件没有False条件或者序列还没被完全递归完，也会停止执行循环语句。 "
   ]
  },
  {
   "cell_type": "code",
   "execution_count": 6,
   "metadata": {
    "collapsed": false
   },
   "outputs": [
    {
     "name": "stdout",
     "output_type": "stream",
     "text": [
      "Current word : Q\n",
      "Current word : u\n",
      "Current word : a\n",
      "Current word : n\n",
      "Current word : t\n"
     ]
    }
   ],
   "source": [
    "# break 实例\n",
    "for word in 'QuantitativeTrader': \n",
    "    if word == 'i':\n",
    "        break\n",
    "    print ('Current word :', word)"
   ]
  },
  {
   "cell_type": "markdown",
   "metadata": {},
   "source": [
    "### continue\n",
    "\n",
    "continue 语句用来告诉Python跳过当前循环的剩余语句，然后继续进行下一轮循环。 "
   ]
  },
  {
   "cell_type": "code",
   "execution_count": 7,
   "metadata": {
    "collapsed": false
   },
   "outputs": [
    {
     "name": "stdout",
     "output_type": "stream",
     "text": [
      "Current word : Q\n",
      "Current word : u\n",
      "Current word : a\n",
      "Current word : n\n",
      "Current word : t\n",
      "Current word : t\n",
      "Current word : a\n",
      "Current word : t\n",
      "Current word : o\n",
      "Current word : n\n"
     ]
    }
   ],
   "source": [
    "# continue实例\n",
    "for word in 'Quantitation':  # First Example\n",
    "    if word == 'i':\n",
    "        continue\n",
    "    print('Current word :', word)"
   ]
  },
  {
   "cell_type": "markdown",
   "metadata": {},
   "source": [
    "### pass\n",
    "\n",
    "Python pass是空语句，是为了保持程序结构的完整性。"
   ]
  },
  {
   "cell_type": "code",
   "execution_count": 8,
   "metadata": {
    "collapsed": false
   },
   "outputs": [
    {
     "name": "stdout",
     "output_type": "stream",
     "text": [
      "Current word : Q\n",
      "Current word : u\n",
      "Current word : a\n",
      "Current word : n\n",
      "Current word : t\n",
      "执行了pass\n",
      "Current word : i\n",
      "Current word : t\n",
      "Current word : a\n",
      "Current word : t\n",
      "执行了pass\n",
      "Current word : i\n",
      "Current word : o\n",
      "Current word : n\n"
     ]
    }
   ],
   "source": [
    "# pass实例\n",
    "for word in 'Quantitation':\n",
    "    if word == 'i':\n",
    "        pass\n",
    "        print ('执行了pass')\n",
    "    print('Current word :', word)"
   ]
  },
  {
   "cell_type": "markdown",
   "metadata": {},
   "source": [
    "## 列表解析\n",
    "列表解析根据已有列表,高效创建新列表的方式。"
   ]
  },
  {
   "cell_type": "code",
   "execution_count": 9,
   "metadata": {
    "collapsed": false
   },
   "outputs": [
    {
     "name": "stdout",
     "output_type": "stream",
     "text": [
      "[1, 4, 9, 16]\n"
     ]
    }
   ],
   "source": [
    "list_count = []\n",
    "for x in range(1,5,1):\n",
    "    list_count.append(x**2)\n",
    "print (list_count)"
   ]
  },
  {
   "cell_type": "code",
   "execution_count": 10,
   "metadata": {
    "collapsed": true
   },
   "outputs": [],
   "source": [
    "# 一行代码完成新列表生成\n",
    "list_comprehension = [x**2 for x in range(1,5,1)]"
   ]
  },
  {
   "cell_type": "code",
   "execution_count": 11,
   "metadata": {
    "collapsed": false
   },
   "outputs": [
    {
     "data": {
      "text/plain": [
       "[1, 4, 9, 16]"
      ]
     },
     "execution_count": 11,
     "metadata": {},
     "output_type": "execute_result"
    }
   ],
   "source": [
    "list_comprehension"
   ]
  },
  {
   "cell_type": "code",
   "execution_count": 12,
   "metadata": {
    "collapsed": true
   },
   "outputs": [],
   "source": [
    "key = ['a','b','c','d']"
   ]
  },
  {
   "cell_type": "code",
   "execution_count": 13,
   "metadata": {
    "collapsed": true
   },
   "outputs": [],
   "source": [
    "key_value = list(zip(key, list_comprehension))"
   ]
  },
  {
   "cell_type": "code",
   "execution_count": 14,
   "metadata": {
    "collapsed": true
   },
   "outputs": [],
   "source": [
    "# 一行代码完成新字典生成\n",
    "dict_comprehension = {k:v for k,v in key_value}"
   ]
  },
  {
   "cell_type": "code",
   "execution_count": 15,
   "metadata": {
    "collapsed": false
   },
   "outputs": [
    {
     "data": {
      "text/plain": [
       "{'a': 1, 'b': 4, 'c': 9, 'd': 16}"
      ]
     },
     "execution_count": 15,
     "metadata": {},
     "output_type": "execute_result"
    }
   ],
   "source": [
    "dict_comprehension"
   ]
  }
 ],
 "metadata": {
  "kernelspec": {
   "display_name": "Python 3",
   "language": "python",
   "name": "python3"
  },
  "language_info": {
   "codemirror_mode": {
    "name": "ipython",
    "version": 3
   },
   "file_extension": ".py",
   "mimetype": "text/x-python",
   "name": "python",
   "nbconvert_exporter": "python",
   "pygments_lexer": "ipython3",
   "version": "3.6.0"
  }
 },
 "nbformat": 4,
 "nbformat_minor": 2
}
