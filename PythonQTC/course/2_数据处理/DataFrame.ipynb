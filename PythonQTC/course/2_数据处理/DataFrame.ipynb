{
 "cells": [
  {
   "cell_type": "markdown",
   "metadata": {},
   "source": [
    "## DataFrame\n",
    "\n",
    "处理系列的许多方面延续到DataFrame。pandas的DataFrame让我们轻松地管理我们的数据和他们的直觉结构。 \n",
    "\n",
    "DataFrames可以容纳多种类型的数据,但DataFrames是二维的对象,不同于series。"
   ]
  },
  {
   "cell_type": "markdown",
   "metadata": {},
   "source": [
    "### 转换DataFrame：\n",
    "字典转DataFrames的例子："
   ]
  },
  {
   "cell_type": "code",
   "execution_count": null,
   "metadata": {
    "collapsed": false
   },
   "outputs": [],
   "source": [
    "import numpy as np\n",
    "import pandas as pd\n",
    "\n",
    "dict_data = {\n",
    "'a' : [1, 2, 3, 4, 5],\n",
    "'b' : ['L', 'K', 'J', 'M', 'Z'],\n",
    "'c' : np.random.normal(0, 1, 5)\n",
    "}\n",
    "print (dict_data)\n",
    "frame_data = pd.DataFrame(dict_data, index=pd.date_range('20160101',periods=5))\n",
    "print (frame_data)"
   ]
  },
  {
   "cell_type": "markdown",
   "metadata": {},
   "source": [
    "Series组合成DataFrame的例子："
   ]
  },
  {
   "cell_type": "code",
   "execution_count": null,
   "metadata": {
    "collapsed": false
   },
   "outputs": [],
   "source": [
    "s_1 = pd.Series([2, 4, 6, 8, 10], name='APPL')\n",
    "s_2 = pd.Series([1, 3, 5, 7, 9], name=\"GOOG\")\n",
    "numbers = pd.concat([s_1, s_2], axis=1)\n",
    "print (numbers)\n",
    "print (type(numbers))"
   ]
  },
  {
   "cell_type": "markdown",
   "metadata": {
    "collapsed": true
   },
   "source": [
    "### 修改dataframes的列名、索引；读取dataframes的值："
   ]
  },
  {
   "cell_type": "code",
   "execution_count": null,
   "metadata": {
    "collapsed": false
   },
   "outputs": [],
   "source": [
    "print (numbers.columns)\n",
    "# 修改列名\n",
    "numbers.columns = ['MSFT', 'YHOO']\n",
    "print (numbers)"
   ]
  },
  {
   "cell_type": "code",
   "execution_count": null,
   "metadata": {
    "collapsed": false
   },
   "outputs": [],
   "source": [
    "print (numbers.index)\n",
    "# 修改索引\n",
    "numbers.index = pd.date_range(\"20160101\",periods=len(numbers))\n",
    "print (numbers)\n",
    "# 读取Dataframe的值\n",
    "print (numbers.values)"
   ]
  },
  {
   "cell_type": "markdown",
   "metadata": {},
   "source": [
    "### 访问DataFrame元素\n",
    "\n",
    "关键在于一切现在都要考虑多个维度。发生这种情况的主要途径是通过访问DataFrame单独或整组的列,。要做到这一点, \n",
    "我们可以通过直接访问属性或通过使用我们已经熟悉的方法。\n",
    "\n",
    "用tushare请求A股数据，然后做成dataframe，最后通过loc与iloc读取需要的数据。"
   ]
  },
  {
   "cell_type": "code",
   "execution_count": null,
   "metadata": {
    "collapsed": true
   },
   "outputs": [],
   "source": [
    "stock1 = pd.read_excel('sz50.xlsx',sheetname='600036.XSHG', index_col='datetime')\n",
    "stock2 = pd.read_excel('sz50.xlsx',sheetname='600050.XSHG', index_col='datetime')\n",
    "stock3 = pd.read_excel('sz50.xlsx',sheetname='601318.XSHG', index_col='datetime')"
   ]
  },
  {
   "cell_type": "code",
   "execution_count": null,
   "metadata": {
    "collapsed": true
   },
   "outputs": [],
   "source": [
    "from datetime import datetime\n",
    "\n",
    "symbol=['600036.XSHG','600050.XSHG','601318.XSHG']\n",
    "data_dict = {}\n",
    "for s in symbol:\n",
    "    data =  pd.read_excel('sz50.xlsx',sheetname=s, index_col='datetime')\n",
    "    data_dict[s] = data['close']"
   ]
  },
  {
   "cell_type": "code",
   "execution_count": null,
   "metadata": {
    "collapsed": false
   },
   "outputs": [],
   "source": [
    "data = pd.DataFrame(data_dict)\n",
    "print(data.loc[datetime(2017,1,1):datetime(2017,1,10),['600036.XSHG', '601318.XSHG']])\n",
    "print(data.iloc[0:2,1])\n",
    "print(data.iloc[[1, 3, 5] + list(range(7, 20, 2)), [0, 1]].head(20))"
   ]
  },
  {
   "cell_type": "markdown",
   "metadata": {},
   "source": [
    "### 布尔索引\n",
    "\n",
    "与Series一样,有时候我们想过滤DataFrame根据一组标准。我们通过索引DataFrame布尔值。"
   ]
  },
  {
   "cell_type": "code",
   "execution_count": null,
   "metadata": {
    "collapsed": false
   },
   "outputs": [],
   "source": [
    "print(data.loc[data['600036.XSHG'].pct_change() > data['601318.XSHG'].pct_change()].head())"
   ]
  },
  {
   "cell_type": "markdown",
   "metadata": {},
   "source": [
    "### 添加、删除列,结合DataFrames /Series\n",
    "\n",
    "当你已经有一个DataFrame的数据,这很好,但同样重要的是能够增加你的数据。 \n",
    "添加新数据："
   ]
  },
  {
   "cell_type": "code",
   "execution_count": null,
   "metadata": {
    "collapsed": false,
    "scrolled": false
   },
   "outputs": [],
   "source": [
    "new = pd.read_excel('sz50.xlsx',sheetname='600519.XSHG', index_col='datetime')\n",
    "data['600519.XSHG'] = new.close\n",
    "print(data.head(5))"
   ]
  },
  {
   "cell_type": "markdown",
   "metadata": {},
   "source": [
    "删除某一行"
   ]
  },
  {
   "cell_type": "code",
   "execution_count": null,
   "metadata": {
    "collapsed": false
   },
   "outputs": [],
   "source": [
    "data = data.drop('600050.XSHG', axis=1)\n",
    "print(data.head(5))"
   ]
  },
  {
   "cell_type": "markdown",
   "metadata": {},
   "source": [
    "合并某一行"
   ]
  },
  {
   "cell_type": "code",
   "execution_count": null,
   "metadata": {
    "collapsed": false
   },
   "outputs": [],
   "source": [
    "gold_stock = pd.read_excel('sz50.xlsx',sheetname='600547.XSHG', index_col='datetime')\n",
    "\n",
    "df=pd.concat([data,gold_stock['close']], axis=1)\n",
    "print(df.head(5))"
   ]
  },
  {
   "cell_type": "code",
   "execution_count": null,
   "metadata": {
    "collapsed": true
   },
   "outputs": [],
   "source": [
    "df.rename(columns={'close':'600547.XSHG'}, inplace = True)"
   ]
  },
  {
   "cell_type": "code",
   "execution_count": null,
   "metadata": {
    "collapsed": false
   },
   "outputs": [],
   "source": [
    "print(df.head(5))"
   ]
  },
  {
   "cell_type": "markdown",
   "metadata": {},
   "source": [
    "### 缺失的数据(再一次)\n",
    "\n",
    "把一个真实数据输入DataFrame带给我们与在系列中同样的问题,只是这次更多的维度。我们有和系列相同的方法来访问,如下显示。"
   ]
  },
  {
   "cell_type": "code",
   "execution_count": null,
   "metadata": {
    "collapsed": false
   },
   "outputs": [],
   "source": [
    "print(df[df.isnull().values==True])"
   ]
  },
  {
   "cell_type": "code",
   "execution_count": null,
   "metadata": {
    "collapsed": true
   },
   "outputs": [],
   "source": [
    "df_na = df.fillna(method='ffill')"
   ]
  },
  {
   "cell_type": "code",
   "execution_count": null,
   "metadata": {
    "collapsed": false
   },
   "outputs": [],
   "source": [
    "print(df_na.loc['2017-04-26':'2017-05-17'])"
   ]
  },
  {
   "cell_type": "markdown",
   "metadata": {},
   "source": [
    "### 时间序列分析\n",
    "\n",
    "使用安装在内部的统计方法来计算DataFrames,我们可以对多个时间序列进行计算。执行计算的代码在DataFrames与在series上几乎一模一样,所以不要担心再学习一切。\n",
    "\n",
    "将DataFrame数据可视化："
   ]
  },
  {
   "cell_type": "code",
   "execution_count": null,
   "metadata": {
    "collapsed": false
   },
   "outputs": [],
   "source": [
    "import matplotlib.pyplot as plt\n",
    "\n",
    "onebegin=data/data.iloc[0]\n",
    "\n",
    "plt.figure(figsize=(15, 7))\n",
    "plt.plot(onebegin)\n",
    "plt.title(\"Onebegin Stock Prices\")\n",
    "plt.ylabel(\"Price\")\n",
    "plt.xlabel(\"Date\")\n",
    "plt.show()"
   ]
  },
  {
   "cell_type": "markdown",
   "metadata": {},
   "source": [
    "对dataframe数据进行计算："
   ]
  },
  {
   "cell_type": "code",
   "execution_count": null,
   "metadata": {
    "collapsed": false
   },
   "outputs": [],
   "source": [
    "print('mean:','\\n',data.mean(axis=0))\n",
    "print('std:','\\n',data.std(axis=0))\n",
    "print(onebegin.head(5))"
   ]
  },
  {
   "cell_type": "markdown",
   "metadata": {},
   "source": [
    "将回报率标准化，然后可视化。"
   ]
  },
  {
   "cell_type": "code",
   "execution_count": null,
   "metadata": {
    "collapsed": false
   },
   "outputs": [],
   "source": [
    "mult_returns = data.pct_change()[1:]\n",
    "print(mult_returns.head(5))"
   ]
  },
  {
   "cell_type": "code",
   "execution_count": null,
   "metadata": {
    "collapsed": false
   },
   "outputs": [],
   "source": [
    "norm_returns = (mult_returns-mult_returns.mean(axis=0))/mult_returns.std(axis=0)\n",
    "\n",
    "plt.figure(figsize=(15, 7))\n",
    "plt.plot(norm_returns)\n",
    "plt.hlines(0, norm_returns.index[0],norm_returns.index[-1], linestyles='dashed')\n",
    "plt.show()"
   ]
  },
  {
   "cell_type": "markdown",
   "metadata": {
    "collapsed": true
   },
   "source": [
    "将dataframe里的数据计算40均线，最后可视化展示出来："
   ]
  },
  {
   "cell_type": "code",
   "execution_count": null,
   "metadata": {
    "collapsed": false
   },
   "outputs": [],
   "source": [
    "rolling_mean = data['601318.XSHG'].rolling(window=40,center=False).mean()\n",
    "\n",
    "plt.figure(figsize=(15, 7))\n",
    "data['601318.XSHG'].plot()\n",
    "rolling_mean.plot()\n",
    "plt.title(\"40days Rolling Mean of 601318.XSHG\")\n",
    "plt.xlabel(\"Date\")\n",
    "plt.ylabel(\"Price\")\n",
    "plt.legend()\n",
    "plt.show()"
   ]
  }
 ],
 "metadata": {
  "kernelspec": {
   "display_name": "Python 3",
   "language": "python",
   "name": "python3"
  },
  "language_info": {
   "codemirror_mode": {
    "name": "ipython",
    "version": 3
   },
   "file_extension": ".py",
   "mimetype": "text/x-python",
   "name": "python",
   "nbconvert_exporter": "python",
   "pygments_lexer": "ipython3",
   "version": "3.6.0"
  }
 },
 "nbformat": 4,
 "nbformat_minor": 2
}
