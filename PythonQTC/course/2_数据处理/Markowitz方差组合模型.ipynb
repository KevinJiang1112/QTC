{
 "cells": [
  {
   "cell_type": "markdown",
   "metadata": {},
   "source": [
    "## Markowitz方差组合模型"
   ]
  },
  {
   "cell_type": "markdown",
   "metadata": {},
   "source": [
    "## 目录\n",
    "1. 什么是Markowitz方差组合模型？\n",
    "2. Portfolioopt的输入格式是什么？\n",
    "3. 如何计算组合风险？\n",
    "4. 如何将Markowitz可视化？"
   ]
  },
  {
   "cell_type": "markdown",
   "metadata": {},
   "source": [
    "## 什么是Markowitz方差组合模型？\n",
    "马克维茨投资组合理论的基本假设为：\n",
    "\n",
    "(1)投资者是风险规避的，追求期望效用最大化；\n",
    "\n",
    "(2)投资者根据收益率的期望值与方差来选择投资组合；\n",
    "\n",
    "(3)所有投资者处于同一单期投资期。马克维茨提出了以期望收益及其方差(E，δ2)确定有效投资组合。"
   ]
  },
  {
   "cell_type": "code",
   "execution_count": null,
   "metadata": {
    "collapsed": false
   },
   "outputs": [],
   "source": [
    "from datetime import datetime\n",
    "import pandas as pd\n",
    "import numpy as np\n",
    "import matplotlib.pyplot as plt\n",
    "import portfolioopt as opt\n",
    "\n",
    "symbol=['600036.XSHG','600050.XSHG','601318.XSHG']\n",
    "PN = pd.Panel(pd.read_excel('sz50.xlsx', sheet_name = ['600036.XSHG','600050.XSHG','601318.XSHG'], index_col='datetime'))\n",
    "PN"
   ]
  },
  {
   "cell_type": "code",
   "execution_count": null,
   "metadata": {
    "collapsed": false
   },
   "outputs": [],
   "source": [
    "PN.pct_change(axis=1).xs('close', axis=2)"
   ]
  },
  {
   "cell_type": "markdown",
   "metadata": {},
   "source": [
    "## Portfolioopt的输入格式是什么？\n",
    "安装Portfolioopt: pip install Portfolioopt"
   ]
  },
  {
   "cell_type": "code",
   "execution_count": null,
   "metadata": {
    "collapsed": false
   },
   "outputs": [],
   "source": [
    "PN.pct_change(axis=1).xs('close', axis=2)"
   ]
  },
  {
   "cell_type": "code",
   "execution_count": null,
   "metadata": {
    "collapsed": false
   },
   "outputs": [],
   "source": [
    "data_r = PN.minor_xs('close').pct_change()[1:]\n",
    "print(data_r)"
   ]
  },
  {
   "cell_type": "markdown",
   "metadata": {},
   "source": [
    "## Q: 关于矩阵的形状？"
   ]
  },
  {
   "cell_type": "code",
   "execution_count": null,
   "metadata": {
    "collapsed": false
   },
   "outputs": [],
   "source": [
    "#主要的两个输入模式\n",
    "exp_rets = data_r.mean()*252\n",
    "cov_mat = data_r.cov()*252\n",
    "print(exp_rets)\n",
    "print(cov_mat)"
   ]
  },
  {
   "cell_type": "code",
   "execution_count": null,
   "metadata": {
    "collapsed": false
   },
   "outputs": [],
   "source": [
    "pd.get_option('precision')"
   ]
  },
  {
   "cell_type": "code",
   "execution_count": null,
   "metadata": {
    "collapsed": false
   },
   "outputs": [],
   "source": [
    "#计算目标收益的权重\n",
    "portfolio_1 = opt.markowitz_portfolio(cov_mat, exp_rets, 0.5, allow_short=False, market_neutral=False)\n",
    "print(portfolio_1)"
   ]
  },
  {
   "cell_type": "code",
   "execution_count": null,
   "metadata": {
    "collapsed": false
   },
   "outputs": [],
   "source": [
    "#计算目标收益的权重\n",
    "portfolio_1 = opt.markowitz_portfolio(cov_mat, exp_rets, 0.5, allow_short=False, market_neutral=False)\n",
    "print(portfolio_1)"
   ]
  },
  {
   "cell_type": "code",
   "execution_count": null,
   "metadata": {
    "collapsed": false
   },
   "outputs": [],
   "source": [
    "#计算目标收益的权重\n",
    "omega1 = opt.markowitz_portfolio(cov_mat, exp_rets, 0.59, allow_short=False, market_neutral=False) \n",
    "omega2 = opt.markowitz_portfolio(cov_mat, exp_rets, 0.6, allow_short=False, market_neutral=False)\n",
    "omega1 == omega2"
   ]
  },
  {
   "cell_type": "code",
   "execution_count": null,
   "metadata": {
    "collapsed": false
   },
   "outputs": [],
   "source": [
    "#计算目标收益的权重\n",
    "pd.set_option('precision', 10)\n",
    "omega1 = opt.markowitz_portfolio(cov_mat, exp_rets, 0.59, allow_short=False, market_neutral=False) \n",
    "omega2 = opt.markowitz_portfolio(cov_mat, exp_rets, 0.6, allow_short=False, market_neutral=False)\n",
    "print(omega1, omega2)\n",
    "pd.reset_option('precision')"
   ]
  },
  {
   "cell_type": "code",
   "execution_count": null,
   "metadata": {
    "collapsed": true
   },
   "outputs": [],
   "source": []
  },
  {
   "cell_type": "code",
   "execution_count": null,
   "metadata": {
    "collapsed": false,
    "scrolled": true
   },
   "outputs": [],
   "source": [
    "#计算最小方差的权重\n",
    "portfolio_mv = opt.min_var_portfolio(cov_mat, allow_short=False)\n",
    "print(portfolio_mv)"
   ]
  },
  {
   "cell_type": "code",
   "execution_count": null,
   "metadata": {
    "collapsed": false,
    "scrolled": true
   },
   "outputs": [],
   "source": [
    "#计算最优组合的权重\n",
    "portfolio_tp = opt.tangency_portfolio(cov_mat, exp_rets, allow_short=False)\n",
    "print(portfolio_tp)"
   ]
  },
  {
   "cell_type": "code",
   "execution_count": null,
   "metadata": {
    "collapsed": false
   },
   "outputs": [],
   "source": [
    "#去除少于0.01权重的股票\n",
    "weigth_t = opt.truncate_weights(portfolio_tp, min_weight=0.01, rescale=True)\n",
    "print(weigth_t)"
   ]
  },
  {
   "cell_type": "markdown",
   "metadata": {},
   "source": [
    "## 如何计算组合风险？\n",
    "$Portfolio Variance = x'\\sum x$\n",
    "\n",
    "x = weights\n",
    "\n",
    "$\\sum = Cov$"
   ]
  },
  {
   "cell_type": "code",
   "execution_count": null,
   "metadata": {
    "collapsed": false
   },
   "outputs": [],
   "source": [
    "Portfolio_v = np.dot(weigth_t.T, np.dot(cov_mat,weigth_t))\n",
    "P_sigma = np.sqrt(Portfolio_v)\n",
    "print(P_sigma)"
   ]
  },
  {
   "cell_type": "markdown",
   "metadata": {},
   "source": [
    "## 如何将Markowitz可视化？"
   ]
  },
  {
   "cell_type": "code",
   "execution_count": null,
   "metadata": {
    "collapsed": false
   },
   "outputs": [],
   "source": [
    "port_returns = []\n",
    "port_variance = []\n",
    "for p in range(4000):\n",
    "    weights = np.random.rand(len(data_r.T))\n",
    "    weights /= np.sum(weights)\n",
    "    port_returns.append(np.sum(data_r.mean()*252*weights))\n",
    "    port_variance.append(np.sqrt(np.dot(weights.T, np.dot(cov_mat,weights))))\n",
    "port_returns = np.array(port_returns)\n",
    "port_variance = np.array(port_variance)\n",
    "\n",
    "risk_free = 0.04\n",
    "P_r = np.sum(exp_rets*weigth_t)\n",
    "sharpe = (P_r-risk_free)/P_sigma\n",
    "print('sharpe:', sharpe)\n",
    "\n",
    "plt.figure(figsize = (15,7))\n",
    "plt.scatter(port_variance, port_returns, c=(port_returns-risk_free)/port_variance, marker='o')\n",
    "plt.grid(True)\n",
    "plt.xlabel('excepted volatility')\n",
    "plt.ylabel('expected return')\n",
    "plt.colorbar(label='Sharpe ratio')\n",
    "plt.scatter(P_sigma, P_r, c='r', marker='*')\n",
    "plt.show()"
   ]
  },
  {
   "cell_type": "markdown",
   "metadata": {},
   "source": [
    "## 作业\n",
    "选择三只或以上的股票，用Portfolioopt 将最优组合算出来，并将其可视化。"
   ]
  },
  {
   "cell_type": "code",
   "execution_count": null,
   "metadata": {
    "collapsed": true
   },
   "outputs": [],
   "source": []
  },
  {
   "cell_type": "code",
   "execution_count": null,
   "metadata": {
    "collapsed": true
   },
   "outputs": [],
   "source": []
  }
 ],
 "metadata": {
  "kernelspec": {
   "display_name": "Python 3",
   "language": "python",
   "name": "python3"
  }
 },
 "nbformat": 4,
 "nbformat_minor": 2
}
