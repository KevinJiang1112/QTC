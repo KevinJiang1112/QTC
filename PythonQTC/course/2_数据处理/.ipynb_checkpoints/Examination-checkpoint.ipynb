{
 "cells": [
  {
   "cell_type": "markdown",
   "metadata": {},
   "source": [
    "**2. 用生成器生成斐波拉契数列的相邻值相除的数组。[1,1,2,3,5,8,13]==>array([ 1., 0.5, 0.66666667, 0.6, 0.625, 0.61538462])**"
   ]
  },
  {
   "cell_type": "code",
   "execution_count": 1,
   "metadata": {
    "collapsed": true
   },
   "outputs": [],
   "source": [
    "import numpy as np\n",
    "\n",
    "def fib_g(max):\n",
    "    n, a, b = 0, 0, 1\n",
    "    while n < max:\n",
    "        yield b\n",
    "        a, b = b, a + b\n",
    "        n = n + 1\n",
    "    return"
   ]
  },
  {
   "cell_type": "code",
   "execution_count": 2,
   "metadata": {
    "collapsed": true
   },
   "outputs": [],
   "source": [
    "def divide(max):\n",
    "    return np.array(list(fib_g(max)))[:-1]/np.array(list(fib_g(max)))[1:]"
   ]
  },
  {
   "cell_type": "code",
   "execution_count": 3,
   "metadata": {},
   "outputs": [
    {
     "data": {
      "text/plain": [
       "array([ 1.        ,  0.5       ,  0.66666667,  0.6       ,  0.625     ,\n",
       "        0.61538462])"
      ]
     },
     "execution_count": 3,
     "metadata": {},
     "output_type": "execute_result"
    }
   ],
   "source": [
    "divide(7)"
   ]
  },
  {
   "cell_type": "markdown",
   "metadata": {},
   "source": [
    "**3. 把Panel转Multiindex,再转成Numpy，然后切片迭代计算**"
   ]
  },
  {
   "cell_type": "code",
   "execution_count": 4,
   "metadata": {},
   "outputs": [
    {
     "name": "stdout",
     "output_type": "stream",
     "text": [
      "<class 'pandas.core.panel.Panel'>\n",
      "Dimensions: 3 (items) x 215 (major_axis) x 5 (minor_axis)\n",
      "Items axis: 600036.XSHG to 601318.XSHG\n",
      "Major_axis axis: 2017-01-03 15:00:00 to 2017-11-20 15:00:00\n",
      "Minor_axis axis: close to volume\n"
     ]
    }
   ],
   "source": [
    "from datetime import datetime\n",
    "import pandas as pd\n",
    "symbol=['600036.XSHG','600050.XSHG','601318.XSHG']\n",
    "data_dict = {}\n",
    "for s in symbol:\n",
    "    data =  pd.read_excel('sz50.xlsx',sheetname=s, index_col='datetime')\n",
    "    data_dict[s] = data.loc['2017-01-01':'2017-11-30']\n",
    "PN = pd.Panel(data_dict)\n",
    "print(PN)"
   ]
  },
  {
   "cell_type": "code",
   "execution_count": 5,
   "metadata": {
    "collapsed": true
   },
   "outputs": [],
   "source": [
    "# frame = PN.to_frame()"
   ]
  },
  {
   "cell_type": "code",
   "execution_count": 6,
   "metadata": {},
   "outputs": [
    {
     "data": {
      "text/plain": [
       "(3, 215, 5)"
      ]
     },
     "execution_count": 6,
     "metadata": {},
     "output_type": "execute_result"
    }
   ],
   "source": [
    "np.array(PN).shape"
   ]
  },
  {
   "cell_type": "code",
   "execution_count": 7,
   "metadata": {},
   "outputs": [
    {
     "data": {
      "text/plain": [
       "array([[ 106.22,  106.94,  105.94,  112.13,  110.89,  108.14,  107.34,\n",
       "         107.78,  107.98,  106.18,  107.86,  108.1 ,  108.02,  108.02,\n",
       "         110.41,  111.81,  111.25,  112.13,  117.24,  121.82],\n",
       "       [   8.53,    8.56,    8.62,    8.88,    9.25,    9.24,    9.43,\n",
       "           9.25,    9.02,    9.15,    9.63,    9.5 ,    9.9 ,    9.97,\n",
       "           9.96,    9.49,    9.68,    9.61,    9.63,    9.8 ],\n",
       "       [ 134.83,  134.56,  137.5 ,  143.18,  143.48,  144.15,  143.61,\n",
       "         143.65,  144.35,  143.36,  146.41,  144.71,  148.56,  156.53,\n",
       "         157.12,  157.72,  154.99,  163.52,  168.58,  169.57]])"
      ]
     },
     "execution_count": 7,
     "metadata": {},
     "output_type": "execute_result"
    }
   ],
   "source": [
    "np.array(PN)[:,-20:,0]"
   ]
  },
  {
   "cell_type": "code",
   "execution_count": 8,
   "metadata": {},
   "outputs": [
    {
     "data": {
      "text/plain": [
       "array([[ 0.00452916,  0.01128468,  0.00188965,  0.05867566,  0.04755547,\n",
       "         0.02244343,  0.01501812,  0.01910886,  0.02096277,  0.00415252,\n",
       "         0.01985084,  0.02207347,  0.02133314,  0.02133314,  0.04321746,\n",
       "         0.05581775,  0.05079667,  0.05867566,  0.10323987,  0.14156129],\n",
       "       [-0.00933496, -0.00582413,  0.00116077,  0.03087724,  0.07169923,\n",
       "         0.07061757,  0.09097178,  0.07169923,  0.04652002,  0.06082956,\n",
       "         0.11195891,  0.09836748,  0.13961044,  0.14665627,  0.14565275,\n",
       "         0.09731429,  0.11713758,  0.1098799 ,  0.11195891,  0.12945807],\n",
       "       [ 0.00535437,  0.00334984,  0.02496356,  0.06544222,  0.06753529,\n",
       "         0.07219407,  0.06844093,  0.06871943,  0.07358055,  0.06669859,\n",
       "         0.08775055,  0.07607138,  0.10232856,  0.15458733,  0.15834949,\n",
       "         0.16216095,  0.14470024,  0.19827495,  0.22875006,  0.23460546]])"
      ]
     },
     "execution_count": 8,
     "metadata": {},
     "output_type": "execute_result"
    }
   ],
   "source": [
    "np.cumsum((np.log(np.array(PN)[:,-20:,0])-np.log(np.array(PN)[:,-21:-1,0])), axis=1)"
   ]
  },
  {
   "cell_type": "markdown",
   "metadata": {},
   "source": [
    "**4. 用pandas计算滚动的cov()并将图表显示出来**"
   ]
  },
  {
   "cell_type": "code",
   "execution_count": 9,
   "metadata": {
    "collapsed": true
   },
   "outputs": [],
   "source": [
    "three_day_change = PN.minor_xs('close').pct_change(3)"
   ]
  },
  {
   "cell_type": "code",
   "execution_count": 26,
   "metadata": {
    "collapsed": true
   },
   "outputs": [],
   "source": [
    "three_cov = three_day_change.expanding(5).cov()"
   ]
  },
  {
   "cell_type": "code",
   "execution_count": 27,
   "metadata": {
    "collapsed": true
   },
   "outputs": [],
   "source": [
    "s36_s50 =three_cov.unstack()['600036.XSHG','600050.XSHG']\n",
    "s36_s18 =three_cov.unstack()['600036.XSHG','601318.XSHG']\n",
    "s50_s18 =three_cov.unstack()['600050.XSHG','601318.XSHG']"
   ]
  },
  {
   "cell_type": "code",
   "execution_count": 28,
   "metadata": {},
   "outputs": [
    {
     "data": {
      "image/png": "[encoded data removed]",
      "text/plain": [
       "<matplotlib.figure.Figure at 0x26387b48630>"
      ]
     },
     "metadata": {},
     "output_type": "display_data"
    }
   ],
   "source": [
    "import matplotlib.pyplot as plt\n",
    "\n",
    "plt.figure(figsize=(15,7))\n",
    "plt.subplot(3,1,1)\n",
    "plt.plot(s36_s50)\n",
    "plt.legend(loc='upper left')\n",
    "plt.subplot(3,1,2)\n",
    "plt.plot(s36_s18)\n",
    "plt.legend(loc='upper left')\n",
    "plt.subplot(3,1,3)\n",
    "plt.plot(s50_s18)\n",
    "plt.legend(loc='upper left')\n",
    "plt.show()"
   ]
  },
  {
   "cell_type": "markdown",
   "metadata": {},
   "source": [
    "**5. 将日K线计算周K线并将其画出来。**"
   ]
  },
  {
   "cell_type": "code",
   "execution_count": 13,
   "metadata": {
    "collapsed": true
   },
   "outputs": [],
   "source": [
    "stock1 = PN['600036.XSHG']\n",
    "\n",
    "candle_week = stock1.resample('W').agg({'high':'max','low':'min', 'close':'last', 'open':'first'})"
   ]
  },
  {
   "cell_type": "code",
   "execution_count": 14,
   "metadata": {
    "collapsed": true
   },
   "outputs": [],
   "source": [
    "from matplotlib.pylab import date2num\n",
    "\n",
    "candle_week['time'] = list(map(date2num, candle_week.index))"
   ]
  },
  {
   "cell_type": "code",
   "execution_count": 15,
   "metadata": {},
   "outputs": [
    {
     "data": {
      "image/png": "[encoded data removed]",
      "text/plain": [
       "<matplotlib.figure.Figure at 0x263889fd518>"
      ]
     },
     "metadata": {},
     "output_type": "display_data"
    }
   ],
   "source": [
    "candle = candle_week.reindex_axis([\"time\", \"open\", \"high\", \"low\", \"close\"], 1).values\n",
    "\n",
    "import matplotlib.finance as mpf\n",
    "\n",
    "fig, (ax) = plt.subplots(1,1,sharex=True, figsize=(15,25))\n",
    "fig.subplots_adjust(bottom=0.5)\n",
    "ax.grid(True)\n",
    "mpf.candlestick_ohlc(ax, candle, width=0.6, colorup='r', colordown='g',alpha=1.0)\n",
    "ax.xaxis_date ()\n",
    "plt.show()"
   ]
  },
  {
   "cell_type": "markdown",
   "metadata": {},
   "source": [
    "**6. 用Pandas的递归函数计算EMA与DEMA，对比talib的EMA与DEMA。**\n",
    "\n",
    "$\\text{Exponential Moving Average 用指数方法突出前段}$\n",
    "\n",
    "$EMA_t=\\frac{a^nP_{t-n+1}+a^{n-1}P_{t-n+2}+...+a^2P_{t-1}+aP_t}{a^n+a^{n-1}+...+a^2+a}$\n",
    "\n",
    "$EMA_t=α*Price_t + ( 1 - α ) * EMA_{t-1}$\n",
    "\n",
    "$α为平滑指数，一般取作2/(n+1)$\n",
    "\n",
    "---\n",
    "$\\text{Double Exponential Moving Average 突出EMA,减少滞后。}$\n",
    "\n",
    "$DEMA = 2*EMA-EMA(EMA)$"
   ]
  },
  {
   "cell_type": "code",
   "execution_count": 16,
   "metadata": {
    "collapsed": true
   },
   "outputs": [],
   "source": [
    "def EMA(A,n,m):\n",
    "    # 设置alpha的比例\n",
    "    alpha = m/n\n",
    "    #通过ewm计算递归函数\n",
    "    return A.ewm(alpha=alpha, adjust=False).mean()\n",
    "\n",
    "EMA10 = EMA(stock1.close,11,2)"
   ]
  },
  {
   "cell_type": "code",
   "execution_count": 17,
   "metadata": {
    "collapsed": true
   },
   "outputs": [],
   "source": [
    "DEMA = 2*EMA10 - EMA(EMA10,11,2)"
   ]
  },
  {
   "cell_type": "code",
   "execution_count": 18,
   "metadata": {},
   "outputs": [
    {
     "data": {
      "text/plain": [
       "datetime\n",
       "2017-11-14 15:00:00    109.962034\n",
       "2017-11-15 15:00:00    110.542147\n",
       "2017-11-16 15:00:00    111.244796\n",
       "2017-11-17 15:00:00    113.433683\n",
       "2017-11-20 15:00:00    116.538850\n",
       "Name: close, dtype: float64"
      ]
     },
     "execution_count": 18,
     "metadata": {},
     "output_type": "execute_result"
    }
   ],
   "source": [
    "DEMA.tail()"
   ]
  },
  {
   "cell_type": "code",
   "execution_count": 19,
   "metadata": {
    "collapsed": true
   },
   "outputs": [],
   "source": [
    "import talib as ta\n",
    "\n",
    "EMA10 = pd.Series(ta.EMA(stock1.close.values,10), index=stock1.index)\n",
    "DEMA_cal = 2*EMA10 - pd.Series(ta.EMA(EMA10.values,10),index=EMA10.index)"
   ]
  },
  {
   "cell_type": "code",
   "execution_count": 20,
   "metadata": {},
   "outputs": [
    {
     "data": {
      "text/plain": [
       "datetime\n",
       "2017-11-14 15:00:00    109.962034\n",
       "2017-11-15 15:00:00    110.542147\n",
       "2017-11-16 15:00:00    111.244796\n",
       "2017-11-17 15:00:00    113.433683\n",
       "2017-11-20 15:00:00    116.538850\n",
       "dtype: float64"
      ]
     },
     "execution_count": 20,
     "metadata": {},
     "output_type": "execute_result"
    }
   ],
   "source": [
    "DEMA_cal.tail()"
   ]
  },
  {
   "cell_type": "code",
   "execution_count": 21,
   "metadata": {
    "collapsed": true
   },
   "outputs": [],
   "source": [
    "DEMA_TA = pd.Series(ta.DEMA(stock1.close.values, 10), index=stock1.index)"
   ]
  },
  {
   "cell_type": "code",
   "execution_count": 22,
   "metadata": {},
   "outputs": [
    {
     "data": {
      "text/plain": [
       "datetime\n",
       "2017-11-14 15:00:00    109.962034\n",
       "2017-11-15 15:00:00    110.542147\n",
       "2017-11-16 15:00:00    111.244796\n",
       "2017-11-17 15:00:00    113.433683\n",
       "2017-11-20 15:00:00    116.538850\n",
       "dtype: float64"
      ]
     },
     "execution_count": 22,
     "metadata": {},
     "output_type": "execute_result"
    }
   ],
   "source": [
    "DEMA_TA.tail()"
   ]
  },
  {
   "cell_type": "markdown",
   "metadata": {},
   "source": [
    "**7. Markowitz的计算，tangency**\n",
    "\n",
    "numpy需要安装mkl版本"
   ]
  },
  {
   "cell_type": "code",
   "execution_count": 23,
   "metadata": {},
   "outputs": [
    {
     "name": "stdout",
     "output_type": "stream",
     "text": [
      "                     600036.XSHG  600050.XSHG  601318.XSHG\n",
      "datetime                                                  \n",
      "2017-11-14 15:00:00     0.012680    -0.047189     0.003819\n",
      "2017-11-15 15:00:00    -0.005008     0.020021    -0.017309\n",
      "2017-11-16 15:00:00     0.007910    -0.007231     0.055036\n",
      "2017-11-17 15:00:00     0.045572     0.002081     0.030944\n",
      "2017-11-20 15:00:00     0.039065     0.017653     0.005873\n"
     ]
    }
   ],
   "source": [
    "data_r = PN.minor_xs('close').pct_change()[1:]\n",
    "print (data_r.tail())"
   ]
  },
  {
   "cell_type": "code",
   "execution_count": 24,
   "metadata": {},
   "outputs": [
    {
     "name": "stdout",
     "output_type": "stream",
     "text": [
      "600036.XSHG    0.695874\n",
      "600050.XSHG    0.270893\n",
      "601318.XSHG    0.918358\n",
      "dtype: float64\n",
      "             600036.XSHG  600050.XSHG  601318.XSHG\n",
      "600036.XSHG     0.063026     0.006673     0.034142\n",
      "600050.XSHG     0.006673     0.180320     0.017325\n",
      "601318.XSHG     0.034142     0.017325     0.062236\n"
     ]
    }
   ],
   "source": [
    "exp_rets = data_r.mean()*252\n",
    "cov_mat = data_r.cov()*252\n",
    "print (exp_rets)\n",
    "print (cov_mat)"
   ]
  },
  {
   "cell_type": "code",
   "execution_count": 25,
   "metadata": {},
   "outputs": [
    {
     "name": "stdout",
     "output_type": "stream",
     "text": [
      "600036.XSHG    0.258217\n",
      "600050.XSHG    0.009330\n",
      "601318.XSHG    0.732453\n",
      "dtype: float64\n"
     ]
    }
   ],
   "source": [
    "import portfolioopt as opt\n",
    "\n",
    "portfolio_tp = opt.tangency_portfolio(cov_mat, exp_rets, allow_short=False)\n",
    "print (portfolio_tp)"
   ]
  },
  {
   "cell_type": "code",
   "execution_count": null,
   "metadata": {
    "collapsed": true
   },
   "outputs": [],
   "source": [
    "**8. JAQS从网络获取数据，生成mask,can_enter, can_exit,group**"
   ]
  }
 ],
 "metadata": {
  "kernelspec": {
   "display_name": "Python 3",
   "language": "python",
   "name": "python3"
  },
  "language_info": {
   "codemirror_mode": {
    "name": "ipython",
    "version": 3
   },
   "file_extension": ".py",
   "mimetype": "text/x-python",
   "name": "python",
   "nbconvert_exporter": "python",
   "pygments_lexer": "ipython3",
   "version": "3.6.1"
  }
 },
 "nbformat": 4,
 "nbformat_minor": 2
}
