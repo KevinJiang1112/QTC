{
 "cells": [
  {
   "cell_type": "markdown",
   "metadata": {},
   "source": [
    "## Talib\n",
    "\n",
    "\n",
    "Talib是python用于技术分析的包。\n",
    "\n",
    "\n",
    "TA_Lib提供什么样的函数？\n",
    "\n",
    "重叠研究（Overlap Studies）\n",
    "\n",
    "动能指标（Momentum Indicators）\n",
    "\n",
    "周期指标（Cycle Indicators）\n",
    "\n",
    "成交量指标（Volume Indicators）\n",
    "\n",
    "波动率指标（Volatility Indicators）\n",
    "\n",
    "数学操作（Math Operators）\n",
    "\n",
    "数学变换（Math Transform）\n",
    "\n",
    "统计功能（Statistic Functions）\n",
    "\n",
    "价格转换（Price Transform）\n",
    "\n",
    "形态识别（Pattern Recognition）"
   ]
  },
  {
   "cell_type": "markdown",
   "metadata": {},
   "source": [
    "## TA_Lib需要什么样的数据格式？\n",
    "\n",
    "'numpy.ndarray'\n",
    "\n",
    "dataframe"
   ]
  },
  {
   "cell_type": "markdown",
   "metadata": {},
   "source": [
    "## 常用代码"
   ]
  },
  {
   "cell_type": "code",
   "execution_count": 1,
   "metadata": {},
   "outputs": [
    {
     "name": "stdout",
     "output_type": "stream",
     "text": [
      "[ 109.272  109.902  110.724  112.568  114.85 ]\n"
     ]
    }
   ],
   "source": [
    "import talib as ta\n",
    "import pandas as pd\n",
    "\n",
    "data = pd.read_excel('sz50.xlsx', sheetname='600036.XSHG', index_col='datetime')\n",
    "\n",
    "#读取'numpy.ndarray'\n",
    "print(ta.MA(data.close.values, 5)[-5:])"
   ]
  },
  {
   "cell_type": "code",
   "execution_count": 2,
   "metadata": {},
   "outputs": [
    {
     "name": "stdout",
     "output_type": "stream",
     "text": [
      "datetime\n",
      "2017-11-14 15:00:00    109.272\n",
      "2017-11-15 15:00:00    109.902\n",
      "2017-11-16 15:00:00    110.724\n",
      "2017-11-17 15:00:00    112.568\n",
      "2017-11-20 15:00:00    114.850\n",
      "dtype: float64\n"
     ]
    }
   ],
   "source": [
    "#直接读取DataFrame,默认读取cloumns名为close的数据。\n",
    "print(ta.abstract.MA(data, 5).tail())"
   ]
  },
  {
   "cell_type": "markdown",
   "metadata": {},
   "source": [
    "Github： https://github.com/mrjbq7/ta-lib"
   ]
  }
 ],
 "metadata": {
  "kernelspec": {
   "display_name": "Python 3",
   "language": "python",
   "name": "python3"
  },
  "language_info": {
   "codemirror_mode": {
    "name": "ipython",
    "version": 3
   },
   "file_extension": ".py",
   "mimetype": "text/x-python",
   "name": "python",
   "nbconvert_exporter": "python",
   "pygments_lexer": "ipython3",
   "version": "3.6.1"
  }
 },
 "nbformat": 4,
 "nbformat_minor": 2
}
