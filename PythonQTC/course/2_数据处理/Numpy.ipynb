{
 "cells": [
  {
   "cell_type": "markdown",
   "metadata": {},
   "source": [
    "## Numpy数组"
   ]
  },
  {
   "cell_type": "markdown",
   "metadata": {},
   "source": [
    "### 一维"
   ]
  },
  {
   "cell_type": "code",
   "execution_count": 1,
   "metadata": {
    "collapsed": false
   },
   "outputs": [
    {
     "name": "stdout",
     "output_type": "stream",
     "text": [
      "3.5 4.0\n",
      "[ 5.  2.]\n"
     ]
    }
   ],
   "source": [
    "import numpy as np\n",
    "\n",
    "returns=np.array([3.5,5,2,8,4])\n",
    "print (returns[0], returns[len(returns)-1])\n",
    "print (returns[1:3])"
   ]
  },
  {
   "cell_type": "markdown",
   "metadata": {},
   "source": [
    "### 二维"
   ]
  },
  {
   "cell_type": "code",
   "execution_count": 2,
   "metadata": {
    "collapsed": false
   },
   "outputs": [
    {
     "name": "stdout",
     "output_type": "stream",
     "text": [
      "(2, 2)\n",
      "[1 3]\n",
      "[1 2]\n",
      "<class 'numpy.ndarray'>\n",
      "[1 2]\n",
      "4\n"
     ]
    }
   ],
   "source": [
    "two_d=np.array([[1,2],[3,4]])\n",
    "print (two_d.shape)\n",
    "print (two_d[:, 0])\n",
    "print (two_d[0, :])\n",
    "print (type(two_d[0,:]))\n",
    "print (two_d[0])\n",
    "print (two_d[1, 1])"
   ]
  },
  {
   "cell_type": "markdown",
   "metadata": {},
   "source": [
    "### 三维"
   ]
  },
  {
   "cell_type": "code",
   "execution_count": 3,
   "metadata": {
    "collapsed": false
   },
   "outputs": [
    {
     "name": "stdout",
     "output_type": "stream",
     "text": [
      "(2, 2, 2)\n"
     ]
    }
   ],
   "source": [
    "three_d=np.array([[[1,2],[3,4]],[[-1,-2],[-3,-4]]])\n",
    "print(three_d.shape)"
   ]
  },
  {
   "cell_type": "markdown",
   "metadata": {},
   "source": [
    "## 计算功能"
   ]
  },
  {
   "cell_type": "code",
   "execution_count": 4,
   "metadata": {
    "collapsed": false
   },
   "outputs": [
    {
     "name": "stdout",
     "output_type": "stream",
     "text": [
      "[ 1.25276297  1.60943791  0.69314718  2.07944154  1.38629436]\n",
      "4.5\n",
      "8.0\n",
      "[ 12.  15.   9.  21.  13.]\n",
      "Std Dev:  2.0\n"
     ]
    }
   ],
   "source": [
    "print (np.log(returns))\n",
    "print (np.mean(returns))\n",
    "print (np.max(returns))\n",
    "print (returns*2 + 5)\n",
    "print ('Std Dev: ', np.std(returns))"
   ]
  },
  {
   "cell_type": "markdown",
   "metadata": {},
   "source": [
    "## 矩阵计算基础"
   ]
  },
  {
   "cell_type": "markdown",
   "metadata": {},
   "source": [
    "### 矩阵转置\n",
    "## $$A(m×n) = Transpose A(n×m)$$"
   ]
  },
  {
   "cell_type": "code",
   "execution_count": 5,
   "metadata": {
    "collapsed": false
   },
   "outputs": [
    {
     "name": "stdout",
     "output_type": "stream",
     "text": [
      "[[1 2]\n",
      " [3 4]]\n",
      "[[1 3]\n",
      " [2 4]]\n"
     ]
    }
   ],
   "source": [
    "A=np.array([[1,2],[3,4]])\n",
    "print(A)\n",
    "A_=A.T\n",
    "print(A_)"
   ]
  },
  {
   "cell_type": "markdown",
   "metadata": {},
   "source": [
    "### 矩阵加减乘除"
   ]
  },
  {
   "cell_type": "code",
   "execution_count": 6,
   "metadata": {
    "collapsed": false
   },
   "outputs": [
    {
     "name": "stdout",
     "output_type": "stream",
     "text": [
      "[[2 5]\n",
      " [5 8]]\n",
      "[[ 0 -1]\n",
      " [ 1  0]]\n"
     ]
    }
   ],
   "source": [
    "print(A+A_)\n",
    "print(A-A_)"
   ]
  },
  {
   "cell_type": "code",
   "execution_count": 7,
   "metadata": {
    "collapsed": false
   },
   "outputs": [
    {
     "name": "stdout",
     "output_type": "stream",
     "text": [
      "[[2 4]\n",
      " [6 8]]\n"
     ]
    }
   ],
   "source": [
    "print(2*A)"
   ]
  },
  {
   "cell_type": "markdown",
   "metadata": {},
   "source": [
    "### 矩阵相乘\n",
    "\n",
    "矩阵A和B必须是相符的矩阵，A的列要等于B的行。 "
   ]
  },
  {
   "cell_type": "code",
   "execution_count": 8,
   "metadata": {
    "collapsed": false
   },
   "outputs": [
    {
     "name": "stdout",
     "output_type": "stream",
     "text": [
      "[[ 8 10  4]\n",
      " [26 31 13]\n",
      " [44 52 22]]\n"
     ]
    }
   ],
   "source": [
    "A = np.array([\n",
    "[1, 2],\n",
    "[4, 5],\n",
    "[7, 8]\n",
    "])\n",
    "B = np.array([\n",
    "[4, 4, 2],\n",
    "[2, 3, 1],\n",
    "])\n",
    "print(np.dot(A, B))"
   ]
  },
  {
   "cell_type": "markdown",
   "metadata": {},
   "source": [
    "### 逆矩阵\n",
    "矩阵与逆矩阵相乘为 [[1,0][0,1]]"
   ]
  },
  {
   "cell_type": "markdown",
   "metadata": {},
   "source": [
    "## $$A^{-1}*A=In$$\n",
    "## $$A*A^{−1}=In$$\n",
    "## $$In=[[1.,0.][0.,1.]]$$"
   ]
  },
  {
   "cell_type": "code",
   "execution_count": 21,
   "metadata": {
    "collapsed": false
   },
   "outputs": [
    {
     "name": "stdout",
     "output_type": "stream",
     "text": [
      "[[ 2  1]\n",
      " [ 1 -2]]\n",
      "[[ 0.4  0.2]\n",
      " [ 0.2 -0.4]]\n",
      "[[ 1.  0.]\n",
      " [ 0.  1.]]\n"
     ]
    }
   ],
   "source": [
    "A=np.array([[2,1],[1,-2]])\n",
    "A_=np.linalg.inv(A)\n",
    "print(A)\n",
    "print(A_)\n",
    "print(np.dot(A,A_))"
   ]
  },
  {
   "cell_type": "markdown",
   "metadata": {},
   "source": [
    "矩阵解线代： \n",
    "\n",
    "## $$x = A^{−1}b$$\n",
    "\n",
    "## $$2x+y=1$$\n",
    "\n",
    "## $$x-2y=1$$\n",
    "\n",
    "## $$A=[[2,1][1,-2]]$$\n",
    "\n",
    "## $$b=[[1][1]]$$\n",
    "\n",
    "## $$z=[[x][y]]$$\n",
    "\n",
    "## $$A*z=b$$\n",
    "\n",
    "## $$\\text{两边同乘以}A^{-1}{,得出}$$\n",
    "\n",
    "## $$z=A^{-1}*b$$"
   ]
  },
  {
   "cell_type": "code",
   "execution_count": 22,
   "metadata": {
    "collapsed": false
   },
   "outputs": [
    {
     "name": "stdout",
     "output_type": "stream",
     "text": [
      "[[ 0.6]\n",
      " [-0.2]]\n"
     ]
    }
   ],
   "source": [
    "b=np.array([[1],[1]])\n",
    "z=np.dot(A_,b)\n",
    "print(z)"
   ]
  },
  {
   "cell_type": "markdown",
   "metadata": {},
   "source": [
    "### 模拟收益率计算\n",
    "random/cumprod"
   ]
  },
  {
   "cell_type": "code",
   "execution_count": 11,
   "metadata": {
    "collapsed": true
   },
   "outputs": [],
   "source": [
    "N = 10\n",
    "assets = np.zeros((N, 10))\n",
    "returns = np.zeros((N, 10))\n",
    "R_1 = np.random.normal(1.01, 0.03, 10) #生产mean是1.01,标准差是0.03,10个数字\n",
    "returns[0] = R_1 #第一行填满\n",
    "assets[0] = np.cumprod(R_1) #累乘\n",
    "for i in range(1, N): #i循环1到9\n",
    "    R_i = R_1 + np.random.normal(0.001, 0.02, 10) #依赖R_1再加随机分布值\n",
    "    returns[i] = R_i #每一行新行都填满\n",
    "    assets[i] = np.cumprod(R_i) #每一行的资产价格\n",
    "mean_returns = [(np.mean(R)-1)*100 for R in returns]\n",
    "return_volatilities = [np.std(R) for R in returns]"
   ]
  },
  {
   "cell_type": "markdown",
   "metadata": {},
   "source": [
    "### 计算预期回报率\n",
    "uniform/dot"
   ]
  },
  {
   "cell_type": "code",
   "execution_count": 12,
   "metadata": {
    "collapsed": false
   },
   "outputs": [
    {
     "name": "stdout",
     "output_type": "stream",
     "text": [
      "Expected return of the portfolio:  1.92147101096\n"
     ]
    }
   ],
   "source": [
    "weights = np.random.uniform(0, 1,N)\n",
    "weights = weights/np.sum(weights)\n",
    "p_returns = np.dot(weights, mean_returns) #相乘后求和\n",
    "print (\"Expected return of the portfolio: \", p_returns)"
   ]
  },
  {
   "cell_type": "markdown",
   "metadata": {},
   "source": [
    "## 组合方差计算\n",
    "## $$x'\\sum x $$\n",
    "## $$x=weights$$\n",
    "## $$\\sum=cov$$"
   ]
  },
  {
   "cell_type": "code",
   "execution_count": 13,
   "metadata": {
    "collapsed": false
   },
   "outputs": [
    {
     "name": "stdout",
     "output_type": "stream",
     "text": [
      "[[ 0.00099351  0.00071169  0.00100641  0.00078264  0.0005784   0.00076031\n",
      "   0.0011774   0.00080169  0.00129754  0.00137542]\n",
      " [ 0.00071169  0.00094042  0.00074393  0.0007035   0.00018939  0.00052523\n",
      "   0.00084827  0.00054028  0.00096172  0.00090507]\n",
      " [ 0.00100641  0.00074393  0.00131859  0.00077832  0.00040642  0.00064044\n",
      "   0.00116463  0.00074241  0.00122998  0.00127675]\n",
      " [ 0.00078264  0.0007035   0.00077832  0.00110114  0.00052953  0.00072944\n",
      "   0.00076405  0.00064023  0.0011361   0.00136472]\n",
      " [ 0.0005784   0.00018939  0.00040642  0.00052953  0.00080537  0.00067569\n",
      "   0.00063351  0.00034159  0.00055221  0.00092572]\n",
      " [ 0.00076031  0.00052523  0.00064044  0.00072944  0.00067569  0.00086815\n",
      "   0.00090113  0.00050108  0.0007645   0.00119473]\n",
      " [ 0.0011774   0.00084827  0.00116463  0.00076405  0.00063351  0.00090113\n",
      "   0.00157151  0.00089647  0.00147618  0.00146065]\n",
      " [ 0.00080169  0.00054028  0.00074241  0.00064023  0.00034159  0.00050108\n",
      "   0.00089647  0.00089553  0.00130243  0.00124931]\n",
      " [ 0.00129754  0.00096172  0.00122998  0.0011361   0.00055221  0.0007645\n",
      "   0.00147618  0.00130243  0.00243586  0.0019394 ]\n",
      " [ 0.00137542  0.00090507  0.00127675  0.00136472  0.00092572  0.00119473\n",
      "   0.00146065  0.00124931  0.0019394   0.00228438]]\n",
      "Portfolio volatility:  0.0320212349566\n"
     ]
    }
   ],
   "source": [
    "cov = np.cov(returns)\n",
    "print (cov)\n",
    "# INSERT VARIANCES AND COVARIANCES HERE\n",
    "var_p = np.dot(np.dot(weights, cov), weights.T)\n",
    "vol_p = np.sqrt(var_p)\n",
    "print (\"Portfolio volatility: \", vol_p)"
   ]
  },
  {
   "cell_type": "code",
   "execution_count": null,
   "metadata": {
    "collapsed": true
   },
   "outputs": [],
   "source": []
  },
  {
   "cell_type": "code",
   "execution_count": null,
   "metadata": {
    "collapsed": true
   },
   "outputs": [],
   "source": [
    "np.nan"
   ]
  }
 ],
 "metadata": {
  "kernelspec": {
   "display_name": "Python 3",
   "language": "python",
   "name": "python3"
  },
  "language_info": {
   "codemirror_mode": {
    "name": "ipython",
    "version": 3
   },
   "file_extension": ".py",
   "mimetype": "text/x-python",
   "name": "python",
   "nbconvert_exporter": "python",
   "pygments_lexer": "ipython3",
   "version": "3.6.0"
  }
 },
 "nbformat": 4,
 "nbformat_minor": 2
}
