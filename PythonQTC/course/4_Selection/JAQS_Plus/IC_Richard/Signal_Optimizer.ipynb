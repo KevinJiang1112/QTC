{
 "cells": [
  {
   "cell_type": "code",
   "execution_count": 1,
   "metadata": {
    "collapsed": false
   },
   "outputs": [
    {
     "name": "stderr",
     "output_type": "stream",
     "text": [
      "/home/xinger/anaconda3/envs/IIA/lib/python3.6/site-packages/statsmodels/compat/pandas.py:56: FutureWarning: The pandas.core.datetools module is deprecated and will be removed in a future version. Please use the pandas.tseries module instead.\n",
      "  from pandas.core import datetools\n"
     ]
    },
    {
     "name": "stdout",
     "output_type": "stream",
     "text": [
      "Dataview loaded successfully.\n"
     ]
    }
   ],
   "source": [
    "import numpy as np\n",
    "from jaqs.data import DataView\n",
    "from jaqs.research import SignalDigger\n",
    "import warnings\n",
    "\n",
    "warnings.filterwarnings(\"ignore\")\n",
    "dataview_folder = 'stockdata/hs300'\n",
    "dv = DataView()\n",
    "dv.load_dataview(dataview_folder)"
   ]
  },
  {
   "cell_type": "code",
   "execution_count": 2,
   "metadata": {
    "collapsed": true
   },
   "outputs": [],
   "source": [
    "def mask_index_member():\n",
    "    df_index_member = dv.get_ts('index_member')\n",
    "    mask_index_member = ~(df_index_member >0) #定义信号过滤条件-非指数成分\n",
    "    return mask_index_member\n",
    "\n",
    "def limit_up_down():\n",
    "    # 定义可买卖条件——未停牌、未涨跌停\n",
    "    trade_status = dv.get_ts('trade_status')\n",
    "    mask_sus = trade_status == u'停牌'\n",
    "    # 涨停\n",
    "    dv.add_formula('up_limit', '(close - Delay(close, 1)) / Delay(close, 1) > 0.095', is_quarterly=False)\n",
    "    # 跌停\n",
    "    dv.add_formula('down_limit', '(close - Delay(close, 1)) / Delay(close, 1) < -0.095', is_quarterly=False)\n",
    "    can_enter = np.logical_and(dv.get_ts('up_limit') < 1, ~mask_sus) # 未涨停未停牌\n",
    "    can_exit = np.logical_and(dv.get_ts('down_limit') < 1, ~mask_sus) # 未跌停未停牌\n",
    "    return can_enter,can_exit"
   ]
  },
  {
   "cell_type": "code",
   "execution_count": 3,
   "metadata": {
    "collapsed": true
   },
   "outputs": [],
   "source": [
    "mask = mask_index_member()\n",
    "can_enter,can_exit = limit_up_down()"
   ]
  },
  {
   "cell_type": "code",
   "execution_count": 4,
   "metadata": {
    "collapsed": true
   },
   "outputs": [],
   "source": [
    "from jaqs.research import Optimizer"
   ]
  },
  {
   "cell_type": "code",
   "execution_count": 5,
   "metadata": {
    "collapsed": true
   },
   "outputs": [],
   "source": [
    "# 优化因子\n",
    "price = dv.get_ts('close_adj')\n",
    "high = dv.get_ts('high_adj')\n",
    "low = dv.get_ts('low_adj')\n",
    "price_bench = dv.data_benchmark\n",
    "optimizer = Optimizer(dataview=dv,\n",
    "                      formula='- Correlation(vwap_adj, volume, LEN)',\n",
    "                      params={\"LEN\":range(2,4,1)},\n",
    "                      name='divert',\n",
    "                      price=price,\n",
    "                      high=high,\n",
    "                      low=low,\n",
    "                      benchmark_price=None,#=None求绝对收益 #=price_bench求相对收益\n",
    "                      period=5,\n",
    "                      n_quantiles=5,\n",
    "                      mask=mask,\n",
    "                      can_enter=can_enter,\n",
    "                      can_exit=can_exit,\n",
    "                      commission=0.0008,#手续费 默认0.0008\n",
    "                      is_event=False,#是否是事件(0/1因子)\n",
    "                      is_quarterly=False)#是否是季度因子 默认为False"
   ]
  },
  {
   "cell_type": "markdown",
   "metadata": {},
   "source": [
    "### target_type:\n",
    "* ic类:\n",
    "  return_ic/upside_ret_ic/downside_ret_ic\n",
    "* 持有收益类\n",
    "  long_ret/short_ret/long_short_ret/top_quantile_ret/bottom_quantile_ret/tmb_ret\n",
    "* 收益空间类\n",
    "  long_space/short_space/long_short_space/top_quantile_space/bottom_quantile_space/tmb_space\n",
    "\n",
    "### target:\n",
    "* ic类 \n",
    "  \"IC Mean\", \"IC Std.\", \"t-stat(IC)\", \"p-value(IC)\", \"IC Skew\", \"IC Kurtosis\", \"Ann. IR\"\n",
    "* 持有收益类 \n",
    "  't-stat', \"p-value\", \"skewness\", \"kurtosis\", \"Ann. Ret\", \"Ann. Vol\", \"Ann. IR\", \"occurance\"\n",
    "* 收益空间类的'upside_space_mean','upside_space_std','upside_space_mean/std','upside_space_max','upside_space_min','upside_space_percentile25','upside_space_percentile50','upside_space_percentile75','upside_space_occurance','downside_space_mean','downside_space_std','downside_space_mean/std','downside_space_max',downside_space_min','downside_space_percentile25','downside_space_percentile50','downside_space_percentile75','downside_space_occurance','up&down_space_mean_sum',　    "
   ]
  },
  {
   "cell_type": "code",
   "execution_count": 6,
   "metadata": {
    "collapsed": false
   },
   "outputs": [
    {
     "name": "stdout",
     "output_type": "stream",
     "text": [
      "Nan Data Count (should be zero) : 0;  Percentage of effective data: 67%\n",
      "Nan Data Count (should be zero) : 0;  Percentage of effective data: 68%\n"
     ]
    }
   ],
   "source": [
    "ret_best = optimizer.enumerate_optimizer(target_type=\"long_ret\",#优化目标类型 \n",
    "                                         target=\"Ann. IR\",#优化目标     \n",
    "                                         in_sample_range=[20170101,20170701],#样本内范围 默认为None,在全样本上优化\n",
    "                                         ascending=False)#是否按优化目标升序排列(从小到大)"
   ]
  },
  {
   "cell_type": "code",
   "execution_count": 7,
   "metadata": {
    "collapsed": false,
    "scrolled": true
   },
   "outputs": [
    {
     "name": "stdout",
     "output_type": "stream",
     "text": [
      "divert{'LEN': 3}\n",
      "             long_ret   short_ret  long_short_ret  top_quantile_ret  \\\n",
      "t-stat       1.651698    0.127259        0.551727          6.409743   \n",
      "p-value      0.101250    0.898950        0.582180          0.000000   \n",
      "skewness    -0.347678    0.347192        0.234277          0.684339   \n",
      "kurtosis    -0.297840    0.438304        2.124405         14.505309   \n",
      "Ann. Ret     0.114892    0.009147        0.016518          0.148677   \n",
      "Ann. Vol     0.108612    0.112229        0.046747          0.272277   \n",
      "Ann. IR      1.057822    0.081502        0.353350          0.546051   \n",
      "occurance  119.000000  119.000000      119.000000       6670.000000   \n",
      "\n",
      "           bottom_quantile_ret     tmb_ret  \n",
      "t-stat               -0.075431    3.432355  \n",
      "p-value               0.939870    0.000830  \n",
      "skewness              1.577147   -0.159136  \n",
      "kurtosis             26.451335    0.969194  \n",
      "Ann. Ret             -0.001845    0.149774  \n",
      "Ann. Vol              0.289122    0.068134  \n",
      "Ann. IR              -0.006381    2.198234  \n",
      "occurance          6764.000000  119.000000  \n",
      "                return_ic  upside_ret_ic  downside_ret_ic\n",
      "IC Mean      4.295950e-02       0.000260     5.575807e-02\n",
      "IC Std.      9.048440e-02       0.094757     9.660884e-02\n",
      "t-stat(IC)   5.179155e+00       0.029976     6.295994e+00\n",
      "p-value(IC)  9.290869e-07       0.976137     5.413221e-09\n",
      "IC Skew     -2.009923e-01      -0.146094    -1.554767e-01\n",
      "IC Kurtosis  5.865168e-02      -0.545926    -5.072285e-01\n",
      "Ann. IR      4.747724e-01       0.002748     5.771528e-01\n",
      "                             long_space  short_space  long_short_space  \\\n",
      "upside_space_mean              0.028565     0.029385          0.057950   \n",
      "upside_space_std               0.009790     0.014307          0.012795   \n",
      "upside_space_mean/std          2.917852     2.053921          4.529165   \n",
      "upside_space_max               0.055744     0.071498          0.089278   \n",
      "upside_space_min               0.011198     0.007238          0.036590   \n",
      "upside_space_percentile25      0.021184     0.019029          0.047835   \n",
      "upside_space_percentile50      0.026924     0.025365          0.056463   \n",
      "upside_space_percentile75      0.034902     0.034783          0.065992   \n",
      "upside_space_occurance       119.000000   119.000000        119.000000   \n",
      "downside_space_mean           -0.027198    -0.028877         -0.056075   \n",
      "downside_space_std             0.013256     0.009841          0.012262   \n",
      "downside_space_mean/std       -2.051648    -2.934298         -4.572979   \n",
      "downside_space_max            -0.008617    -0.010589         -0.034279   \n",
      "downside_space_min            -0.065861    -0.078275         -0.092836   \n",
      "downside_space_percentile25   -0.032440    -0.033848         -0.063576   \n",
      "downside_space_percentile50   -0.023863    -0.027923         -0.055796   \n",
      "downside_space_percentile75   -0.017603    -0.021793         -0.047017   \n",
      "downside_space_occurance     119.000000   119.000000        119.000000   \n",
      "up&down_space_mean_sum         0.001368     0.000508          0.001875   \n",
      "\n",
      "                             top_quantile_space  bottom_quantile_space  \\\n",
      "upside_space_mean                      0.028982               0.029420   \n",
      "upside_space_std                       0.031500               0.034664   \n",
      "upside_space_mean/std                  0.920077               0.848713   \n",
      "upside_space_max                       0.614223               0.610439   \n",
      "upside_space_min                      -0.100691              -0.100624   \n",
      "upside_space_percentile25              0.008088               0.007878   \n",
      "upside_space_percentile50              0.020725               0.020105   \n",
      "upside_space_percentile75              0.039836               0.040891   \n",
      "upside_space_occurance              6670.000000            6764.000000   \n",
      "downside_space_mean                   -0.026696              -0.029414   \n",
      "downside_space_std                     0.027165               0.028507   \n",
      "downside_space_mean/std               -0.982713              -1.031799   \n",
      "downside_space_max                     0.100139               0.099347   \n",
      "downside_space_min                    -0.311365              -0.335013   \n",
      "downside_space_percentile25           -0.034430              -0.037515   \n",
      "downside_space_percentile50           -0.019051              -0.022077   \n",
      "downside_space_percentile75           -0.009183              -0.011070   \n",
      "downside_space_occurance            6670.000000            6764.000000   \n",
      "up&down_space_mean_sum                 0.002286               0.000006   \n",
      "\n",
      "                              tmb_space  \n",
      "upside_space_mean              0.058393  \n",
      "upside_space_std               0.013146  \n",
      "upside_space_mean/std          4.441852  \n",
      "upside_space_max               0.090326  \n",
      "upside_space_min               0.033041  \n",
      "upside_space_percentile25      0.048421  \n",
      "upside_space_percentile50      0.056846  \n",
      "upside_space_percentile75      0.067787  \n",
      "upside_space_occurance       119.000000  \n",
      "downside_space_mean           -0.056147  \n",
      "downside_space_std             0.013017  \n",
      "downside_space_mean/std       -4.313417  \n",
      "downside_space_max            -0.032301  \n",
      "downside_space_min            -0.094755  \n",
      "downside_space_percentile25   -0.063428  \n",
      "downside_space_percentile50   -0.054737  \n",
      "downside_space_percentile75   -0.045903  \n",
      "downside_space_occurance     119.000000  \n",
      "up&down_space_mean_sum         0.002246  \n"
     ]
    }
   ],
   "source": [
    "print(ret_best[0][\"signal_name\"])\n",
    "print(ret_best[0][\"ret\"])\n",
    "print(ret_best[0][\"ic\"])\n",
    "print(ret_best[0][\"space\"])"
   ]
  },
  {
   "cell_type": "code",
   "execution_count": 8,
   "metadata": {
    "collapsed": false
   },
   "outputs": [],
   "source": [
    "ic_best = optimizer.enumerate_optimizer(target_type=\"return_ic\",#优化目标类型\n",
    "                                        target = \"IC Mean\",\n",
    "                                        in_sample_range=None,\n",
    "                                        ascending=False)\n",
    "                                        "
   ]
  },
  {
   "cell_type": "code",
   "execution_count": 12,
   "metadata": {
    "collapsed": false,
    "scrolled": true
   },
   "outputs": [
    {
     "name": "stdout",
     "output_type": "stream",
     "text": [
      "divert{'LEN': 3}\n",
      "                return_ic  upside_ret_ic  downside_ret_ic\n",
      "IC Mean      3.595960e-02      -0.019193     6.712929e-02\n",
      "IC Std.      1.016152e-01       0.099141     9.994974e-02\n",
      "t-stat(IC)   7.769257e+00      -4.250310     1.474531e+01\n",
      "p-value(IC)  4.811943e-14       0.000026     7.199331e-41\n",
      "IC Skew     -9.429689e-02      -0.093579     4.525592e-02\n",
      "IC Kurtosis  2.600698e-02      -0.268392    -2.893212e-01\n",
      "Ann. IR      3.538800e-01      -0.193596     6.716304e-01\n",
      "             long_ret   short_ret  long_short_ret  top_quantile_ret  \\\n",
      "t-stat       0.897656    0.718618        1.374921          5.923684   \n",
      "p-value      0.369810    0.472720        0.169790          0.000000   \n",
      "skewness    -1.143842    0.914871        0.045719          0.308722   \n",
      "kurtosis     4.949478    5.284813        9.441826          6.345131   \n",
      "Ann. Ret     0.047686    0.041418        0.050968          0.074346   \n",
      "Ann. Vol     0.168335    0.182634        0.117468          0.298537   \n",
      "Ann. IR      0.283279    0.226779        0.433893          0.249034   \n",
      "occurance  487.000000  487.000000      487.000000      27386.000000   \n",
      "\n",
      "           bottom_quantile_ret     tmb_ret  \n",
      "t-stat               -3.405724    5.063616  \n",
      "p-value               0.000660    0.000000  \n",
      "skewness              0.591349    0.124428  \n",
      "kurtosis              7.735980    0.595633  \n",
      "Ann. Ret             -0.046545    0.120775  \n",
      "Ann. Vol              0.327406    0.075581  \n",
      "Ann. IR              -0.142161    1.597958  \n",
      "occurance         27779.000000  487.000000  \n",
      "                             long_space  short_space  long_short_space  \\\n",
      "upside_space_mean              0.028565     0.029385          0.057950   \n",
      "upside_space_std               0.009790     0.014307          0.012795   \n",
      "upside_space_mean/std          2.917852     2.053921          4.529165   \n",
      "upside_space_max               0.055744     0.071498          0.089278   \n",
      "upside_space_min               0.011198     0.007238          0.036590   \n",
      "upside_space_percentile25      0.021184     0.019029          0.047835   \n",
      "upside_space_percentile50      0.026924     0.025365          0.056463   \n",
      "upside_space_percentile75      0.034902     0.034783          0.065992   \n",
      "upside_space_occurance       119.000000   119.000000        119.000000   \n",
      "downside_space_mean           -0.027198    -0.028877         -0.056075   \n",
      "downside_space_std             0.013256     0.009841          0.012262   \n",
      "downside_space_mean/std       -2.051648    -2.934298         -4.572979   \n",
      "downside_space_max            -0.008617    -0.010589         -0.034279   \n",
      "downside_space_min            -0.065861    -0.078275         -0.092836   \n",
      "downside_space_percentile25   -0.032440    -0.033848         -0.063576   \n",
      "downside_space_percentile50   -0.023863    -0.027923         -0.055796   \n",
      "downside_space_percentile75   -0.017603    -0.021793         -0.047017   \n",
      "downside_space_occurance     119.000000   119.000000        119.000000   \n",
      "up&down_space_mean_sum         0.001368     0.000508          0.001875   \n",
      "\n",
      "                             top_quantile_space  bottom_quantile_space  \\\n",
      "upside_space_mean                      0.028982               0.029420   \n",
      "upside_space_std                       0.031500               0.034664   \n",
      "upside_space_mean/std                  0.920077               0.848713   \n",
      "upside_space_max                       0.614223               0.610439   \n",
      "upside_space_min                      -0.100691              -0.100624   \n",
      "upside_space_percentile25              0.008088               0.007878   \n",
      "upside_space_percentile50              0.020725               0.020105   \n",
      "upside_space_percentile75              0.039836               0.040891   \n",
      "upside_space_occurance              6670.000000            6764.000000   \n",
      "downside_space_mean                   -0.026696              -0.029414   \n",
      "downside_space_std                     0.027165               0.028507   \n",
      "downside_space_mean/std               -0.982713              -1.031799   \n",
      "downside_space_max                     0.100139               0.099347   \n",
      "downside_space_min                    -0.311365              -0.335013   \n",
      "downside_space_percentile25           -0.034430              -0.037515   \n",
      "downside_space_percentile50           -0.019051              -0.022077   \n",
      "downside_space_percentile75           -0.009183              -0.011070   \n",
      "downside_space_occurance            6670.000000            6764.000000   \n",
      "up&down_space_mean_sum                 0.002286               0.000006   \n",
      "\n",
      "                              tmb_space  \n",
      "upside_space_mean              0.058393  \n",
      "upside_space_std               0.013146  \n",
      "upside_space_mean/std          4.441852  \n",
      "upside_space_max               0.090326  \n",
      "upside_space_min               0.033041  \n",
      "upside_space_percentile25      0.048421  \n",
      "upside_space_percentile50      0.056846  \n",
      "upside_space_percentile75      0.067787  \n",
      "upside_space_occurance       119.000000  \n",
      "downside_space_mean           -0.056147  \n",
      "downside_space_std             0.013017  \n",
      "downside_space_mean/std       -4.313417  \n",
      "downside_space_max            -0.032301  \n",
      "downside_space_min            -0.094755  \n",
      "downside_space_percentile25   -0.063428  \n",
      "downside_space_percentile50   -0.054737  \n",
      "downside_space_percentile75   -0.045903  \n",
      "downside_space_occurance     119.000000  \n",
      "up&down_space_mean_sum         0.002246  \n"
     ]
    }
   ],
   "source": [
    "print(ic_best[0][\"signal_name\"])\n",
    "print(ic_best[0][\"ic\"])\n",
    "print(ic_best[0][\"ret\"])\n",
    "print(ret_best[0][\"space\"])"
   ]
  },
  {
   "cell_type": "markdown",
   "metadata": {},
   "source": [
    "## 自定义Signal优化"
   ]
  },
  {
   "cell_type": "code",
   "execution_count": 13,
   "metadata": {
    "collapsed": false
   },
   "outputs": [],
   "source": [
    "close = price.dropna(how='all', axis=1)"
   ]
  },
  {
   "cell_type": "code",
   "execution_count": 14,
   "metadata": {
    "collapsed": false
   },
   "outputs": [
    {
     "name": "stdout",
     "output_type": "stream",
     "text": [
      "Nan Data Count (should be zero) : 0;  Percentage of effective data: 68%\n",
      "Nan Data Count (should be zero) : 0;  Percentage of effective data: 68%\n",
      "Nan Data Count (should be zero) : 0;  Percentage of effective data: 68%\n",
      "Nan Data Count (should be zero) : 0;  Percentage of effective data: 67%\n"
     ]
    }
   ],
   "source": [
    "import pandas as pd\n",
    "import talib as ta\n",
    "\n",
    "signals = dict()\n",
    "for param in [2,3,4,5]:\n",
    "    slope_df = pd.DataFrame({name: -ta.LINEARREG_SLOPE(value.values, param) for name, value in close.iteritems()}, index=close.index)\n",
    "    dv.append_df(slope_df,'slope_param='+str(param))\n",
    "    signals['slope_param='+str(param)] = optimizer.cal_signal(dv.get_ts('slope_param='+str(param)))\n",
    "optimizer.all_signals = signals"
   ]
  },
  {
   "cell_type": "code",
   "execution_count": 16,
   "metadata": {
    "collapsed": false
   },
   "outputs": [],
   "source": [
    "ic_best = optimizer.enumerate_optimizer(target_type=\"return_ic\",#优化目标类型\n",
    "                                        target = \"IC Mean\",\n",
    "                                        in_sample_range=None,\n",
    "                                        ascending=False)                                      "
   ]
  },
  {
   "cell_type": "code",
   "execution_count": 17,
   "metadata": {
    "collapsed": false,
    "scrolled": true
   },
   "outputs": [
    {
     "data": {
      "text/plain": [
       "{'ic':                 return_ic  upside_ret_ic  downside_ret_ic\n",
       " IC Mean      5.305297e-02      -0.011485     9.394080e-02\n",
       " IC Std.      1.691483e-01       0.171211     1.645907e-01\n",
       " t-stat(IC)   6.857345e+00      -1.466592     1.247851e+01\n",
       " p-value(IC)  2.181504e-11       0.143146     4.008065e-31\n",
       " IC Skew     -6.268296e-03       0.053573    -1.985105e-01\n",
       " IC Kurtosis -5.928649e-02      -0.100609    -6.067405e-02\n",
       " Ann. IR      3.136477e-01      -0.067080     5.707539e-01,\n",
       " 'ret':              long_ret   short_ret  long_short_ret  top_quantile_ret  \\\n",
       " t-stat       0.737354    1.478470        3.090167          7.462796   \n",
       " p-value      0.461270    0.139940        0.002120          0.000000   \n",
       " skewness    -0.507883    0.446097        0.838906          0.246972   \n",
       " kurtosis     1.735717    2.267040        5.558376          4.441544   \n",
       " Ann. Ret     0.043405    0.092156        0.124139          0.099044   \n",
       " Ann. Vol     0.185767    0.196703        0.126773          0.314819   \n",
       " Ann. IR      0.233655    0.468502        0.979222          0.314607   \n",
       " occurance  483.000000  483.000000      483.000000      27235.000000   \n",
       " \n",
       "            bottom_quantile_ret     tmb_ret  \n",
       " t-stat               -4.902518    4.180766  \n",
       " p-value               0.000000    0.000030  \n",
       " skewness              0.591674    0.309252  \n",
       " kurtosis              6.243792    2.076350  \n",
       " Ann. Ret             -0.071049    0.170418  \n",
       " Ann. Vol              0.346157    0.128635  \n",
       " Ann. IR              -0.205251    1.324814  \n",
       " occurance         27614.000000  483.000000  ,\n",
       " 'signal_name': 'slope_param=5',\n",
       " 'space':                              long_space  short_space  long_short_space  \\\n",
       " upside_space_mean              0.034764     0.039955          0.074718   \n",
       " upside_space_std               0.017791     0.023464          0.026888   \n",
       " upside_space_mean/std          1.953968     1.702784          2.778892   \n",
       " upside_space_max               0.121716     0.166648          0.208271   \n",
       " upside_space_min              -0.004908     0.000000          0.000000   \n",
       " upside_space_percentile25      0.023101     0.025151          0.057784   \n",
       " upside_space_percentile50      0.032286     0.034687          0.070082   \n",
       " upside_space_percentile75      0.043664     0.047816          0.085910   \n",
       " upside_space_occurance       483.000000   483.000000        483.000000   \n",
       " downside_space_mean           -0.034269    -0.038896         -0.073165   \n",
       " downside_space_std             0.022801     0.018728          0.026718   \n",
       " downside_space_mean/std       -1.503011    -2.076828         -2.738428   \n",
       " downside_space_max             0.000227     0.000000          0.000000   \n",
       " downside_space_min            -0.155210    -0.140301         -0.183834   \n",
       " downside_space_percentile25   -0.041743    -0.049124         -0.085927   \n",
       " downside_space_percentile50   -0.028160    -0.035541         -0.069744   \n",
       " downside_space_percentile75   -0.020070    -0.025914         -0.055195   \n",
       " downside_space_occurance     483.000000   483.000000        483.000000   \n",
       " up&down_space_mean_sum         0.000494     0.001059          0.001553   \n",
       " \n",
       "                              top_quantile_space  bottom_quantile_space  \\\n",
       " upside_space_mean                      0.034356               0.036718   \n",
       " upside_space_std                       0.036616               0.040141   \n",
       " upside_space_mean/std                  0.938276               0.914726   \n",
       " upside_space_max                       0.474905               0.610439   \n",
       " upside_space_min                      -0.100800              -0.100947   \n",
       " upside_space_percentile25              0.009019               0.009868   \n",
       " upside_space_percentile50              0.023900               0.025549   \n",
       " upside_space_percentile75              0.048578               0.051132   \n",
       " upside_space_occurance             27235.000000           27614.000000   \n",
       " downside_space_mean                   -0.032174              -0.037533   \n",
       " downside_space_std                     0.031841               0.034232   \n",
       " downside_space_mean/std               -1.010469              -1.096433   \n",
       " downside_space_max                     0.070584               0.099347   \n",
       " downside_space_min                    -0.426271              -0.335013   \n",
       " downside_space_percentile25           -0.043619              -0.050048   \n",
       " downside_space_percentile50           -0.023493              -0.028975   \n",
       " downside_space_percentile75           -0.010891              -0.014453   \n",
       " downside_space_occurance           27235.000000           27614.000000   \n",
       " up&down_space_mean_sum                 0.002182              -0.000815   \n",
       " \n",
       "                               tmb_space  \n",
       " upside_space_mean              0.071957  \n",
       " upside_space_std               0.024477  \n",
       " upside_space_mean/std          2.939800  \n",
       " upside_space_max               0.197430  \n",
       " upside_space_min               0.000000  \n",
       " upside_space_percentile25      0.056842  \n",
       " upside_space_percentile50      0.067953  \n",
       " upside_space_percentile75      0.081450  \n",
       " upside_space_occurance       483.000000  \n",
       " downside_space_mean           -0.068946  \n",
       " downside_space_std             0.023574  \n",
       " downside_space_mean/std       -2.924663  \n",
       " downside_space_max             0.000000  \n",
       " downside_space_min            -0.176976  \n",
       " downside_space_percentile25   -0.080329  \n",
       " downside_space_percentile50   -0.065344  \n",
       " downside_space_percentile75   -0.053498  \n",
       " downside_space_occurance     483.000000  \n",
       " up&down_space_mean_sum         0.003011  }"
      ]
     },
     "execution_count": 17,
     "metadata": {},
     "output_type": "execute_result"
    }
   ],
   "source": [
    "ic_best[0]"
   ]
  }
 ],
 "metadata": {
  "anaconda-cloud": {},
  "kernelspec": {
   "display_name": "Python [conda env:IIA]",
   "language": "python",
   "name": "conda-env-IIA-py"
  },
  "language_info": {
   "codemirror_mode": {
    "name": "ipython",
    "version": 3
   },
   "file_extension": ".py",
   "mimetype": "text/x-python",
   "name": "python",
   "nbconvert_exporter": "python",
   "pygments_lexer": "ipython3",
   "version": "3.6.1"
  }
 },
 "nbformat": 4,
 "nbformat_minor": 2
}
