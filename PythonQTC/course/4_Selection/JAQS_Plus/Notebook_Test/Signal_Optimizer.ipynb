{
 "cells": [
  {
   "cell_type": "code",
   "execution_count": 2,
   "metadata": {},
   "outputs": [
    {
     "ename": "OSError",
     "evalue": "``JAQS_Data/hs300`` does not exist",
     "output_type": "error",
     "traceback": [
      "\u001b[1;31m---------------------------------------------------------------------------\u001b[0m",
      "\u001b[1;31mOSError\u001b[0m                                   Traceback (most recent call last)",
      "\u001b[1;32m<ipython-input-2-69003e7f1d3b>\u001b[0m in \u001b[0;36m<module>\u001b[1;34m()\u001b[0m\n\u001b[0;32m      7\u001b[0m \u001b[0mdataview_folder\u001b[0m \u001b[1;33m=\u001b[0m \u001b[1;34m'JAQS_Data/hs300'\u001b[0m\u001b[1;33m\u001b[0m\u001b[0m\n\u001b[0;32m      8\u001b[0m \u001b[0mdv\u001b[0m \u001b[1;33m=\u001b[0m \u001b[0mDataView\u001b[0m\u001b[1;33m(\u001b[0m\u001b[1;33m)\u001b[0m\u001b[1;33m\u001b[0m\u001b[0m\n\u001b[1;32m----> 9\u001b[1;33m \u001b[0mdv\u001b[0m\u001b[1;33m.\u001b[0m\u001b[0mload_dataview\u001b[0m\u001b[1;33m(\u001b[0m\u001b[0mdataview_folder\u001b[0m\u001b[1;33m)\u001b[0m\u001b[1;33m\u001b[0m\u001b[0m\n\u001b[0m",
      "\u001b[1;32mD:\\Anaconda3\\lib\\site-packages\\jaqs\\data\\dataview.py\u001b[0m in \u001b[0;36mload_dataview\u001b[1;34m(self, folder_path)\u001b[0m\n\u001b[0;32m   1343\u001b[0m         \"\"\"\n\u001b[0;32m   1344\u001b[0m         \u001b[0mmeta_data\u001b[0m \u001b[1;33m=\u001b[0m \u001b[0mjutil\u001b[0m\u001b[1;33m.\u001b[0m\u001b[0mread_json\u001b[0m\u001b[1;33m(\u001b[0m\u001b[0mos\u001b[0m\u001b[1;33m.\u001b[0m\u001b[0mpath\u001b[0m\u001b[1;33m.\u001b[0m\u001b[0mjoin\u001b[0m\u001b[1;33m(\u001b[0m\u001b[0mfolder_path\u001b[0m\u001b[1;33m,\u001b[0m \u001b[1;34m'meta_data.json'\u001b[0m\u001b[1;33m)\u001b[0m\u001b[1;33m)\u001b[0m\u001b[1;33m\u001b[0m\u001b[0m\n\u001b[1;32m-> 1345\u001b[1;33m         \u001b[0mdic\u001b[0m \u001b[1;33m=\u001b[0m \u001b[0mself\u001b[0m\u001b[1;33m.\u001b[0m\u001b[0m_load_h5\u001b[0m\u001b[1;33m(\u001b[0m\u001b[0mos\u001b[0m\u001b[1;33m.\u001b[0m\u001b[0mpath\u001b[0m\u001b[1;33m.\u001b[0m\u001b[0mjoin\u001b[0m\u001b[1;33m(\u001b[0m\u001b[0mfolder_path\u001b[0m\u001b[1;33m,\u001b[0m \u001b[1;34m'data.hd5'\u001b[0m\u001b[1;33m)\u001b[0m\u001b[1;33m)\u001b[0m\u001b[1;33m\u001b[0m\u001b[0m\n\u001b[0m\u001b[0;32m   1346\u001b[0m         \u001b[0mself\u001b[0m\u001b[1;33m.\u001b[0m\u001b[0mdata_d\u001b[0m \u001b[1;33m=\u001b[0m \u001b[0mdic\u001b[0m\u001b[1;33m.\u001b[0m\u001b[0mget\u001b[0m\u001b[1;33m(\u001b[0m\u001b[1;34m'/data_d'\u001b[0m\u001b[1;33m,\u001b[0m \u001b[1;32mNone\u001b[0m\u001b[1;33m)\u001b[0m\u001b[1;33m\u001b[0m\u001b[0m\n\u001b[0;32m   1347\u001b[0m         \u001b[0mself\u001b[0m\u001b[1;33m.\u001b[0m\u001b[0mdata_q\u001b[0m \u001b[1;33m=\u001b[0m \u001b[0mdic\u001b[0m\u001b[1;33m.\u001b[0m\u001b[0mget\u001b[0m\u001b[1;33m(\u001b[0m\u001b[1;34m'/data_q'\u001b[0m\u001b[1;33m,\u001b[0m \u001b[1;32mNone\u001b[0m\u001b[1;33m)\u001b[0m\u001b[1;33m\u001b[0m\u001b[0m\n",
      "\u001b[1;32mD:\\Anaconda3\\lib\\site-packages\\jaqs\\data\\dataview.py\u001b[0m in \u001b[0;36m_load_h5\u001b[1;34m(fp)\u001b[0m\n\u001b[0;32m   1322\u001b[0m \u001b[1;33m\u001b[0m\u001b[0m\n\u001b[0;32m   1323\u001b[0m         \"\"\"\n\u001b[1;32m-> 1324\u001b[1;33m         \u001b[0mh5\u001b[0m \u001b[1;33m=\u001b[0m \u001b[0mpd\u001b[0m\u001b[1;33m.\u001b[0m\u001b[0mHDFStore\u001b[0m\u001b[1;33m(\u001b[0m\u001b[0mfp\u001b[0m\u001b[1;33m)\u001b[0m\u001b[1;33m\u001b[0m\u001b[0m\n\u001b[0m\u001b[0;32m   1325\u001b[0m \u001b[1;33m\u001b[0m\u001b[0m\n\u001b[0;32m   1326\u001b[0m         \u001b[0mres\u001b[0m \u001b[1;33m=\u001b[0m \u001b[0mdict\u001b[0m\u001b[1;33m(\u001b[0m\u001b[1;33m)\u001b[0m\u001b[1;33m\u001b[0m\u001b[0m\n",
      "\u001b[1;32mD:\\Anaconda3\\lib\\site-packages\\pandas\\io\\pytables.py\u001b[0m in \u001b[0;36m__init__\u001b[1;34m(self, path, mode, complevel, complib, fletcher32, **kwargs)\u001b[0m\n\u001b[0;32m    444\u001b[0m         \u001b[0mself\u001b[0m\u001b[1;33m.\u001b[0m\u001b[0m_fletcher32\u001b[0m \u001b[1;33m=\u001b[0m \u001b[0mfletcher32\u001b[0m\u001b[1;33m\u001b[0m\u001b[0m\n\u001b[0;32m    445\u001b[0m         \u001b[0mself\u001b[0m\u001b[1;33m.\u001b[0m\u001b[0m_filters\u001b[0m \u001b[1;33m=\u001b[0m \u001b[1;32mNone\u001b[0m\u001b[1;33m\u001b[0m\u001b[0m\n\u001b[1;32m--> 446\u001b[1;33m         \u001b[0mself\u001b[0m\u001b[1;33m.\u001b[0m\u001b[0mopen\u001b[0m\u001b[1;33m(\u001b[0m\u001b[0mmode\u001b[0m\u001b[1;33m=\u001b[0m\u001b[0mmode\u001b[0m\u001b[1;33m,\u001b[0m \u001b[1;33m**\u001b[0m\u001b[0mkwargs\u001b[0m\u001b[1;33m)\u001b[0m\u001b[1;33m\u001b[0m\u001b[0m\n\u001b[0m\u001b[0;32m    447\u001b[0m \u001b[1;33m\u001b[0m\u001b[0m\n\u001b[0;32m    448\u001b[0m     \u001b[1;33m@\u001b[0m\u001b[0mproperty\u001b[0m\u001b[1;33m\u001b[0m\u001b[0m\n",
      "\u001b[1;32mD:\\Anaconda3\\lib\\site-packages\\pandas\\io\\pytables.py\u001b[0m in \u001b[0;36mopen\u001b[1;34m(self, mode, **kwargs)\u001b[0m\n\u001b[0;32m    583\u001b[0m \u001b[1;33m\u001b[0m\u001b[0m\n\u001b[0;32m    584\u001b[0m         \u001b[1;32mtry\u001b[0m\u001b[1;33m:\u001b[0m\u001b[1;33m\u001b[0m\u001b[0m\n\u001b[1;32m--> 585\u001b[1;33m             \u001b[0mself\u001b[0m\u001b[1;33m.\u001b[0m\u001b[0m_handle\u001b[0m \u001b[1;33m=\u001b[0m \u001b[0mtables\u001b[0m\u001b[1;33m.\u001b[0m\u001b[0mopen_file\u001b[0m\u001b[1;33m(\u001b[0m\u001b[0mself\u001b[0m\u001b[1;33m.\u001b[0m\u001b[0m_path\u001b[0m\u001b[1;33m,\u001b[0m \u001b[0mself\u001b[0m\u001b[1;33m.\u001b[0m\u001b[0m_mode\u001b[0m\u001b[1;33m,\u001b[0m \u001b[1;33m**\u001b[0m\u001b[0mkwargs\u001b[0m\u001b[1;33m)\u001b[0m\u001b[1;33m\u001b[0m\u001b[0m\n\u001b[0m\u001b[0;32m    586\u001b[0m         \u001b[1;32mexcept\u001b[0m \u001b[1;33m(\u001b[0m\u001b[0mIOError\u001b[0m\u001b[1;33m)\u001b[0m \u001b[1;32mas\u001b[0m \u001b[0me\u001b[0m\u001b[1;33m:\u001b[0m  \u001b[1;31m# pragma: no cover\u001b[0m\u001b[1;33m\u001b[0m\u001b[0m\n\u001b[0;32m    587\u001b[0m             \u001b[1;32mif\u001b[0m \u001b[1;34m'can not be written'\u001b[0m \u001b[1;32min\u001b[0m \u001b[0mstr\u001b[0m\u001b[1;33m(\u001b[0m\u001b[0me\u001b[0m\u001b[1;33m)\u001b[0m\u001b[1;33m:\u001b[0m\u001b[1;33m\u001b[0m\u001b[0m\n",
      "\u001b[1;32mD:\\Anaconda3\\lib\\site-packages\\tables\\file.py\u001b[0m in \u001b[0;36mopen_file\u001b[1;34m(filename, mode, title, root_uep, filters, **kwargs)\u001b[0m\n\u001b[0;32m    318\u001b[0m \u001b[1;33m\u001b[0m\u001b[0m\n\u001b[0;32m    319\u001b[0m     \u001b[1;31m# Finally, create the File instance, and return it\u001b[0m\u001b[1;33m\u001b[0m\u001b[1;33m\u001b[0m\u001b[0m\n\u001b[1;32m--> 320\u001b[1;33m     \u001b[1;32mreturn\u001b[0m \u001b[0mFile\u001b[0m\u001b[1;33m(\u001b[0m\u001b[0mfilename\u001b[0m\u001b[1;33m,\u001b[0m \u001b[0mmode\u001b[0m\u001b[1;33m,\u001b[0m \u001b[0mtitle\u001b[0m\u001b[1;33m,\u001b[0m \u001b[0mroot_uep\u001b[0m\u001b[1;33m,\u001b[0m \u001b[0mfilters\u001b[0m\u001b[1;33m,\u001b[0m \u001b[1;33m**\u001b[0m\u001b[0mkwargs\u001b[0m\u001b[1;33m)\u001b[0m\u001b[1;33m\u001b[0m\u001b[0m\n\u001b[0m\u001b[0;32m    321\u001b[0m \u001b[1;33m\u001b[0m\u001b[0m\n\u001b[0;32m    322\u001b[0m \u001b[1;33m\u001b[0m\u001b[0m\n",
      "\u001b[1;32mD:\\Anaconda3\\lib\\site-packages\\tables\\file.py\u001b[0m in \u001b[0;36m__init__\u001b[1;34m(self, filename, mode, title, root_uep, filters, **kwargs)\u001b[0m\n\u001b[0;32m    782\u001b[0m \u001b[1;33m\u001b[0m\u001b[0m\n\u001b[0;32m    783\u001b[0m         \u001b[1;31m# Now, it is time to initialize the File extension\u001b[0m\u001b[1;33m\u001b[0m\u001b[1;33m\u001b[0m\u001b[0m\n\u001b[1;32m--> 784\u001b[1;33m         \u001b[0mself\u001b[0m\u001b[1;33m.\u001b[0m\u001b[0m_g_new\u001b[0m\u001b[1;33m(\u001b[0m\u001b[0mfilename\u001b[0m\u001b[1;33m,\u001b[0m \u001b[0mmode\u001b[0m\u001b[1;33m,\u001b[0m \u001b[1;33m**\u001b[0m\u001b[0mparams\u001b[0m\u001b[1;33m)\u001b[0m\u001b[1;33m\u001b[0m\u001b[0m\n\u001b[0m\u001b[0;32m    785\u001b[0m \u001b[1;33m\u001b[0m\u001b[0m\n\u001b[0;32m    786\u001b[0m         \u001b[1;31m# Check filters and set PyTables format version for new files.\u001b[0m\u001b[1;33m\u001b[0m\u001b[1;33m\u001b[0m\u001b[0m\n",
      "\u001b[1;32mtables\\hdf5extension.pyx\u001b[0m in \u001b[0;36mtables.hdf5extension.File._g_new (tables\\hdf5extension.c:4577)\u001b[1;34m()\u001b[0m\n",
      "\u001b[1;32mD:\\Anaconda3\\lib\\site-packages\\tables\\utils.py\u001b[0m in \u001b[0;36mcheck_file_access\u001b[1;34m(filename, mode)\u001b[0m\n\u001b[0;32m    182\u001b[0m             \u001b[0mcheck_file_access\u001b[0m\u001b[1;33m(\u001b[0m\u001b[0mfilename\u001b[0m\u001b[1;33m,\u001b[0m \u001b[1;34m'r+'\u001b[0m\u001b[1;33m)\u001b[0m\u001b[1;33m\u001b[0m\u001b[0m\n\u001b[0;32m    183\u001b[0m         \u001b[1;32melse\u001b[0m\u001b[1;33m:\u001b[0m\u001b[1;33m\u001b[0m\u001b[0m\n\u001b[1;32m--> 184\u001b[1;33m             \u001b[0mcheck_file_access\u001b[0m\u001b[1;33m(\u001b[0m\u001b[0mfilename\u001b[0m\u001b[1;33m,\u001b[0m \u001b[1;34m'w'\u001b[0m\u001b[1;33m)\u001b[0m\u001b[1;33m\u001b[0m\u001b[0m\n\u001b[0m\u001b[0;32m    185\u001b[0m     \u001b[1;32melif\u001b[0m \u001b[0mmode\u001b[0m \u001b[1;33m==\u001b[0m \u001b[1;34m'r+'\u001b[0m\u001b[1;33m:\u001b[0m\u001b[1;33m\u001b[0m\u001b[0m\n\u001b[0;32m    186\u001b[0m         \u001b[0mcheck_file_access\u001b[0m\u001b[1;33m(\u001b[0m\u001b[0mfilename\u001b[0m\u001b[1;33m,\u001b[0m \u001b[1;34m'r'\u001b[0m\u001b[1;33m)\u001b[0m\u001b[1;33m\u001b[0m\u001b[0m\n",
      "\u001b[1;32mD:\\Anaconda3\\lib\\site-packages\\tables\\utils.py\u001b[0m in \u001b[0;36mcheck_file_access\u001b[1;34m(filename, mode)\u001b[0m\n\u001b[0;32m    172\u001b[0m                 \u001b[0mparentname\u001b[0m \u001b[1;33m=\u001b[0m \u001b[1;34m'.'\u001b[0m\u001b[1;33m\u001b[0m\u001b[0m\n\u001b[0;32m    173\u001b[0m             \u001b[1;32mif\u001b[0m \u001b[1;32mnot\u001b[0m \u001b[0mos\u001b[0m\u001b[1;33m.\u001b[0m\u001b[0maccess\u001b[0m\u001b[1;33m(\u001b[0m\u001b[0mparentname\u001b[0m\u001b[1;33m,\u001b[0m \u001b[0mos\u001b[0m\u001b[1;33m.\u001b[0m\u001b[0mF_OK\u001b[0m\u001b[1;33m)\u001b[0m\u001b[1;33m:\u001b[0m\u001b[1;33m\u001b[0m\u001b[0m\n\u001b[1;32m--> 174\u001b[1;33m                 \u001b[1;32mraise\u001b[0m \u001b[0mIOError\u001b[0m\u001b[1;33m(\u001b[0m\u001b[1;34m\"``%s`` does not exist\"\u001b[0m \u001b[1;33m%\u001b[0m \u001b[1;33m(\u001b[0m\u001b[0mparentname\u001b[0m\u001b[1;33m,\u001b[0m\u001b[1;33m)\u001b[0m\u001b[1;33m)\u001b[0m\u001b[1;33m\u001b[0m\u001b[0m\n\u001b[0m\u001b[0;32m    175\u001b[0m             \u001b[1;32mif\u001b[0m \u001b[1;32mnot\u001b[0m \u001b[0mos\u001b[0m\u001b[1;33m.\u001b[0m\u001b[0mpath\u001b[0m\u001b[1;33m.\u001b[0m\u001b[0misdir\u001b[0m\u001b[1;33m(\u001b[0m\u001b[0mparentname\u001b[0m\u001b[1;33m)\u001b[0m\u001b[1;33m:\u001b[0m\u001b[1;33m\u001b[0m\u001b[0m\n\u001b[0;32m    176\u001b[0m                 \u001b[1;32mraise\u001b[0m \u001b[0mIOError\u001b[0m\u001b[1;33m(\u001b[0m\u001b[1;34m\"``%s`` is not a directory\"\u001b[0m \u001b[1;33m%\u001b[0m \u001b[1;33m(\u001b[0m\u001b[0mparentname\u001b[0m\u001b[1;33m,\u001b[0m\u001b[1;33m)\u001b[0m\u001b[1;33m)\u001b[0m\u001b[1;33m\u001b[0m\u001b[0m\n",
      "\u001b[1;31mOSError\u001b[0m: ``JAQS_Data/hs300`` does not exist"
     ]
    }
   ],
   "source": [
    "import numpy as np\n",
    "from jaqs.data import DataView\n",
    "from jaqs.research import SignalDigger\n",
    "import warnings\n",
    "\n",
    "warnings.filterwarnings(\"ignore\")\n",
    "dataview_folder = 'JAQS_Data/hs300'\n",
    "dv = DataView()\n",
    "dv.load_dataview(dataview_folder)"
   ]
  },
  {
   "cell_type": "code",
   "execution_count": null,
   "metadata": {
    "collapsed": true
   },
   "outputs": [],
   "source": [
    "def mask_index_member():\n",
    "    df_index_member = dv.get_ts('index_member')\n",
    "    mask_index_member = ~(df_index_member >0) #定义信号过滤条件-非指数成分\n",
    "    return mask_index_member\n",
    "\n",
    "def limit_up_down():\n",
    "    # 定义可买卖条件——未停牌、未涨跌停\n",
    "    trade_status = dv.get_ts('trade_status')\n",
    "    mask_sus = trade_status == u'停牌'\n",
    "    # 涨停\n",
    "    dv.add_formula('up_limit', '(close - Delay(close, 1)) / Delay(close, 1) > 0.095', is_quarterly=False)\n",
    "    # 跌停\n",
    "    dv.add_formula('down_limit', '(close - Delay(close, 1)) / Delay(close, 1) < -0.095', is_quarterly=False)\n",
    "    can_enter = np.logical_and(dv.get_ts('up_limit') < 1, ~mask_sus) # 未涨停未停牌\n",
    "    can_exit = np.logical_and(dv.get_ts('down_limit') < 1, ~mask_sus) # 未跌停未停牌\n",
    "    return can_enter,can_exit"
   ]
  },
  {
   "cell_type": "code",
   "execution_count": 3,
   "metadata": {
    "collapsed": true
   },
   "outputs": [],
   "source": [
    "mask = mask_index_member()\n",
    "can_enter,can_exit = limit_up_down()"
   ]
  },
  {
   "cell_type": "code",
   "execution_count": 4,
   "metadata": {
    "collapsed": true
   },
   "outputs": [],
   "source": [
    "from jaqs.research import Optimizer"
   ]
  },
  {
   "cell_type": "code",
   "execution_count": 5,
   "metadata": {
    "collapsed": true
   },
   "outputs": [],
   "source": [
    "# 优化因子\n",
    "price = dv.get_ts('close_adj')\n",
    "high = dv.get_ts('high_adj')\n",
    "low = dv.get_ts('low_adj')\n",
    "price_bench = dv.data_benchmark\n",
    "optimizer = Optimizer(dataview=dv,\n",
    "                      formula='- Correlation(vwap_adj, volume, LEN)',\n",
    "                      params={\"LEN\":range(2,4,1)},\n",
    "                      name='divert',\n",
    "                      price=price,\n",
    "                      high=high,\n",
    "                      low=low,\n",
    "                      benchmark_price=None,#=None求绝对收益 #=price_bench求相对收益\n",
    "                      period=5,\n",
    "                      n_quantiles=5,\n",
    "                      mask=mask,\n",
    "                      can_enter=can_enter,\n",
    "                      can_exit=can_exit,\n",
    "                      commission=0.0008,#手续费 默认0.0008\n",
    "                      is_event=False,#是否是事件(0/1因子)\n",
    "                      is_quarterly=False)#是否是季度因子 默认为False"
   ]
  },
  {
   "cell_type": "code",
   "execution_count": 6,
   "metadata": {},
   "outputs": [
    {
     "name": "stdout",
     "output_type": "stream",
     "text": [
      "Nan Data Count (should be zero) : 0;  Percentage of effective data: 67%\n",
      "Nan Data Count (should be zero) : 0;  Percentage of effective data: 68%\n"
     ]
    }
   ],
   "source": [
    "ret_best = optimizer.enumerate_optimizer(target_type=\"long_ret\",#优化目标类型 \n",
    "    #ic\n",
    "    #long_ret/short_ret/long_short_ret/top_quantile_ret/bottom_quantile_ret/tmb_ret\n",
    "    #long_space/short_space/long_short_space/top_quantile_space/bottom_quantile_space/tmb_space\n",
    "                                     target=\"Ann. IR\",#优化目标 \n",
    "#ic的 \"IC Mean\", \"IC Std.\", \"t-stat(IC)\", \"p-value(IC)\", \"IC Skew\", \"IC Kurtosis\", \"Ann. IR\",\n",
    "#收益类的 't-stat', \"p-value\", \"skewness\", \"kurtosis\", \"Ann. Ret\", \"Ann. Vol\", \"Ann. IR\", \"occurance\"\n",
    "#空间类的'upside_space_mean','upside_space_std','upside_space_mean/std','upside_space_max','upside_space_min',\n",
    "#'upside_space_percentile25','upside_space_percentile50','upside_space_percentile75','upside_space_occurance',\n",
    "#'downside_space_mean','downside_space_std','downside_space_mean/std','downside_space_max',downside_space_min',\n",
    "#'downside_space_percentile25','downside_space_percentile50','downside_space_percentile75',\n",
    "#'downside_space_occurance','up&down_space_mean_sum',　    \n",
    "                                     in_sample_range=[20170101,20170701],#样本内范围 默认为None,在全样本上优化\n",
    "                                     ascending=False)#是否按优化目标升序排列(从小到大)"
   ]
  },
  {
   "cell_type": "code",
   "execution_count": 7,
   "metadata": {
    "scrolled": true
   },
   "outputs": [
    {
     "name": "stdout",
     "output_type": "stream",
     "text": [
      "divert{'LEN': 3}\n",
      "             long_ret   short_ret  long_short_ret  top_quantile_ret  \\\n",
      "t-stat       1.651698    0.127259        0.551727          6.409743   \n",
      "p-value      0.101250    0.898950        0.582180          0.000000   \n",
      "skewness    -0.347678    0.347192        0.234277          0.684339   \n",
      "kurtosis    -0.297840    0.438304        2.124405         14.505309   \n",
      "Ann. Ret     0.114892    0.009147        0.016518          0.148677   \n",
      "Ann. Vol     0.108612    0.112229        0.046747          0.272277   \n",
      "Ann. IR      1.057822    0.081502        0.353350          0.546051   \n",
      "occurance  119.000000  119.000000      119.000000       6670.000000   \n",
      "\n",
      "           bottom_quantile_ret     tmb_ret  \n",
      "t-stat               -0.075431    3.432355  \n",
      "p-value               0.939870    0.000830  \n",
      "skewness              1.577147   -0.159136  \n",
      "kurtosis             26.451335    0.969194  \n",
      "Ann. Ret             -0.001845    0.149774  \n",
      "Ann. Vol              0.289122    0.068134  \n",
      "Ann. IR              -0.006381    2.198234  \n",
      "occurance          6764.000000  119.000000  \n",
      "                       ic\n",
      "IC Mean      4.295950e-02\n",
      "IC Std.      9.048440e-02\n",
      "t-stat(IC)   5.179155e+00\n",
      "p-value(IC)  9.290869e-07\n",
      "IC Skew     -2.009923e-01\n",
      "IC Kurtosis  5.865168e-02\n",
      "Ann. IR      4.747724e-01\n",
      "                             long_space  short_space  long_short_space  \\\n",
      "upside_space_mean              0.028565     0.029385          0.057950   \n",
      "upside_space_std               0.009790     0.014307          0.012795   \n",
      "upside_space_mean/std          2.917852     2.053921          4.529165   \n",
      "upside_space_max               0.055744     0.071498          0.089278   \n",
      "upside_space_min               0.011198     0.007238          0.036590   \n",
      "upside_space_percentile25      0.021184     0.019029          0.047835   \n",
      "upside_space_percentile50      0.026924     0.025365          0.056463   \n",
      "upside_space_percentile75      0.034902     0.034783          0.065992   \n",
      "upside_space_occurance       119.000000   119.000000        119.000000   \n",
      "downside_space_mean           -0.027198    -0.028877         -0.056075   \n",
      "downside_space_std             0.013256     0.009841          0.012262   \n",
      "downside_space_mean/std       -2.051648    -2.934298         -4.572979   \n",
      "downside_space_max            -0.008617    -0.010589         -0.034279   \n",
      "downside_space_min            -0.065861    -0.078275         -0.092836   \n",
      "downside_space_percentile25   -0.032440    -0.033848         -0.063576   \n",
      "downside_space_percentile50   -0.023863    -0.027923         -0.055796   \n",
      "downside_space_percentile75   -0.017603    -0.021793         -0.047017   \n",
      "downside_space_occurance     119.000000   119.000000        119.000000   \n",
      "up&down_space_mean_sum         0.001368     0.000508          0.001875   \n",
      "\n",
      "                             top_quantile_space  bottom_quantile_space  \\\n",
      "upside_space_mean                      0.028982               0.029420   \n",
      "upside_space_std                       0.031500               0.034664   \n",
      "upside_space_mean/std                  0.920077               0.848713   \n",
      "upside_space_max                       0.614223               0.610439   \n",
      "upside_space_min                      -0.100691              -0.100624   \n",
      "upside_space_percentile25              0.008088               0.007878   \n",
      "upside_space_percentile50              0.020725               0.020105   \n",
      "upside_space_percentile75              0.039836               0.040891   \n",
      "upside_space_occurance              6670.000000            6764.000000   \n",
      "downside_space_mean                   -0.026696              -0.029414   \n",
      "downside_space_std                     0.027165               0.028507   \n",
      "downside_space_mean/std               -0.982713              -1.031799   \n",
      "downside_space_max                     0.100139               0.099347   \n",
      "downside_space_min                    -0.311365              -0.335013   \n",
      "downside_space_percentile25           -0.034430              -0.037515   \n",
      "downside_space_percentile50           -0.019051              -0.022077   \n",
      "downside_space_percentile75           -0.009183              -0.011070   \n",
      "downside_space_occurance            6670.000000            6764.000000   \n",
      "up&down_space_mean_sum                 0.002286               0.000006   \n",
      "\n",
      "                              tmb_space  \n",
      "upside_space_mean              0.058393  \n",
      "upside_space_std               0.013146  \n",
      "upside_space_mean/std          4.441852  \n",
      "upside_space_max               0.090326  \n",
      "upside_space_min               0.033041  \n",
      "upside_space_percentile25      0.048421  \n",
      "upside_space_percentile50      0.056846  \n",
      "upside_space_percentile75      0.067787  \n",
      "upside_space_occurance       119.000000  \n",
      "downside_space_mean           -0.056147  \n",
      "downside_space_std             0.013017  \n",
      "downside_space_mean/std       -4.313417  \n",
      "downside_space_max            -0.032301  \n",
      "downside_space_min            -0.094755  \n",
      "downside_space_percentile25   -0.063428  \n",
      "downside_space_percentile50   -0.054737  \n",
      "downside_space_percentile75   -0.045903  \n",
      "downside_space_occurance     119.000000  \n",
      "up&down_space_mean_sum         0.002246  \n"
     ]
    }
   ],
   "source": [
    "print(ret_best[0][\"signal_name\"])\n",
    "print(ret_best[0][\"ret\"])\n",
    "print(ret_best[0][\"ic\"])\n",
    "print(ret_best[0][\"space\"])"
   ]
  },
  {
   "cell_type": "code",
   "execution_count": 8,
   "metadata": {},
   "outputs": [],
   "source": [
    "ic_best = optimizer.enumerate_optimizer(target_type=\"ic\",#优化目标类型\n",
    "                                        target = \"IC Mean\",\n",
    "                                        in_sample_range=None,\n",
    "                                        ascending=False)\n",
    "                                        "
   ]
  },
  {
   "cell_type": "code",
   "execution_count": 9,
   "metadata": {},
   "outputs": [
    {
     "name": "stdout",
     "output_type": "stream",
     "text": [
      "divert{'LEN': 3}\n",
      "             long_ret   short_ret  long_short_ret  top_quantile_ret  \\\n",
      "t-stat       0.897656    0.718618        1.374921          5.923684   \n",
      "p-value      0.369810    0.472720        0.169790          0.000000   \n",
      "skewness    -1.143842    0.914871        0.045719          0.308722   \n",
      "kurtosis     4.949478    5.284813        9.441826          6.345131   \n",
      "Ann. Ret     0.047686    0.041418        0.050968          0.074346   \n",
      "Ann. Vol     0.168335    0.182634        0.117468          0.298537   \n",
      "Ann. IR      0.283279    0.226779        0.433893          0.249034   \n",
      "occurance  487.000000  487.000000      487.000000      27386.000000   \n",
      "\n",
      "           bottom_quantile_ret     tmb_ret  \n",
      "t-stat               -3.405724    5.063616  \n",
      "p-value               0.000660    0.000000  \n",
      "skewness              0.591349    0.124428  \n",
      "kurtosis              7.735980    0.595633  \n",
      "Ann. Ret             -0.046545    0.120775  \n",
      "Ann. Vol              0.327406    0.075581  \n",
      "Ann. IR              -0.142161    1.597958  \n",
      "occurance         27779.000000  487.000000  \n",
      "                       ic\n",
      "IC Mean      3.595960e-02\n",
      "IC Std.      1.016152e-01\n",
      "t-stat(IC)   7.769257e+00\n",
      "p-value(IC)  4.811943e-14\n",
      "IC Skew     -9.429689e-02\n",
      "IC Kurtosis  2.600698e-02\n",
      "Ann. IR      3.538800e-01\n"
     ]
    }
   ],
   "source": [
    "print(ic_best[0][\"signal_name\"])\n",
    "print(ic_best[0][\"ret\"])\n",
    "print(ic_best[0][\"ic\"])"
   ]
  },
  {
   "cell_type": "markdown",
   "metadata": {},
   "source": [
    "## 自定义Signal优化"
   ]
  },
  {
   "cell_type": "code",
   "execution_count": 10,
   "metadata": {},
   "outputs": [],
   "source": [
    "close = price.dropna(how='all', axis=1)"
   ]
  },
  {
   "cell_type": "code",
   "execution_count": 11,
   "metadata": {},
   "outputs": [
    {
     "name": "stdout",
     "output_type": "stream",
     "text": [
      "Nan Data Count (should be zero) : 0;  Percentage of effective data: 24%\n",
      "Nan Data Count (should be zero) : 0;  Percentage of effective data: 24%\n",
      "Nan Data Count (should be zero) : 0;  Percentage of effective data: 24%\n",
      "Nan Data Count (should be zero) : 0;  Percentage of effective data: 24%\n"
     ]
    }
   ],
   "source": [
    "import pandas as pd\n",
    "import talib as ta\n",
    "\n",
    "signals = dict()\n",
    "for param in [2,3,4,5]:\n",
    "    slope_df = pd.DataFrame({name: -ta.LINEARREG_SLOPE(value.values, param) for name, value in close.iteritems()}, index=close.index)\n",
    "    dv.append_df(slope_df,'slope_param='+str(param))\n",
    "    signals['slope_param='+str(param)] = optimizer.cal_signal(dv.get_ts('slope_param='+str(param)))\n",
    "optimizer.all_signals = signals"
   ]
  },
  {
   "cell_type": "code",
   "execution_count": 15,
   "metadata": {
    "collapsed": true
   },
   "outputs": [],
   "source": [
    "ic_best = optimizer.enumerate_optimizer(target_type=\"long_ret\",#优化目标类型\n",
    "                                        target = \"Ann. Ret\",\n",
    "                                        in_sample_range=None,\n",
    "                                        ascending=False)                                      "
   ]
  },
  {
   "cell_type": "code",
   "execution_count": 17,
   "metadata": {
    "scrolled": true
   },
   "outputs": [
    {
     "data": {
      "text/plain": [
       "{'ic':                    ic\n",
       " IC Mean      0.036087\n",
       " IC Std.      0.163851\n",
       " t-stat(IC)   4.815237\n",
       " p-value(IC)  0.000002\n",
       " IC Skew      0.167275\n",
       " IC Kurtosis  0.206846\n",
       " Ann. IR      0.220244,\n",
       " 'ret':              long_ret   short_ret  long_short_ret  top_quantile_ret  \\\n",
       " t-stat       1.474180    0.110363        1.827880          3.590692   \n",
       " p-value      0.141090    0.912170        0.068190          0.000330   \n",
       " skewness     0.104087   -0.270758        0.639742          0.604468   \n",
       " kurtosis     2.316515    1.724054        3.300459          5.824864   \n",
       " Ann. Ret     0.130162    0.009663        0.097608          0.099809   \n",
       " Ann. Vol     0.278634    0.276303        0.168515          0.387294   \n",
       " Ann. IR      0.467143    0.034972        0.579224          0.257709   \n",
       " occurance  483.000000  483.000000      483.000000       9397.000000   \n",
       " \n",
       "            bottom_quantile_ret     tmb_ret  \n",
       " t-stat                0.549364    2.079622  \n",
       " p-value               0.582770    0.038090  \n",
       " skewness              0.839824    0.701379  \n",
       " kurtosis              5.753182    4.630149  \n",
       " Ann. Ret              0.016800    0.109314  \n",
       " Ann. Vol              0.434872    0.165879  \n",
       " Ann. IR               0.038633    0.658997  \n",
       " occurance          9788.000000  483.000000  ,\n",
       " 'signal_name': 'slope_param=5'}"
      ]
     },
     "execution_count": 17,
     "metadata": {},
     "output_type": "execute_result"
    }
   ],
   "source": [
    "ic_best[0]"
   ]
  },
  {
   "cell_type": "code",
   "execution_count": null,
   "metadata": {
    "collapsed": true
   },
   "outputs": [],
   "source": []
  }
 ],
 "metadata": {
  "anaconda-cloud": {},
  "kernelspec": {
   "display_name": "Python 3",
   "language": "python",
   "name": "python3"
  },
  "language_info": {
   "codemirror_mode": {
    "name": "ipython",
    "version": 3
   },
   "file_extension": ".py",
   "mimetype": "text/x-python",
   "name": "python",
   "nbconvert_exporter": "python",
   "pygments_lexer": "ipython3",
   "version": "3.6.1"
  }
 },
 "nbformat": 4,
 "nbformat_minor": 2
}
