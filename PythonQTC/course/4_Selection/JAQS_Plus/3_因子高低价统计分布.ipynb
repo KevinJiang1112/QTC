{
 "cells": [
  {
   "cell_type": "markdown",
   "metadata": {},
   "source": [
    "# 因子高低价统计分布\n",
    "1. 读取本地数据\n",
    "2. 添加signal，添加high,low获取signal_data\n",
    "3. 对最高价与最低价进行分析,输出做多的Quantile75的止盈止损位"
   ]
  },
  {
   "cell_type": "markdown",
   "metadata": {},
   "source": [
    "## 1_读取本地数据"
   ]
  },
  {
   "cell_type": "code",
   "execution_count": 1,
   "metadata": {},
   "outputs": [
    {
     "name": "stderr",
     "output_type": "stream",
     "text": [
      "D:\\Anaconda3\\lib\\site-packages\\statsmodels\\compat\\pandas.py:56: FutureWarning: The pandas.core.datetools module is deprecated and will be removed in a future version. Please use the pandas.tseries module instead.\n",
      "  from pandas.core import datetools\n"
     ]
    },
    {
     "name": "stdout",
     "output_type": "stream",
     "text": [
      "Dataview loaded successfully.\n"
     ]
    }
   ],
   "source": [
    "import numpy as np\n",
    "from jaqs.data import DataView\n",
    "from jaqs.research import SignalDigger\n",
    "import warnings\n",
    "\n",
    "warnings.filterwarnings(\"ignore\")\n",
    "dataview_folder = 'JAQS_Data/hs300'\n",
    "dv = DataView()\n",
    "dv.load_dataview(dataview_folder)"
   ]
  },
  {
   "cell_type": "code",
   "execution_count": 17,
   "metadata": {
    "collapsed": true
   },
   "outputs": [],
   "source": [
    "def mask_index_member():\n",
    "    df_index_member = dv.get_ts('index_member')\n",
    "    mask_index_member = ~(df_index_member ==0) #定义信号过滤条件-非指数成分\n",
    "    return mask_index_member\n",
    "\n",
    "def limit_up_down():\n",
    "    # 定义可买卖条件——未停牌、未涨跌停\n",
    "    trade_status = dv.get_ts('trade_status')\n",
    "    mask_sus = trade_status == u'停牌'\n",
    "    # 涨停\n",
    "    dv.add_formula('up_limit', '(close - Delay(close, 1)) / Delay(close, 1) > 0.095', is_quarterly=False)\n",
    "    # 跌停\n",
    "    dv.add_formula('down_limit', '(close - Delay(close, 1)) / Delay(close, 1) < -0.095', is_quarterly=False)\n",
    "    can_enter = np.logical_and(dv.get_ts('up_limit') < 1, ~mask_sus) # 未涨停未停牌\n",
    "    can_exit = np.logical_and(dv.get_ts('down_limit') < 1, ~mask_sus) # 未跌停未停牌\n",
    "    return can_enter,can_exit"
   ]
  },
  {
   "cell_type": "code",
   "execution_count": 18,
   "metadata": {},
   "outputs": [
    {
     "name": "stdout",
     "output_type": "stream",
     "text": [
      "Add formula failed: name [up_limit] exist. Try another name.\n",
      "Add formula failed: name [down_limit] exist. Try another name.\n"
     ]
    }
   ],
   "source": [
    "mask = mask_index_member()\n",
    "can_enter,can_exit = limit_up_down()\n",
    "price = dv.get_ts('close_adj')\n",
    "high = dv.get_ts('high_adj')\n",
    "low = dv.get_ts('low_adj')\n",
    "price_bench = dv.data_benchmark"
   ]
  },
  {
   "cell_type": "markdown",
   "metadata": {},
   "source": [
    "## 2_添加signal，添加high,low获取signal_data"
   ]
  },
  {
   "cell_type": "code",
   "execution_count": 19,
   "metadata": {
    "scrolled": true
   },
   "outputs": [
    {
     "name": "stdout",
     "output_type": "stream",
     "text": [
      "Add formula failed: name [factor] exist. Try another name.\n"
     ]
    }
   ],
   "source": [
    "dv.add_formula(\"Cor_Vwap\",'- Correlation(vwap_adj, volume, 10)',is_quarterly=False)\n",
    "signal = dv.get_ts(\"Cor_Vwap\")"
   ]
  },
  {
   "cell_type": "code",
   "execution_count": 27,
   "metadata": {},
   "outputs": [
    {
     "name": "stdout",
     "output_type": "stream",
     "text": [
      "Nan Data Count (should be zero) : 0;  Percentage of effective data: 35%\n",
      "                        signal    return  upside_ret  downside_ret  quantile\n",
      "trade_date symbol                                                           \n",
      "20120105   000008.SZ  0.244504  0.111011    0.133058     -0.038595         5\n",
      "           000031.SZ  0.175844  0.073580    0.101128     -0.014574         4\n",
      "           000046.SZ -0.655705  0.023770    0.067996     -0.027827         2\n",
      "           000400.SZ  0.413553  0.027469    0.052792     -0.087961         5\n",
      "           000413.SZ -0.770937  0.139239    0.170798     -0.014607         1\n"
     ]
    }
   ],
   "source": [
    "sig = SignalDigger(output_format=None)\n",
    "sig.process_signal_before_analysis(signal,\n",
    "                                   price=price,\n",
    "                                   high=high,\n",
    "                                   low=low,\n",
    "                                   n_quantiles=5,\n",
    "                                   mask=mask,\n",
    "                                   can_enter=can_enter,\n",
    "                                   can_exit=can_exit,\n",
    "                                   period=5,\n",
    "                                   #benchmark_price=price_bench,\n",
    "                                   forward=True,)\n",
    "signal_data = sig.signal_data\n",
    "print(signal_data.head())"
   ]
  },
  {
   "cell_type": "markdown",
   "metadata": {},
   "source": [
    "## 3_对最高价与最低价进行分析,输出做多的Quantile75的止盈止损位"
   ]
  },
  {
   "cell_type": "code",
   "execution_count": 20,
   "metadata": {
    "scrolled": true
   },
   "outputs": [],
   "source": [
    "from jaqs.research import analysis\n",
    "result = analysis(signal_data=signal_data,\n",
    "                  is_event=False,\n",
    "                  period=5)"
   ]
  },
  {
   "cell_type": "code",
   "execution_count": 25,
   "metadata": {},
   "outputs": [
    {
     "name": "stdout",
     "output_type": "stream",
     "text": [
      "Percentile75止盈: 0.0512136099887\n"
     ]
    }
   ],
   "source": [
    "print('Percentile75止盈:', result[\"space\"].loc['upside_space_percentile75','long_space'])"
   ]
  },
  {
   "cell_type": "code",
   "execution_count": 26,
   "metadata": {},
   "outputs": [
    {
     "name": "stdout",
     "output_type": "stream",
     "text": [
      "Percentile75止损: -0.0196126635889\n"
     ]
    }
   ],
   "source": [
    "print('Percentile75止损:', result[\"space\"].loc['downside_space_percentile75','long_space'])"
   ]
  }
 ],
 "metadata": {
  "anaconda-cloud": {},
  "kernelspec": {
   "display_name": "Python 3",
   "language": "python",
   "name": "python3"
  },
  "language_info": {
   "codemirror_mode": {
    "name": "ipython",
    "version": 3
   },
   "file_extension": ".py",
   "mimetype": "text/x-python",
   "name": "python",
   "nbconvert_exporter": "python",
   "pygments_lexer": "ipython3",
   "version": "3.6.1"
  }
 },
 "nbformat": 4,
 "nbformat_minor": 2
}
