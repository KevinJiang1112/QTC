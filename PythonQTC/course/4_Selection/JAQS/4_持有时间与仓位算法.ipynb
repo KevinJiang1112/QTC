{
 "cells": [
  {
   "cell_type": "markdown",
   "metadata": {},
   "source": [
    "## 持有时间与仓位算法\n",
    "1. 读取本地数据\n",
    "2. 读取信号, 并且修改权重\n",
    "3. 持有10天的权重分配"
   ]
  },
  {
   "cell_type": "markdown",
   "metadata": {},
   "source": [
    "## 1_读取本地数据"
   ]
  },
  {
   "cell_type": "code",
   "execution_count": 1,
   "metadata": {},
   "outputs": [
    {
     "name": "stderr",
     "output_type": "stream",
     "text": [
      "D:\\Anaconda3\\lib\\site-packages\\statsmodels\\compat\\pandas.py:56: FutureWarning: The pandas.core.datetools module is deprecated and will be removed in a future version. Please use the pandas.tseries module instead.\n",
      "  from pandas.core import datetools\n"
     ]
    }
   ],
   "source": [
    "import pandas as pd\n",
    "import numpy as np\n",
    "from jaqs.data import DataView\n",
    "from jaqs.research import SignalDigger\n",
    "import warnings\n",
    "\n",
    "data = pd.read_excel('signal_df.xlsx', index_col='trade_date')"
   ]
  },
  {
   "cell_type": "code",
   "execution_count": 2,
   "metadata": {},
   "outputs": [
    {
     "name": "stdout",
     "output_type": "stream",
     "text": [
      "trade_date           \n",
      "20171218    000001.SZ    0.028519\n",
      "            000069.SZ    0.044093\n",
      "            000100.SZ    0.028474\n",
      "            000402.SZ    0.029721\n",
      "            000623.SZ    0.037530\n",
      "            000728.SZ    0.045084\n",
      "            000776.SZ    0.029339\n",
      "            000783.SZ    0.037970\n",
      "            000959.SZ    0.027329\n",
      "            000963.SZ    0.046964\n",
      "            002236.SZ    0.106231\n",
      "            002241.SZ    0.026804\n",
      "            002310.SZ    0.028444\n",
      "            002426.SZ    0.026606\n",
      "            002456.SZ    0.160243\n",
      "            002475.SZ    0.062133\n",
      "            002572.SZ    0.064084\n",
      "            002736.SZ    0.030157\n",
      "            002831.SZ    0.026710\n",
      "            002839.SZ    0.045822\n",
      "            300059.SZ    0.040967\n",
      "            600016.SH    0.028757\n",
      "            600018.SH    0.036246\n",
      "            600048.SH    0.029588\n",
      "            600068.SH    0.066481\n",
      "            600297.SH    0.029303\n",
      "            600340.SH    0.032477\n",
      "            600369.SH    0.032991\n",
      "            600376.SH    0.044635\n",
      "            600383.SH    0.042118\n",
      "                           ...   \n",
      "20171222    600376.SH    0.069270\n",
      "            600390.SH    0.026247\n",
      "            600415.SH    0.046980\n",
      "            600522.SH    0.029764\n",
      "            600663.SH    0.085307\n",
      "            600795.SH    0.052296\n",
      "            600804.SH    0.135629\n",
      "            600827.SH    0.051967\n",
      "            600837.SH    0.071733\n",
      "            600871.SH    0.036321\n",
      "            600895.SH    0.048910\n",
      "            600926.SH    0.037022\n",
      "            600958.SH    0.066338\n",
      "            600959.SH    0.053739\n",
      "            601018.SH    0.035732\n",
      "            601118.SH    0.031308\n",
      "            601186.SH    0.025082\n",
      "            601198.SH    0.027028\n",
      "            601212.SH    0.066140\n",
      "            601228.SH    0.036832\n",
      "            601229.SH    0.025712\n",
      "            601555.SH    0.042266\n",
      "            601633.SH    0.025228\n",
      "            601727.SH    0.030271\n",
      "            601985.SH    0.025059\n",
      "            601992.SH    0.034200\n",
      "            601997.SH    0.045971\n",
      "            603160.SH    0.037208\n",
      "            603799.SH    0.065817\n",
      "            603993.SH    0.034091\n",
      "Length: 283, dtype: float64\n"
     ]
    }
   ],
   "source": [
    "print(data.tail().stack())"
   ]
  },
  {
   "cell_type": "markdown",
   "metadata": {},
   "source": [
    "## 2_读取信号, 并且修改权重"
   ]
  },
  {
   "cell_type": "code",
   "execution_count": 3,
   "metadata": {
    "collapsed": true
   },
   "outputs": [],
   "source": [
    "import pandas as pd\n",
    "\n",
    "weight_list = []\n",
    "for time_index, weight in data.iterrows():\n",
    "    weiht_result = (weight/weight.sum())\n",
    "    weight_list.append(weiht_result.to_dict())\n",
    "stock_df = pd.DataFrame(weight_list, index=data.index)"
   ]
  },
  {
   "cell_type": "code",
   "execution_count": 4,
   "metadata": {
    "scrolled": true
   },
   "outputs": [
    {
     "name": "stdout",
     "output_type": "stream",
     "text": [
      "trade_date           \n",
      "20171218    000001.SZ    0.012165\n",
      "            000069.SZ    0.018808\n",
      "            000100.SZ    0.012145\n",
      "            000402.SZ    0.012678\n",
      "            000623.SZ    0.016008\n",
      "            000728.SZ    0.019231\n",
      "            000776.SZ    0.012515\n",
      "            000783.SZ    0.016196\n",
      "            000959.SZ    0.011657\n",
      "            000963.SZ    0.020032\n",
      "            002236.SZ    0.045312\n",
      "            002241.SZ    0.011433\n",
      "            002310.SZ    0.012133\n",
      "            002426.SZ    0.011349\n",
      "            002456.SZ    0.068351\n",
      "            002475.SZ    0.026503\n",
      "            002572.SZ    0.027335\n",
      "            002736.SZ    0.012863\n",
      "            002831.SZ    0.011393\n",
      "            002839.SZ    0.019545\n",
      "            300059.SZ    0.017474\n",
      "            600016.SH    0.012266\n",
      "            600018.SH    0.015460\n",
      "            600048.SH    0.012621\n",
      "            600068.SH    0.028357\n",
      "            600297.SH    0.012499\n",
      "            600340.SH    0.013853\n",
      "            600369.SH    0.014072\n",
      "            600376.SH    0.019039\n",
      "            600383.SH    0.017965\n",
      "                           ...   \n",
      "20171222    600376.SH    0.025168\n",
      "            600390.SH    0.009537\n",
      "            600415.SH    0.017069\n",
      "            600522.SH    0.010815\n",
      "            600663.SH    0.030995\n",
      "            600795.SH    0.019001\n",
      "            600804.SH    0.049279\n",
      "            600827.SH    0.018882\n",
      "            600837.SH    0.026063\n",
      "            600871.SH    0.013197\n",
      "            600895.SH    0.017771\n",
      "            600926.SH    0.013452\n",
      "            600958.SH    0.024103\n",
      "            600959.SH    0.019525\n",
      "            601018.SH    0.012983\n",
      "            601118.SH    0.011375\n",
      "            601186.SH    0.009113\n",
      "            601198.SH    0.009820\n",
      "            601212.SH    0.024031\n",
      "            601228.SH    0.013382\n",
      "            601229.SH    0.009342\n",
      "            601555.SH    0.015357\n",
      "            601633.SH    0.009166\n",
      "            601727.SH    0.010998\n",
      "            601985.SH    0.009105\n",
      "            601992.SH    0.012426\n",
      "            601997.SH    0.016703\n",
      "            603160.SH    0.013519\n",
      "            603799.SH    0.023914\n",
      "            603993.SH    0.012387\n",
      "Length: 283, dtype: float64\n"
     ]
    }
   ],
   "source": [
    "print(stock_df.tail().stack())"
   ]
  },
  {
   "cell_type": "code",
   "execution_count": 5,
   "metadata": {},
   "outputs": [
    {
     "name": "stdout",
     "output_type": "stream",
     "text": [
      "trade_date\n",
      "20120105    1.0\n",
      "20120106    1.0\n",
      "20120109    1.0\n",
      "20120110    1.0\n",
      "20120111    1.0\n",
      "20120112    1.0\n",
      "20120113    1.0\n",
      "20120116    1.0\n",
      "20120117    1.0\n",
      "20120118    1.0\n",
      "20120119    1.0\n",
      "20120120    1.0\n",
      "20120130    1.0\n",
      "20120131    1.0\n",
      "20120201    1.0\n",
      "20120202    1.0\n",
      "20120203    1.0\n",
      "20120206    1.0\n",
      "20120207    1.0\n",
      "20120208    1.0\n",
      "20120209    1.0\n",
      "20120210    1.0\n",
      "20120213    1.0\n",
      "20120214    1.0\n",
      "20120215    1.0\n",
      "20120216    1.0\n",
      "20120217    1.0\n",
      "20120220    1.0\n",
      "20120221    1.0\n",
      "20120222    1.0\n",
      "           ... \n",
      "20171113    1.0\n",
      "20171114    1.0\n",
      "20171115    1.0\n",
      "20171116    1.0\n",
      "20171117    1.0\n",
      "20171120    1.0\n",
      "20171121    1.0\n",
      "20171122    1.0\n",
      "20171123    1.0\n",
      "20171124    1.0\n",
      "20171127    1.0\n",
      "20171128    1.0\n",
      "20171129    1.0\n",
      "20171130    1.0\n",
      "20171201    1.0\n",
      "20171204    1.0\n",
      "20171205    1.0\n",
      "20171206    1.0\n",
      "20171207    1.0\n",
      "20171208    1.0\n",
      "20171211    1.0\n",
      "20171212    1.0\n",
      "20171213    1.0\n",
      "20171214    1.0\n",
      "20171215    1.0\n",
      "20171218    1.0\n",
      "20171219    1.0\n",
      "20171220    1.0\n",
      "20171221    1.0\n",
      "20171222    1.0\n",
      "Length: 1452, dtype: float64\n"
     ]
    }
   ],
   "source": [
    "print(stock_df.sum(axis=1))"
   ]
  },
  {
   "cell_type": "markdown",
   "metadata": {},
   "source": [
    "## 3_持有gap天的权重分配\n",
    "1. 切片拆分\n",
    "2. 重塑索引填补权重\n",
    "3. 将表格求和"
   ]
  },
  {
   "cell_type": "code",
   "execution_count": 6,
   "metadata": {},
   "outputs": [
    {
     "name": "stderr",
     "output_type": "stream",
     "text": [
      "D:\\Anaconda3\\lib\\site-packages\\ipykernel_launcher.py:7: FutureWarning: pd.rolling_apply is deprecated for DataFrame and will be removed in a future version, replace with \n",
      "\tDataFrame.rolling(window=8,center=False).apply(func=<builtin_function_or_method>,args=<tuple>,kwargs=<dict>)\n",
      "  import sys\n"
     ]
    },
    {
     "name": "stdout",
     "output_type": "stream",
     "text": [
      "2012-01-05 15:00:00    0.125\n",
      "2012-01-06 15:00:00    0.250\n",
      "2012-01-09 15:00:00    0.375\n",
      "2012-01-10 15:00:00    0.500\n",
      "2012-01-11 15:00:00    0.625\n",
      "2012-01-12 15:00:00    0.750\n",
      "2012-01-13 15:00:00    0.875\n",
      "2012-01-16 15:00:00    1.000\n",
      "2012-01-17 15:00:00    1.000\n",
      "dtype: float64\n"
     ]
    }
   ],
   "source": [
    "import pandas as pd\n",
    "import numpy as np\n",
    "from datetime import datetime, timedelta\n",
    "\n",
    "def cal_daily_weight(df, gap=5):\n",
    "    df = pd.concat([pd.DataFrame(0, list(range(gap-1)), df.columns), df])\n",
    "    return (pd.rolling_apply(df, gap, sum)/gap).iloc[gap-1:]\n",
    "    \n",
    "def change_columns_index(signal):\n",
    "    new_names = {}\n",
    "    for c in signal.columns:\n",
    "        if c.endswith('SZ'):\n",
    "            new_names[c] = c.replace('SZ', 'XSHE')\n",
    "        elif c.endswith('SH'):\n",
    "            new_names[c] = c.replace('SH', 'XSHG')\n",
    "    signal = signal.rename_axis(new_names, axis=1)\n",
    "    signal.index = pd.Index(map(lambda x: datetime.strptime(str(x),\"%Y%m%d\") , signal.index))\n",
    "    signal.index = pd.Index(map(lambda x: x+timedelta(hours=15) , signal.index))\n",
    "    return signal\n",
    "\n",
    "table = change_columns_index(stock_df)\n",
    "target = cal_daily_weight(table.fillna(0), gap=8)\n",
    "print(target.head(9).sum(1))"
   ]
  }
 ],
 "metadata": {
  "kernelspec": {
   "display_name": "Python 3",
   "language": "python",
   "name": "python3"
  },
  "language_info": {
   "codemirror_mode": {
    "name": "ipython",
    "version": 3
   },
   "file_extension": ".py",
   "mimetype": "text/x-python",
   "name": "python",
   "nbconvert_exporter": "python",
   "pygments_lexer": "ipython3",
   "version": "3.6.1"
  }
 },
 "nbformat": 4,
 "nbformat_minor": 2
}
