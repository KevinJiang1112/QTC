{
 "cells": [
  {
   "cell_type": "code",
   "execution_count": 1,
   "metadata": {},
   "outputs": [
    {
     "name": "stderr",
     "output_type": "stream",
     "text": [
      "D:\\Anaconda3\\lib\\site-packages\\statsmodels\\compat\\pandas.py:56: FutureWarning: The pandas.core.datetools module is deprecated and will be removed in a future version. Please use the pandas.tseries module instead.\n",
      "  from pandas.core import datetools\n"
     ]
    },
    {
     "name": "stdout",
     "output_type": "stream",
     "text": [
      "Dataview loaded successfully.\n"
     ]
    }
   ],
   "source": [
    "import numpy as np\n",
    "from jaqs.data import DataView\n",
    "from jaqs.research import SignalDigger\n",
    "import warnings\n",
    "\n",
    "warnings.filterwarnings(\"ignore\")\n",
    "dataview_folder = 'stockdata/hs300'\n",
    "dv = DataView()\n",
    "dv.load_dataview(dataview_folder)"
   ]
  },
  {
   "cell_type": "code",
   "execution_count": 2,
   "metadata": {
    "collapsed": true
   },
   "outputs": [],
   "source": [
    "def mask_index_member():\n",
    "    df_index_member = dv.get_ts('index_member')\n",
    "    mask_index_member = ~(df_index_member ==0) #定义信号过滤条件-非指数成分\n",
    "    return mask_index_member\n",
    "\n",
    "def limit_up_down():\n",
    "    # 定义可买卖条件——未停牌、未涨跌停\n",
    "    trade_status = dv.get_ts('trade_status')\n",
    "    mask_sus = trade_status == u'停牌'\n",
    "    # 涨停\n",
    "    dv.add_formula('up_limit', '(close - Delay(close, 1)) / Delay(close, 1) > 0.095', is_quarterly=False)\n",
    "    # 跌停\n",
    "    dv.add_formula('down_limit', '(close - Delay(close, 1)) / Delay(close, 1) < -0.095', is_quarterly=False)\n",
    "    can_enter = np.logical_and(dv.get_ts('up_limit') < 1, ~mask_sus) # 未涨停未停牌\n",
    "    can_exit = np.logical_and(dv.get_ts('down_limit') < 1, ~mask_sus) # 未跌停未停牌\n",
    "    return can_enter,can_exit"
   ]
  },
  {
   "cell_type": "code",
   "execution_count": 15,
   "metadata": {},
   "outputs": [
    {
     "name": "stdout",
     "output_type": "stream",
     "text": [
      "Add formula failed: name [up_limit] exist. Try another name.\n",
      "Add formula failed: name [down_limit] exist. Try another name.\n"
     ]
    }
   ],
   "source": [
    "mask = mask_index_member()\n",
    "can_enter,can_exit = limit_up_down()\n",
    "price = dv.get_ts('close_adj')\n",
    "price_bench = dv.data_benchmark"
   ]
  },
  {
   "cell_type": "code",
   "execution_count": 16,
   "metadata": {},
   "outputs": [
    {
     "name": "stdout",
     "output_type": "stream",
     "text": [
      "Add formula failed: name [above] exist. Try another name.\n",
      "Add formula failed: name [delay_above] exist. Try another name.\n",
      "Add formula failed: name [sig_cross] exist. Try another name.\n"
     ]
    }
   ],
   "source": [
    "def add_event():\n",
    "    dv.add_formula('above', ' Ts_Mean(close_adj, 4) >= Ts_Mean(close_adj, 16)', is_quarterly=False)\n",
    "    dv.add_formula('delay_above', 'Delay(above, 1)', is_quarterly=False)\n",
    "    dv.add_formula('sig_cross', 'above&&(!delay_above)', is_quarterly=False)\n",
    "add_event()"
   ]
  },
  {
   "cell_type": "code",
   "execution_count": 17,
   "metadata": {
    "collapsed": true
   },
   "outputs": [],
   "source": [
    "# 优化事件\n",
    "from jaqs.research import Optimizer\n",
    "optimizer = Optimizer(dataview=dv,\n",
    "                      formula='(Ts_Mean(close_adj, SHORT)>=Ts_Mean(close_adj, LONG))&&(Delay(Ts_Mean(close_adj, SHORT)<Ts_Mean(close_adj, LONG), DELAY))',\n",
    "                      params={'SHORT':range(2,6,1), 'LONG':range(10,40,5), 'DELAY':range(1,3,1)},\n",
    "                      name='Cross',\n",
    "                      price=price,\n",
    "                      benchmark_price=None,#=None求绝对收益 #=price_bench求相对收益\n",
    "                      period=5,\n",
    "                      n_quantiles=5,\n",
    "                      mask=mask,\n",
    "                      can_enter=can_enter,\n",
    "                      can_exit=can_exit,\n",
    "                      commission=0.0008,#手续费 默认0.0008\n",
    "                      is_event=True,#是否是事件(0/1因子)\n",
    "                      is_quarterly=False)#是否是季度因子 默认为False"
   ]
  },
  {
   "cell_type": "code",
   "execution_count": 18,
   "metadata": {},
   "outputs": [
    {
     "name": "stdout",
     "output_type": "stream",
     "text": [
      "Nan Data Count (should be zero) : 0;  Percentage of effective data: 35%\n",
      "Nan Data Count (should be zero) : 0;  Percentage of effective data: 35%\n",
      "Nan Data Count (should be zero) : 0;  Percentage of effective data: 35%\n",
      "Nan Data Count (should be zero) : 0;  Percentage of effective data: 35%\n",
      "Nan Data Count (should be zero) : 0;  Percentage of effective data: 35%\n",
      "Nan Data Count (should be zero) : 0;  Percentage of effective data: 35%\n",
      "Nan Data Count (should be zero) : 0;  Percentage of effective data: 35%\n",
      "Nan Data Count (should be zero) : 0;  Percentage of effective data: 35%\n",
      "Nan Data Count (should be zero) : 0;  Percentage of effective data: 35%\n",
      "Nan Data Count (should be zero) : 0;  Percentage of effective data: 35%\n",
      "Nan Data Count (should be zero) : 0;  Percentage of effective data: 35%\n",
      "Nan Data Count (should be zero) : 0;  Percentage of effective data: 35%\n",
      "Nan Data Count (should be zero) : 0;  Percentage of effective data: 35%\n",
      "Nan Data Count (should be zero) : 0;  Percentage of effective data: 35%\n",
      "Nan Data Count (should be zero) : 0;  Percentage of effective data: 35%\n",
      "Nan Data Count (should be zero) : 0;  Percentage of effective data: 35%\n",
      "Nan Data Count (should be zero) : 0;  Percentage of effective data: 35%\n",
      "Nan Data Count (should be zero) : 0;  Percentage of effective data: 35%\n",
      "Nan Data Count (should be zero) : 0;  Percentage of effective data: 35%\n",
      "Nan Data Count (should be zero) : 0;  Percentage of effective data: 35%\n",
      "Nan Data Count (should be zero) : 0;  Percentage of effective data: 35%\n",
      "Nan Data Count (should be zero) : 0;  Percentage of effective data: 35%\n",
      "Nan Data Count (should be zero) : 0;  Percentage of effective data: 35%\n",
      "Nan Data Count (should be zero) : 0;  Percentage of effective data: 35%\n",
      "Nan Data Count (should be zero) : 0;  Percentage of effective data: 35%\n",
      "Nan Data Count (should be zero) : 0;  Percentage of effective data: 35%\n",
      "Nan Data Count (should be zero) : 0;  Percentage of effective data: 35%\n",
      "Nan Data Count (should be zero) : 0;  Percentage of effective data: 35%\n",
      "Nan Data Count (should be zero) : 0;  Percentage of effective data: 35%\n",
      "Nan Data Count (should be zero) : 0;  Percentage of effective data: 35%\n",
      "Nan Data Count (should be zero) : 0;  Percentage of effective data: 35%\n",
      "Nan Data Count (should be zero) : 0;  Percentage of effective data: 35%\n",
      "Nan Data Count (should be zero) : 0;  Percentage of effective data: 35%\n",
      "Nan Data Count (should be zero) : 0;  Percentage of effective data: 35%\n",
      "Nan Data Count (should be zero) : 0;  Percentage of effective data: 35%\n",
      "Nan Data Count (should be zero) : 0;  Percentage of effective data: 35%\n",
      "Nan Data Count (should be zero) : 0;  Percentage of effective data: 35%\n",
      "Nan Data Count (should be zero) : 0;  Percentage of effective data: 35%\n",
      "Nan Data Count (should be zero) : 0;  Percentage of effective data: 35%\n",
      "Nan Data Count (should be zero) : 0;  Percentage of effective data: 35%\n",
      "Nan Data Count (should be zero) : 0;  Percentage of effective data: 35%\n",
      "Nan Data Count (should be zero) : 0;  Percentage of effective data: 35%\n",
      "Nan Data Count (should be zero) : 0;  Percentage of effective data: 35%\n",
      "Nan Data Count (should be zero) : 0;  Percentage of effective data: 35%\n",
      "Nan Data Count (should be zero) : 0;  Percentage of effective data: 35%\n",
      "Nan Data Count (should be zero) : 0;  Percentage of effective data: 35%\n",
      "Nan Data Count (should be zero) : 0;  Percentage of effective data: 35%\n",
      "Nan Data Count (should be zero) : 0;  Percentage of effective data: 35%\n"
     ]
    }
   ],
   "source": [
    "ret_best = optimizer.enumerate_optimizer(target_type=\"long_ret\",\n",
    "                                     target=\"Ann. IR\",\n",
    "                                     in_sample_range=[20160105,20170701],\n",
    "                                     ascending=False)"
   ]
  },
  {
   "cell_type": "code",
   "execution_count": 19,
   "metadata": {},
   "outputs": [
    {
     "name": "stdout",
     "output_type": "stream",
     "text": [
      "Cross{'SHORT': 5, 'LONG': 35, 'DELAY': 2}\n",
      "              long_ret  long_short_ret\n",
      "t-stat        5.102261             NaN\n",
      "p-value       0.000000             NaN\n",
      "skewness      1.377845             NaN\n",
      "kurtosis     12.904474             NaN\n",
      "Ann. Ret      0.244011             NaN\n",
      "Ann. Vol      0.379081             NaN\n",
      "Ann. IR       0.643691             NaN\n",
      "occurance  3042.000000           362.0\n",
      "{'ret':               long_ret  long_short_ret\n",
      "t-stat        5.102261             NaN\n",
      "p-value       0.000000             NaN\n",
      "skewness      1.377845             NaN\n",
      "kurtosis     12.904474             NaN\n",
      "Ann. Ret      0.244011             NaN\n",
      "Ann. Vol      0.379081             NaN\n",
      "Ann. IR       0.643691             NaN\n",
      "occurance  3042.000000           362.0, 'signal_name': \"Cross{'SHORT': 5, 'LONG': 35, 'DELAY': 2}\"}\n"
     ]
    }
   ],
   "source": [
    "print(ret_best[0][\"signal_name\"])\n",
    "print(ret_best[0][\"ret\"])\n",
    "print(ret_best[0])"
   ]
  },
  {
   "cell_type": "code",
   "execution_count": null,
   "metadata": {
    "collapsed": true
   },
   "outputs": [],
   "source": []
  }
 ],
 "metadata": {
  "kernelspec": {
   "display_name": "Python 3",
   "language": "python",
   "name": "python3"
  },
  "language_info": {
   "codemirror_mode": {
    "name": "ipython",
    "version": 3
   },
   "file_extension": ".py",
   "mimetype": "text/x-python",
   "name": "python",
   "nbconvert_exporter": "python",
   "pygments_lexer": "ipython3",
   "version": "3.6.1"
  }
 },
 "nbformat": 4,
 "nbformat_minor": 2
}
