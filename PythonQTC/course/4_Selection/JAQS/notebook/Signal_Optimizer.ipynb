{
 "cells": [
  {
   "cell_type": "code",
   "execution_count": 1,
   "metadata": {},
   "outputs": [
    {
     "name": "stderr",
     "output_type": "stream",
     "text": [
      "/home/xinger/anaconda3/envs/IIA/lib/python3.6/site-packages/statsmodels/compat/pandas.py:56: FutureWarning: The pandas.core.datetools module is deprecated and will be removed in a future version. Please use the pandas.tseries module instead.\n",
      "  from pandas.core import datetools\n"
     ]
    },
    {
     "name": "stdout",
     "output_type": "stream",
     "text": [
      "Dataview loaded successfully.\n"
     ]
    }
   ],
   "source": [
    "import numpy as np\n",
    "from jaqs.data import DataView\n",
    "from jaqs.research import SignalDigger\n",
    "import warnings\n",
    "\n",
    "warnings.filterwarnings(\"ignore\")\n",
    "dataview_folder = 'stockdata/hs300'\n",
    "dv = DataView()\n",
    "dv.load_dataview(dataview_folder)"
   ]
  },
  {
   "cell_type": "code",
   "execution_count": 2,
   "metadata": {
    "collapsed": true
   },
   "outputs": [],
   "source": [
    "def mask_index_member():\n",
    "    df_index_member = dv.get_ts('index_member')\n",
    "    mask_index_member = ~(df_index_member ==0) #定义信号过滤条件-非指数成分\n",
    "    return mask_index_member\n",
    "\n",
    "def limit_up_down():\n",
    "    # 定义可买卖条件——未停牌、未涨跌停\n",
    "    trade_status = dv.get_ts('trade_status')\n",
    "    mask_sus = trade_status == u'停牌'\n",
    "    # 涨停\n",
    "    dv.add_formula('up_limit', '(close - Delay(close, 1)) / Delay(close, 1) > 0.095', is_quarterly=False)\n",
    "    # 跌停\n",
    "    dv.add_formula('down_limit', '(close - Delay(close, 1)) / Delay(close, 1) < -0.095', is_quarterly=False)\n",
    "    can_enter = np.logical_and(dv.get_ts('up_limit') < 1, ~mask_sus) # 未涨停未停牌\n",
    "    can_exit = np.logical_and(dv.get_ts('down_limit') < 1, ~mask_sus) # 未跌停未停牌\n",
    "    return can_enter,can_exit"
   ]
  },
  {
   "cell_type": "code",
   "execution_count": 3,
   "metadata": {
    "collapsed": true
   },
   "outputs": [],
   "source": [
    "mask = mask_index_member()\n",
    "can_enter,can_exit = limit_up_down()"
   ]
  },
  {
   "cell_type": "code",
   "execution_count": 4,
   "metadata": {
    "collapsed": true
   },
   "outputs": [],
   "source": [
    "from jaqs.research import Optimizer"
   ]
  },
  {
   "cell_type": "code",
   "execution_count": 5,
   "metadata": {
    "collapsed": true
   },
   "outputs": [],
   "source": [
    "# 优化因子\n",
    "price = dv.get_ts('close_adj')\n",
    "price_bench = dv.data_benchmark\n",
    "optimizer = Optimizer(dataview=dv,\n",
    "                      formula='- Correlation(vwap_adj, volume, LEN)',\n",
    "                      params={\"LEN\":range(2,4,1)},\n",
    "                      name='divert',\n",
    "                      price=price,\n",
    "                      benchmark_price=None,#=None求绝对收益 #=price_bench求相对收益\n",
    "                      period=5,\n",
    "                      n_quantiles=5,\n",
    "                      mask=mask,\n",
    "                      can_enter=can_enter,\n",
    "                      can_exit=can_exit,\n",
    "                      commission=0.0008,#手续费 默认0.0008\n",
    "                      is_event=False,#是否是事件(0/1因子)\n",
    "                      is_quarterly=False)#是否是季度因子 默认为False"
   ]
  },
  {
   "cell_type": "code",
   "execution_count": 6,
   "metadata": {},
   "outputs": [
    {
     "name": "stdout",
     "output_type": "stream",
     "text": [
      "Nan Data Count (should be zero) : 0;  Percentage of effective data: 23%\n",
      "Nan Data Count (should be zero) : 0;  Percentage of effective data: 24%\n"
     ]
    }
   ],
   "source": [
    "ret_best = optimizer.enumerate_optimizer(target_type=\"long_ret\",#优化目标类型 \n",
    "    #ic/long_ret/short_ret/long_short_ret/top_quantile_ret/bottom_quantile_ret/tmb_ret\n",
    "                                     target=\"Ann. IR\",#优化目标 \n",
    "#ic的 \"IC Mean\", \"IC Std.\", \"t-stat(IC)\", \"p-value(IC)\", \"IC Skew\", \"IC Kurtosis\", \"Ann. IR\",\n",
    "#收益类的 't-stat', \"p-value\", \"skewness\", \"kurtosis\", \"Ann. Ret\", \"Ann. Vol\", \"Ann. IR\", \"occurance\"\n",
    "                                     in_sample_range=[20170101,20170701],#样本内范围 默认为None,在全样本上优化\n",
    "                                     ascending=False)#是否按优化目标升序排列(从小到大)"
   ]
  },
  {
   "cell_type": "code",
   "execution_count": 7,
   "metadata": {
    "scrolled": true
   },
   "outputs": [
    {
     "name": "stdout",
     "output_type": "stream",
     "text": [
      "divert{'LEN': 3}\n",
      "             long_ret   short_ret  long_short_ret  top_quantile_ret  \\\n",
      "t-stat       2.169635   -0.154924        0.858689          4.371540   \n",
      "p-value      0.032040    0.877150        0.392250          0.000010   \n",
      "skewness    -0.369824    0.458860        0.400939          1.421650   \n",
      "kurtosis    -0.172374   -0.073033        0.460765         14.360039   \n",
      "Ann. Ret     0.201382   -0.015089        0.035861          0.199790   \n",
      "Ann. Vol     0.144928    0.152079        0.065208          0.329971   \n",
      "Ann. IR      1.389531   -0.099220        0.549943          0.605478   \n",
      "occurance  119.000000  119.000000      119.000000       2524.000000   \n",
      "\n",
      "           bottom_quantile_ret     tmb_ret  \n",
      "t-stat               -0.117371    2.892489  \n",
      "p-value               0.906580    0.004550  \n",
      "skewness              1.950315   -0.582227  \n",
      "kurtosis             21.141576    2.049555  \n",
      "Ann. Ret             -0.005898    0.205738  \n",
      "Ann. Vol              0.369856    0.111061  \n",
      "Ann. IR              -0.015947    1.852480  \n",
      "occurance          2623.000000  119.000000  \n",
      "                   ic\n",
      "IC Mean      0.044968\n",
      "IC Std.      0.104487\n",
      "t-stat(IC)   4.694740\n",
      "p-value(IC)  0.000007\n",
      "IC Skew      0.287485\n",
      "IC Kurtosis -0.247630\n",
      "Ann. IR      0.430366\n"
     ]
    }
   ],
   "source": [
    "print(ret_best[0][\"signal_name\"])\n",
    "print(ret_best[0][\"ret\"])\n",
    "print(ret_best[0][\"ic\"])"
   ]
  },
  {
   "cell_type": "code",
   "execution_count": 8,
   "metadata": {},
   "outputs": [],
   "source": [
    "ic_best = optimizer.enumerate_optimizer(target_type=\"ic\",#优化目标类型\n",
    "                                        target = \"IC Mean\",\n",
    "                                        in_sample_range=None,\n",
    "                                        ascending=False)\n",
    "                                        "
   ]
  },
  {
   "cell_type": "code",
   "execution_count": 9,
   "metadata": {},
   "outputs": [
    {
     "name": "stdout",
     "output_type": "stream",
     "text": [
      "divert{'LEN': 3}\n",
      "             long_ret   short_ret  long_short_ret  top_quantile_ret  \\\n",
      "t-stat       1.752927    0.457018        1.111232          5.066922   \n",
      "p-value      0.080250    0.647860        0.267020          0.000000   \n",
      "skewness    -1.125253    0.715259       -0.713462          0.599139   \n",
      "kurtosis     7.251679    4.555108       12.617046          6.543380   \n",
      "Ann. Ret     0.133120    0.031888        0.048437          0.135169   \n",
      "Ann. Vol     0.240644    0.221100        0.138125          0.372362   \n",
      "Ann. IR      0.553182    0.144224        0.350679          0.363004   \n",
      "occurance  487.000000  487.000000      487.000000       9431.000000   \n",
      "\n",
      "           bottom_quantile_ret     tmb_ret  \n",
      "t-stat               -1.922711    4.503325  \n",
      "p-value               0.054550    0.000010  \n",
      "skewness              0.798446    0.341901  \n",
      "kurtosis              7.705257    4.544866  \n",
      "Ann. Ret             -0.052583    0.194061  \n",
      "Ann. Vol              0.389748    0.136553  \n",
      "Ann. IR              -0.134915    1.421143  \n",
      "occurance          9831.000000  487.000000  \n",
      "                       ic\n",
      "IC Mean      4.228948e-02\n",
      "IC Std.      1.243581e-01\n",
      "t-stat(IC)   7.465892e+00\n",
      "p-value(IC)  3.915152e-13\n",
      "IC Skew     -3.748012e-02\n",
      "IC Kurtosis  2.775762e-03\n",
      "Ann. IR      3.400620e-01\n"
     ]
    }
   ],
   "source": [
    "print(ic_best[0][\"signal_name\"])\n",
    "print(ic_best[0][\"ret\"])\n",
    "print(ic_best[0][\"ic\"])"
   ]
  },
  {
   "cell_type": "markdown",
   "metadata": {},
   "source": [
    "## 自定义Signal优化"
   ]
  },
  {
   "cell_type": "code",
   "execution_count": 10,
   "metadata": {},
   "outputs": [],
   "source": [
    "close = price.dropna(how='all', axis=1)"
   ]
  },
  {
   "cell_type": "code",
   "execution_count": 11,
   "metadata": {},
   "outputs": [
    {
     "name": "stdout",
     "output_type": "stream",
     "text": [
      "Nan Data Count (should be zero) : 0;  Percentage of effective data: 24%\n",
      "Nan Data Count (should be zero) : 0;  Percentage of effective data: 24%\n",
      "Nan Data Count (should be zero) : 0;  Percentage of effective data: 24%\n",
      "Nan Data Count (should be zero) : 0;  Percentage of effective data: 24%\n"
     ]
    }
   ],
   "source": [
    "import pandas as pd\n",
    "import talib as ta\n",
    "\n",
    "signals = dict()\n",
    "for param in [2,3,4,5]:\n",
    "    slope_df = pd.DataFrame({name: -ta.LINEARREG_SLOPE(value.values, param) for name, value in close.iteritems()}, index=close.index)\n",
    "    dv.append_df(slope_df,'slope_param='+str(param))\n",
    "    signals['slope_param='+str(param)] = optimizer.cal_signal(dv.get_ts('slope_param='+str(param)))\n",
    "optimizer.all_signals = signals\n",
    "optimizer.all_signals_perf = None"
   ]
  },
  {
   "cell_type": "code",
   "execution_count": 12,
   "metadata": {
    "collapsed": true
   },
   "outputs": [],
   "source": [
    "ic_best = optimizer.enumerate_optimizer(target_type=\"ic\",#优化目标类型\n",
    "                                        target = \"IC Mean\",\n",
    "                                        in_sample_range=None,\n",
    "                                        ascending=False)                                      "
   ]
  },
  {
   "cell_type": "code",
   "execution_count": 13,
   "metadata": {
    "scrolled": true
   },
   "outputs": [
    {
     "data": {
      "text/plain": [
       "[{'ic':                    ic\n",
       "  IC Mean      0.036087\n",
       "  IC Std.      0.163851\n",
       "  t-stat(IC)   4.815237\n",
       "  p-value(IC)  0.000002\n",
       "  IC Skew      0.167275\n",
       "  IC Kurtosis  0.206846\n",
       "  Ann. IR      0.220244,\n",
       "  'ret':              long_ret   short_ret  long_short_ret  top_quantile_ret  \\\n",
       "  t-stat       1.474180    0.110363        1.827880          3.590692   \n",
       "  p-value      0.141090    0.912170        0.068190          0.000330   \n",
       "  skewness     0.104087   -0.270758        0.639742          0.604468   \n",
       "  kurtosis     2.316515    1.724054        3.300459          5.824864   \n",
       "  Ann. Ret     0.130162    0.009663        0.097608          0.099809   \n",
       "  Ann. Vol     0.278634    0.276303        0.168515          0.387294   \n",
       "  Ann. IR      0.467143    0.034972        0.579224          0.257709   \n",
       "  occurance  483.000000  483.000000      483.000000       9397.000000   \n",
       "  \n",
       "             bottom_quantile_ret     tmb_ret  \n",
       "  t-stat                0.549364    2.079622  \n",
       "  p-value               0.582770    0.038090  \n",
       "  skewness              0.839824    0.701379  \n",
       "  kurtosis              5.753182    4.630149  \n",
       "  Ann. Ret              0.016800    0.109314  \n",
       "  Ann. Vol              0.434872    0.165879  \n",
       "  Ann. IR               0.038633    0.658997  \n",
       "  occurance          9788.000000  483.000000  ,\n",
       "  'signal_name': 'slope_param=5'},\n",
       " {'ic':                    ic\n",
       "  IC Mean      0.032535\n",
       "  IC Std.      0.161951\n",
       "  t-stat(IC)   4.396790\n",
       "  p-value(IC)  0.000014\n",
       "  IC Skew      0.072350\n",
       "  IC Kurtosis  0.202012\n",
       "  Ann. IR      0.200894,\n",
       "  'ret':              long_ret   short_ret  long_short_ret  top_quantile_ret  \\\n",
       "  t-stat       1.388232    0.323731        1.805426          2.505575   \n",
       "  p-value      0.165710    0.746280        0.071630          0.012240   \n",
       "  skewness     0.199046    0.174788        0.272171          0.558279   \n",
       "  kurtosis     3.699294    3.036061        2.566218          5.345729   \n",
       "  Ann. Ret     0.124592    0.029216        0.096431          0.070869   \n",
       "  Ann. Vol     0.283517    0.285096        0.168728          0.394405   \n",
       "  Ann. IR      0.439452    0.102479        0.571517          0.179685   \n",
       "  occurance  484.000000  484.000000      484.000000       9412.000000   \n",
       "  \n",
       "             bottom_quantile_ret     tmb_ret  \n",
       "  t-stat                0.457145    1.507567  \n",
       "  p-value               0.647580    0.132320  \n",
       "  skewness              0.928737    0.449720  \n",
       "  kurtosis              6.659021    3.097247  \n",
       "  Ann. Ret              0.014113    0.078517  \n",
       "  Ann. Vol              0.439369    0.164528  \n",
       "  Ann. IR               0.032120    0.477228  \n",
       "  occurance          9805.000000  484.000000  ,\n",
       "  'signal_name': 'slope_param=4'},\n",
       " {'ic':                    ic\n",
       "  IC Mean      0.026657\n",
       "  IC Std.      0.163746\n",
       "  t-stat(IC)   3.566660\n",
       "  p-value(IC)  0.000398\n",
       "  IC Skew      0.085249\n",
       "  IC Kurtosis  0.199456\n",
       "  Ann. IR      0.162795,\n",
       "  'ret':            long_ret  short_ret  long_short_ret  top_quantile_ret  \\\n",
       "  t-stat          NaN        NaN        1.557700          2.994755   \n",
       "  p-value         NaN        NaN        0.119960          0.002750   \n",
       "  skewness        NaN        NaN        0.008903          0.567301   \n",
       "  kurtosis        NaN        NaN        3.289953          5.146800   \n",
       "  Ann. Ret        NaN        NaN        0.085524          0.086827   \n",
       "  Ann. Vol        NaN        NaN        0.173622          0.404629   \n",
       "  Ann. IR         NaN        NaN        0.492588          0.214584   \n",
       "  occurance     485.0      485.0      485.000000       9428.000000   \n",
       "  \n",
       "             bottom_quantile_ret     tmb_ret  \n",
       "  t-stat                1.079559    1.295328  \n",
       "  p-value               0.280370    0.195820  \n",
       "  skewness              0.996020    0.190767  \n",
       "  kurtosis              6.930748    2.440409  \n",
       "  Ann. Ret              0.033122    0.068789  \n",
       "  Ann. Vol              0.437069    0.167934  \n",
       "  Ann. IR               0.075783    0.409619  \n",
       "  occurance          9823.000000  485.000000  ,\n",
       "  'signal_name': 'slope_param=3'},\n",
       " {'ic':                    ic\n",
       "  IC Mean      0.017341\n",
       "  IC Std.      0.157643\n",
       "  t-stat(IC)   2.412584\n",
       "  p-value(IC)  0.016214\n",
       "  IC Skew     -0.014952\n",
       "  IC Kurtosis  0.263781\n",
       "  Ann. IR      0.110004,\n",
       "  'ret':            long_ret  short_ret  long_short_ret  top_quantile_ret  \\\n",
       "  t-stat          NaN        NaN        1.118582          1.871757   \n",
       "  p-value         NaN        NaN        0.263870          0.061270   \n",
       "  skewness        NaN        NaN       -0.190884          0.623798   \n",
       "  kurtosis        NaN        NaN        3.022352          5.250031   \n",
       "  Ann. Ret        NaN        NaN        0.062200          0.055634   \n",
       "  Ann. Vol        NaN        NaN        0.176024          0.415146   \n",
       "  Ann. IR         NaN        NaN        0.353362          0.134011   \n",
       "  occurance     486.0      486.0      486.000000       9443.000000   \n",
       "  \n",
       "             bottom_quantile_ret     tmb_ret  \n",
       "  t-stat                1.516170    0.371931  \n",
       "  p-value               0.129510    0.710110  \n",
       "  skewness              0.802160    0.278961  \n",
       "  kurtosis              6.074419    3.243523  \n",
       "  Ann. Ret              0.045504    0.019986  \n",
       "  Ann. Vol              0.427869    0.170105  \n",
       "  Ann. IR               0.106350    0.117494  \n",
       "  occurance          9838.000000  486.000000  ,\n",
       "  'signal_name': 'slope_param=2'}]"
      ]
     },
     "execution_count": 13,
     "metadata": {},
     "output_type": "execute_result"
    }
   ],
   "source": [
    "ic_best"
   ]
  },
  {
   "cell_type": "code",
   "execution_count": null,
   "metadata": {
    "collapsed": true
   },
   "outputs": [],
   "source": []
  }
 ],
 "metadata": {
  "anaconda-cloud": {},
  "kernelspec": {
   "display_name": "Python 3",
   "language": "python",
   "name": "python3"
  },
  "language_info": {
   "codemirror_mode": {
    "name": "ipython",
    "version": 3
   },
   "file_extension": ".py",
   "mimetype": "text/x-python",
   "name": "python",
   "nbconvert_exporter": "python",
   "pygments_lexer": "ipython3",
   "version": "3.6.1"
  }
 },
 "nbformat": 4,
 "nbformat_minor": 2
}
