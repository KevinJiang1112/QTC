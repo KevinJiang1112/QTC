{
 "cells": [
  {
   "cell_type": "code",
   "execution_count": null,
   "metadata": {
    "collapsed": true
   },
   "outputs": [],
   "source": [
    "import pandas as pd\n",
    "import numpy as np\n",
    "\n",
    "def iter_slice(length, gap=10):\n",
    "    for i in range(gap):\n",
    "        yield slice(i, length, gap)\n",
    "\n",
    "\n",
    "def iter_daily(frame, gap=10):\n",
    "    for sl in iter_slice(len(frame), gap):\n",
    "        one = frame.iloc[sl].fillna(0)/gap\n",
    "        yield one.reindex(frame.index).ffill().fillna(0)\n",
    "\n",
    "def expand(code):\n",
    "    if code.endswith(\".SZ\"):\n",
    "        return code[:6] + \".XSHE\"\n",
    "    else:\n",
    "        return code[:6] + \".XSHG\"\n",
    "\n",
    "from datetime import datetime\n",
    "\n",
    "def convert_time(num):\n",
    "    return datetime.strptime(str(num), \"%Y%m%d\").replace(hour=15)\n",
    "\n",
    "if __name__ == '__main__':\n",
    "    frame = stock_df\n",
    "    table = frame.rename_axis(convert_time).rename_axis(expand, 1).replace(0, np.NaN)\n",
    "    target = sum(iter_daily(table, gap=8))\n",
    "    print(target[target>0].tail().stack())"
   ]
  }
 ],
 "metadata": {
  "kernelspec": {
   "display_name": "Python 3",
   "language": "python",
   "name": "python3"
  },
  "language_info": {
   "codemirror_mode": {
    "name": "ipython",
    "version": 3
   },
   "file_extension": ".py",
   "mimetype": "text/x-python",
   "name": "python",
   "nbconvert_exporter": "python",
   "pygments_lexer": "ipython3",
   "version": "3.6.1"
  }
 },
 "nbformat": 4,
 "nbformat_minor": 2
}
