{
 "cells": [
  {
   "cell_type": "code",
   "execution_count": null,
   "metadata": {},
   "outputs": [],
   "source": [
    "from jaqs.data.dataapi import DataApi\n",
    "from jaqs.data import DataView\n",
    "import numpy as np\n",
    "from datetime import datetime\n",
    "import pandas as pd\n",
    "import warnings\n",
    "import alphalens\n",
    "\n",
    "warnings.filterwarnings(\"ignore\")\n",
    "dataview_folder = '../../../JAQS_Data/hs300'\n",
    "dv = DataView()\n",
    "dv.load_dataview(dataview_folder)"
   ]
  },
  {
   "cell_type": "code",
   "execution_count": null,
   "metadata": {
    "collapsed": true
   },
   "outputs": [],
   "source": [
    "def change_index(signal):\n",
    "    signal.index = pd.Index(map(lambda x: datetime.strptime(str(x),\"%Y%m%d\") , signal.index))\n",
    "    return signal"
   ]
  },
  {
   "cell_type": "code",
   "execution_count": null,
   "metadata": {
    "collapsed": true
   },
   "outputs": [],
   "source": [
    "small_factor = ['pb','pe_ttm']"
   ]
  },
  {
   "cell_type": "code",
   "execution_count": null,
   "metadata": {
    "collapsed": true
   },
   "outputs": [],
   "source": [
    "PN = pd.Panel({name: change_index(dv.get_ts(name)) for name in small_factor})"
   ]
  },
  {
   "cell_type": "code",
   "execution_count": null,
   "metadata": {
    "collapsed": true
   },
   "outputs": [],
   "source": [
    "prices = change_index(dv.get_ts('close_adj'))"
   ]
  },
  {
   "cell_type": "code",
   "execution_count": null,
   "metadata": {},
   "outputs": [],
   "source": [
    "def cal_daily_ic(factor_df):\n",
    "    factor_data = alphalens.utils.get_clean_factor_and_forward_returns(factor_df.stack(), prices, quantiles=5, periods=(5,))\n",
    "    return alphalens.performance.mean_information_coefficient(factor_data, by_time='D')\n",
    "daily_ic = {key: cal_daily_ic(value) for key, value in PN.iteritems()}\n",
    "print(daily_ic)"
   ]
  },
  {
   "cell_type": "code",
   "execution_count": null,
   "metadata": {
    "collapsed": true
   },
   "outputs": [],
   "source": [
    "ic_df = pd.DataFrame({factor: daily_ic.get(factor)[5] for factor in small_factor})"
   ]
  },
  {
   "cell_type": "code",
   "execution_count": null,
   "metadata": {},
   "outputs": [],
   "source": [
    "ic_df.head()"
   ]
  },
  {
   "cell_type": "code",
   "execution_count": null,
   "metadata": {
    "collapsed": true
   },
   "outputs": [],
   "source": [
    "df_ic = ic_df.rename_axis(lambda s: s.year*10000+s.month*100+s.day)"
   ]
  },
  {
   "cell_type": "code",
   "execution_count": null,
   "metadata": {
    "collapsed": true
   },
   "outputs": [],
   "source": [
    "import numpy as np\n",
    "def cal_small(small_ic, limit_ic=0.01):\n",
    "    # 设置IC阈值为-limit_ic\n",
    "    small_df = small_ic.copy()\n",
    "    small_df[small_df>-limit_ic]=np.nan\n",
    "    small_df[small_df<=-limit_ic]=1\n",
    "    return small_df"
   ]
  },
  {
   "cell_type": "code",
   "execution_count": null,
   "metadata": {
    "collapsed": true
   },
   "outputs": [],
   "source": [
    "def small_select(rows, n=10):\n",
    "    # 只选最小的n只\n",
    "    time, row = rows\n",
    "    row = row.dropna().index\n",
    "    dct = {}\n",
    "    if len(row) == 0:\n",
    "        return dct\n",
    "    \n",
    "    target = pd.DataFrame({factor: dv.get_ts(factor, end_date=time).iloc[-1].dropna().T for factor in row})\n",
    "    for name, s in target.iteritems():\n",
    "        for code in s.nsmallest(n).index:\n",
    "            dct[code] = 1\n",
    "    return dct"
   ]
  },
  {
   "cell_type": "code",
   "execution_count": null,
   "metadata": {
    "collapsed": true
   },
   "outputs": [],
   "source": [
    "select_small = pd.DataFrame(list(map(small_select, cal_small(df_ic).iterrows())), index=PN.major_axis[5:])"
   ]
  },
  {
   "cell_type": "code",
   "execution_count": null,
   "metadata": {},
   "outputs": [],
   "source": [
    "select_small"
   ]
  },
  {
   "cell_type": "code",
   "execution_count": null,
   "metadata": {
    "collapsed": true
   },
   "outputs": [],
   "source": [
    "from datetime import timedelta\n",
    "\n",
    "def change_columns_time(signal):\n",
    "    new_names = {}\n",
    "    for c in signal.columns:\n",
    "        if c.endswith('SZ'):\n",
    "            new_names[c] = c.replace('SZ', 'XSHE')\n",
    "        elif c.endswith('SH'):\n",
    "            new_names[c] = c.replace('SH', 'XSHG')\n",
    "    signal = signal.rename_axis(new_names, axis=1)\n",
    "    signal.index = pd.Index(map(lambda x: x+timedelta(hours=15) , signal.index))\n",
    "    return signal"
   ]
  },
  {
   "cell_type": "code",
   "execution_count": null,
   "metadata": {
    "collapsed": true
   },
   "outputs": [],
   "source": [
    "small_df = change_columns_time(select_small)"
   ]
  },
  {
   "cell_type": "code",
   "execution_count": null,
   "metadata": {},
   "outputs": [],
   "source": [
    "import numpy as np\n",
    "import talib as ta\n",
    "import pandas as pd\n",
    "import rqalpha\n",
    "from rqalpha.api import *\n",
    "\n",
    "#读取文件位置\n",
    "def init(context):\n",
    "    context.codes = small_df\n",
    "    context.stocks = []\n",
    "#     scheduler.run_weekly(find_pool, tradingday=1)\n",
    "    scheduler.run_daily(find_pool)\n",
    "\n",
    "def find_pool(context, bar_dict):\n",
    "    try:\n",
    "        codes = context.codes.loc[context.now]\n",
    "    except KeyError:\n",
    "        return\n",
    "    stocks = codes.index[codes == 1]\n",
    "    context.stocks = stocks\n",
    "\n",
    "def handle_bar(context, bar_dict):\n",
    "    buy(context, bar_dict)\n",
    "    \n",
    "    \n",
    "def buy(context, bar_dict):\n",
    "    pool = context.stocks\n",
    "    if pool is not None:\n",
    "        stocks_len = len(pool)\n",
    "        for stocks in context.portfolio.positions:\n",
    "            if stocks not in pool:\n",
    "                order_target_percent(stocks, 0)\n",
    "        result = []\n",
    "        for codes in pool:\n",
    "            if codes not in result and codes not in context.portfolio.positions:\n",
    "                result.append(codes)\n",
    "        if len(result):\n",
    "            for r in result:\n",
    "                order_target_percent(r, 1.0/stocks_len)\n",
    "\n",
    "config = {\n",
    "  \"base\": {\n",
    "    \"start_date\": \"2013-09-01\",\n",
    "    \"end_date\": \"2017-12-22\",\n",
    "    \"accounts\": {'stock':1000000},\n",
    "    \"benchmark\": \"000300.XSHG\"\n",
    "  },\n",
    "  \"extra\": {\n",
    "    \"log_level\": \"error\",\n",
    "  },\n",
    "  \"mod\": {\n",
    "    \"sys_analyser\": {\n",
    "      \"enabled\": True,\n",
    "      \"plot\": True\n",
    "    }\n",
    "  }\n",
    "}\n",
    "\n",
    "rqalpha.run_func(init=init, handle_bar=handle_bar, config=config)"
   ]
  },
  {
   "cell_type": "code",
   "execution_count": null,
   "metadata": {
    "collapsed": true
   },
   "outputs": [],
   "source": []
  }
 ],
 "metadata": {
  "kernelspec": {
   "display_name": "Python 3",
   "language": "python",
   "name": "python3"
  },
  "language_info": {
   "codemirror_mode": {
    "name": "ipython",
    "version": 3
   },
   "file_extension": ".py",
   "mimetype": "text/x-python",
   "name": "python",
   "nbconvert_exporter": "python",
   "pygments_lexer": "ipython3",
   "version": "3.6.1"
  }
 },
 "nbformat": 4,
 "nbformat_minor": 2
}
