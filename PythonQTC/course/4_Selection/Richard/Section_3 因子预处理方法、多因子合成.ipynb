{
 "cells": [
  {
   "cell_type": "markdown",
   "metadata": {},
   "source": [
    "## 目录\n",
    "1. 因子比较与筛选\n",
    "2. 常用的因子预处理方法-调整正负、去极值、行业市值中性化、标准化\n",
    "3. 多因子组合方法"
   ]
  },
  {
   "cell_type": "code",
   "execution_count": 1,
   "metadata": {},
   "outputs": [
    {
     "name": "stdout",
     "output_type": "stream",
     "text": [
      "Dataview loaded successfully.\n"
     ]
    }
   ],
   "source": [
    "from jaqs.data import DataView \n",
    "import warnings\n",
    "\n",
    "warnings.filterwarnings(\"ignore\")\n",
    "dataview_folder = '../../Factor'\n",
    "dv = DataView()\n",
    "dv.load_dataview(dataview_folder)\n",
    "dv.add_formula(\"momentum\", \"Return(close_adj, 20)\", is_quarterly=False)"
   ]
  },
  {
   "cell_type": "code",
   "execution_count": 2,
   "metadata": {
    "collapsed": true
   },
   "outputs": [],
   "source": [
    "import numpy as np\n",
    "\n",
    "def mask_index_member():\n",
    "    df_index_member = dv.get_ts('index_member')\n",
    "    mask_index_member = ~(df_index_member >0) #定义信号过滤条件-非指数成分\n",
    "    return mask_index_member\n",
    "\n",
    "def limit_up_down():\n",
    "    # 定义可买卖条件——未停牌、未涨跌停\n",
    "    trade_status = dv.get_ts('trade_status')\n",
    "    mask_sus = trade_status == u'停牌'\n",
    "    # 涨停\n",
    "    dv.add_formula('up_limit', '(close - Delay(close, 1)) / Delay(close, 1) > 0.095', is_quarterly=False)\n",
    "    # 跌停\n",
    "    dv.add_formula('down_limit', '(close - Delay(close, 1)) / Delay(close, 1) < -0.095', is_quarterly=False)\n",
    "    can_enter = np.logical_and(dv.get_ts('up_limit') < 1, ~mask_sus) # 未涨停未停牌\n",
    "    can_exit = np.logical_and(dv.get_ts('down_limit') < 1, ~mask_sus) # 未跌停未停牌\n",
    "    return can_enter,can_exit\n",
    "\n",
    "mask = mask_index_member()\n",
    "can_enter,can_exit = limit_up_down()"
   ]
  },
  {
   "cell_type": "markdown",
   "metadata": {},
   "source": [
    "接下来，我们对pb、pe、ps、float_mv、momentum五个因子进行比较、筛选"
   ]
  },
  {
   "cell_type": "code",
   "execution_count": 3,
   "metadata": {},
   "outputs": [
    {
     "name": "stdout",
     "output_type": "stream",
     "text": [
      "Nan Data Count (should be zero) : 0;  Percentage of effective data: 59%\n",
      "Nan Data Count (should be zero) : 0;  Percentage of effective data: 59%\n",
      "Nan Data Count (should be zero) : 0;  Percentage of effective data: 59%\n",
      "Nan Data Count (should be zero) : 0;  Percentage of effective data: 59%\n",
      "Nan Data Count (should be zero) : 0;  Percentage of effective data: 59%\n",
      "Nan Data Count (should be zero) : 0;  Percentage of effective data: 59%\n",
      "Nan Data Count (should be zero) : 0;  Percentage of effective data: 59%\n",
      "Nan Data Count (should be zero) : 0;  Percentage of effective data: 59%\n",
      "Nan Data Count (should be zero) : 0;  Percentage of effective data: 59%\n",
      "Nan Data Count (should be zero) : 0;  Percentage of effective data: 59%\n",
      "Nan Data Count (should be zero) : 0;  Percentage of effective data: 59%\n",
      "Nan Data Count (should be zero) : 0;  Percentage of effective data: 59%\n",
      "Nan Data Count (should be zero) : 0;  Percentage of effective data: 59%\n",
      "Nan Data Count (should be zero) : 0;  Percentage of effective data: 59%\n",
      "Nan Data Count (should be zero) : 0;  Percentage of effective data: 59%\n"
     ]
    }
   ],
   "source": [
    "from jaqs.research import SignalDigger\n",
    "from jaqs.research.signaldigger import performance as pfm\n",
    "\n",
    "obj = SignalDigger()\n",
    "signal_data = dict()\n",
    "ic = dict()\n",
    "\n",
    "for signal in [\"pb\",\"pe\",\"ps\",\"float_mv\",\"momentum\"]:\n",
    "    signal_data[signal] = dict()\n",
    "    ic[signal] = dict()\n",
    "    for period in [5, 15, 30]:\n",
    "        obj.process_signal_before_analysis(signal=dv.get_ts(signal),\n",
    "                                           price=dv.get_ts(\"close_adj\"),\n",
    "                                           high=dv.get_ts(\"high_adj\"), # 可为空\n",
    "                                           low=dv.get_ts(\"low_adj\"),# 可为空\n",
    "                                           n_quantiles=5,# quantile分类数\n",
    "                                           mask=mask,# 过滤条件\n",
    "                                           can_enter=can_enter,# 是否能进场\n",
    "                                           can_exit=can_exit,# 是否能出场\n",
    "                                           period=period,# 持有期\n",
    "                                           benchmark_price=dv.data_benchmark, # 基准价格 可不传入，持有期收益（return）计算为绝对收益\n",
    "                                           commission = 0.0008,\n",
    "                                           )\n",
    "        signal_data[signal][period] = obj.signal_data\n",
    "        ic[signal][period] = pfm.calc_signal_ic(obj.signal_data)"
   ]
  },
  {
   "cell_type": "code",
   "execution_count": 4,
   "metadata": {},
   "outputs": [
    {
     "name": "stdout",
     "output_type": "stream",
     "text": [
      "                5         15        30\n",
      "pb       -0.045915 -0.077320 -0.117015\n",
      "pe       -0.038581 -0.064546 -0.095852\n",
      "ps       -0.030755 -0.054824 -0.084486\n",
      "float_mv -0.000019  0.008395  0.027459\n",
      "momentum -0.049655 -0.062483 -0.058243\n",
      "                5         15        30\n",
      "pb        0.229864  0.258433  0.245398\n",
      "pe        0.211099  0.222946  0.215375\n",
      "ps        0.178680  0.198704  0.193410\n",
      "float_mv  0.220951  0.228495  0.223991\n",
      "momentum  0.203428  0.212723  0.208409\n",
      "                5         15        30\n",
      "pb       -0.199748 -0.299188 -0.476838\n",
      "pe       -0.182763 -0.289515 -0.445044\n",
      "ps       -0.172122 -0.275909 -0.436822\n",
      "float_mv -0.000084  0.036740  0.122589\n",
      "momentum -0.244090 -0.293731 -0.279466\n"
     ]
    }
   ],
   "source": [
    "import pandas as pd\n",
    "ic_mean_table = pd.DataFrame(data=np.nan,columns=[5,15,30],index=[\"pb\",\"pe\",\"ps\",\"float_mv\",\"momentum\"])\n",
    "ic_std_table = pd.DataFrame(data=np.nan,columns=[5,15,30],index=[\"pb\",\"pe\",\"ps\",\"float_mv\",\"momentum\"])\n",
    "ir_table = pd.DataFrame(data=np.nan,columns=[5,15,30],index=[\"pb\",\"pe\",\"ps\",\"float_mv\",\"momentum\"])\n",
    "for signal in [\"pb\",\"pe\",\"ps\",\"float_mv\",\"momentum\"]:\n",
    "    for period in [5, 15, 30]:\n",
    "        ic_mean_table.loc[signal,period]=ic[signal][period].mean().values[0]\n",
    "        ic_std_table.loc[signal,period]=ic[signal][period].std().values[0]\n",
    "        ir_table.loc[signal,period]=ic[signal][period].mean().values[0]/ic[signal][period].std().values[0]\n",
    "\n",
    "print(ic_mean_table)\n",
    "print(ic_std_table)\n",
    "print(ir_table)"
   ]
  },
  {
   "cell_type": "markdown",
   "metadata": {},
   "source": [
    "可视化比较"
   ]
  },
  {
   "cell_type": "code",
   "execution_count": 5,
   "metadata": {},
   "outputs": [
    {
     "data": {
      "text/plain": [
       "<matplotlib.axes._subplots.AxesSubplot at 0x18f285afb70>"
      ]
     },
     "execution_count": 5,
     "metadata": {},
     "output_type": "execute_result"
    },
    {
     "data": {
      "image/png": "[encoded data removed]",
      "text/plain": [
       "<matplotlib.figure.Figure at 0x18f2607afd0>"
      ]
     },
     "metadata": {},
     "output_type": "display_data"
    }
   ],
   "source": [
    "%matplotlib inline\n",
    "ic_mean_table.plot(kind=\"barh\",xerr=ic_std_table,figsize=(15,5))"
   ]
  },
  {
   "cell_type": "markdown",
   "metadata": {},
   "source": [
    "* IC_IR:方差标准化后的ic均值\n",
    "* 一般而言，认为|IC_IR|>0.6,因子的稳定性合格"
   ]
  },
  {
   "cell_type": "code",
   "execution_count": 6,
   "metadata": {},
   "outputs": [
    {
     "data": {
      "text/plain": [
       "<matplotlib.axes._subplots.AxesSubplot at 0x18f24229c50>"
      ]
     },
     "execution_count": 6,
     "metadata": {},
     "output_type": "execute_result"
    },
    {
     "data": {
      "image/png": "[encoded data removed]",
      "text/plain": [
       "<matplotlib.figure.Figure at 0x18f2605fd68>"
      ]
     },
     "metadata": {},
     "output_type": "display_data"
    }
   ],
   "source": [
    "%matplotlib inline\n",
    "ir_table.plot(kind=\"barh\",figsize=(15,5))"
   ]
  },
  {
   "cell_type": "markdown",
   "metadata": {},
   "source": [
    "### 因子预处理\n",
    "保留momentum、ps、pe、pb 进一步处理并尝试构建组合因子\n",
    "\n",
    "* 根据之前的分析，这几个因子在几个持有期下与股票收益的关系（ic）都是负的，先统一调整成正相关关系\n",
    "* 去极值\n",
    "* 标准化 -- z-score、rank\n",
    "* 行业市值中性化\n"
   ]
  },
  {
   "cell_type": "code",
   "execution_count": 7,
   "metadata": {},
   "outputs": [],
   "source": [
    "from jaqs.research.signaldigger import process\n",
    "\n",
    "factor_dict = dict()\n",
    "index_member = dv.get_ts(\"index_member\")\n",
    "for name in [\"pb\",\"pe\",\"ps\",\"momentum\"]:\n",
    "    signal = -1*dv.get_ts(name) # 调整符号\n",
    "    process.winsorize(factor_df=signal,alpha=0.05,index_member=index_member)#去极值\n",
    "    signal = process.standardize(signal,index_member) #z-score标准化 保留排序信息和分布信息\n",
    "#     signal = process.rank_standardize(signal,index_member) #因子在截面排序并归一化到0-1(只保留排序信息)\n",
    "    #行业市值中性化\n",
    "#     signal = process.neutralize(signal,\n",
    "#                                 factorIsMV=False,#是否是市值类因子\n",
    "#                                 group_field=\"sw1\",#行业分类类型　\"sw1\", \"sw2\", \"sw3\", \"sw4\", \"zz1\", \"zz2\"\n",
    "#                                 index_member=index_member,# 是否只处理时只考虑指数成份股\n",
    "#                                 dv=dv,#dataview\n",
    "#                                 ds=None) #data_api\n",
    "    factor_dict[name] = signal"
   ]
  },
  {
   "cell_type": "markdown",
   "metadata": {
    "collapsed": true
   },
   "source": [
    "### 多因子组合\n",
    "对筛选后的因子进行组合，一般有以下常规处理：\n",
    "* 因子间存在较强同质性时，先使用施密特正交化方法对因子做正交化处理，用得到的正交化残差作为因子（也可以不使用，正交化会破坏因子的经济学逻辑，并剔除一些信息）\n",
    "* 因子组合加权，常规的方法有：等权重、以某个时间窗口的滚动平均ic为权重、以某个时间窗口的滚动ic_ir为权重、最大化上个持有期的ic_ir为目标处理权重、最大化上个持有期的ic为目标处理权重\n",
    "* 注:因为计算IC需要用到下一期股票收益,因此在动态加权方法里，实际上使用的是前一期及更早的IC值(向前推移了holding_period)计算当期的权重"
   ]
  },
  {
   "cell_type": "code",
   "execution_count": null,
   "metadata": {},
   "outputs": [],
   "source": [
    "from jaqs.research.signaldigger import multi_factor"
   ]
  },
  {
   "cell_type": "code",
   "execution_count": null,
   "metadata": {},
   "outputs": [],
   "source": [
    "# 因子间存在较强同质性时，使用施密特正交化方法对因子做正交化处理，用得到的正交化残差作为因子\n",
    "new_factors = multi_factor.orthogonalize(factors_dict=factor_dict,\n",
    "                           standardize_type=\"rank\",#输入因子标准化方法，有\"rank\"（排序标准化）,\"z_score\"(z-score标准化)两种（\"rank\"/\"z_score\"）\n",
    "                           winsorization=False,#是否对输入因子去极值\n",
    "                           index_member=index_member) #　是否只处理指数成分股"
   ]
  },
  {
   "cell_type": "code",
   "execution_count": null,
   "metadata": {
    "scrolled": true
   },
   "outputs": [],
   "source": [
    "new_factors"
   ]
  },
  {
   "cell_type": "markdown",
   "metadata": {},
   "source": [
    "用正交化前的因子，分别进行等权、以某个时间窗口的滚动平均ic为权重、以某个时间窗口的滚动ic_ir为权重、最大化上个持有期的ic_ir为目标处理权重、最大化上个持有期的ic为目标处理权重的加权组合方式，然后测试组合因子表现"
   ]
  },
  {
   "cell_type": "code",
   "execution_count": null,
   "metadata": {
    "collapsed": true
   },
   "outputs": [],
   "source": [
    "# rollback_period代表滚动窗口所用到的天数,即用前多少期的数据来计算现阶段的因子权重。 通常建议设置时间在半年以上,可以获得相对稳定的预期结果\n",
    "\n",
    "#  多因子组合-动态加权参数配置\n",
    "props = {\n",
    "    'price':dv.get_ts(\"close_adj\"),\n",
    "    'high':dv.get_ts(\"high_adj\"), # 可为空\n",
    "    'low':dv.get_ts(\"low_adj\"),# 可为空\n",
    "    'ret_type': 'return',#可选参数还有upside_ret/downside_ret 则组合因子将以优化潜在上行、下行空间为目标\n",
    "    'benchmark_price': dv.data_benchmark,  # 为空计算的是绝对收益　不为空计算相对收益\n",
    "    'period': 30, # 30天的持有期\n",
    "    'mask': mask,\n",
    "    'can_enter': can_enter,\n",
    "    'can_exit': can_exit,\n",
    "    'forward': True,\n",
    "    'commission': 0.0008,\n",
    "    \"covariance_type\": \"shrink\",  # 协方差矩阵估算方法 还可以为\"simple\"\n",
    "    \"rollback_period\": 120}  # 滚动窗口天数"
   ]
  },
  {
   "cell_type": "code",
   "execution_count": null,
   "metadata": {
    "scrolled": true
   },
   "outputs": [],
   "source": [
    "comb_factors = dict()\n",
    "for method in [\"equal_weight\",\"ic_weight\",\"ir_weight\",\"max_IR\",\"max_IC\"]:\n",
    "    comb_factors[method] = multi_factor.combine_factors(factor_dict,\n",
    "                                                        standardize_type=\"rank\",\n",
    "                                                        winsorization=False,\n",
    "                                                        weighted_method=method,\n",
    "                                                        props=props)\n",
    "    print(method)\n",
    "    print(comb_factors[method].dropna(how=\"all\").head())"
   ]
  },
  {
   "cell_type": "markdown",
   "metadata": {},
   "source": [
    "### 比较组合前和组合后的因子在30日持有期下的表现（统一到2014年9月后进行比较）"
   ]
  },
  {
   "cell_type": "code",
   "execution_count": null,
   "metadata": {},
   "outputs": [],
   "source": [
    "# 处理组合因子的signal_data\n",
    "period = 30\n",
    "for method in [\"equal_weight\",\"ic_weight\",\"ir_weight\",\"max_IR\",\"max_IC\"]:\n",
    "    signal_data[method] = dict()\n",
    "    obj.process_signal_before_analysis(signal=comb_factors[method],\n",
    "                                       price=dv.get_ts(\"close_adj\"),\n",
    "                                       high=dv.get_ts(\"high_adj\"), # 可为空\n",
    "                                       low=dv.get_ts(\"low_adj\"),# 可为空\n",
    "                                       n_quantiles=5,# quantile分类数\n",
    "                                       mask=mask,# 过滤条件\n",
    "                                       can_enter=can_enter,# 是否能进场\n",
    "                                       can_exit=can_exit,# 是否能出场\n",
    "                                       period=period,# 持有期\n",
    "                                       benchmark_price=dv.data_benchmark, # 基准价格 可不传入，持有期收益（return）计算为绝对收益\n",
    "                                       commission = 0.0008,\n",
    "                                       )\n",
    "    signal_data[method][period] = obj.signal_data"
   ]
  },
  {
   "cell_type": "code",
   "execution_count": null,
   "metadata": {
    "collapsed": true
   },
   "outputs": [],
   "source": [
    "ic_30 = dict()\n",
    "ic_30_mean = dict()\n",
    "ic_30_std = dict()\n",
    "ir_30 = dict()\n",
    "for name in signal_data.keys():    \n",
    "    ic_30[name] = pfm.calc_signal_ic(signal_data[name][30].loc[20140901:,:])\n",
    "    if name in [\"pb\",\"pe\",\"ps\",\"momentum\"]:\n",
    "        ic_30[name] = -1*ic_30[name]\n",
    "    ic_30_mean[name]=ic_30[name].mean().values[0]\n",
    "    ic_30_std[name]=ic_30[name].std().values[0]\n",
    "    ir_30[name] = ic_30_mean[name]/ic_30_std[name]"
   ]
  },
  {
   "cell_type": "code",
   "execution_count": null,
   "metadata": {},
   "outputs": [],
   "source": [
    "import datetime\n",
    "\n",
    "ic_30_df = pd.concat(ic_30.values(),axis=1)\n",
    "ic_30_df.columns = ic_30.keys()\n",
    "trade_date = pd.Series(ic_30_df.index)\n",
    "trade_date = trade_date.apply(lambda x: datetime.datetime.strptime(str(x), '%Y%m%d'))\n",
    "ic_30_df.index = trade_date"
   ]
  },
  {
   "cell_type": "markdown",
   "metadata": {},
   "source": [
    "可视化比较"
   ]
  },
  {
   "cell_type": "code",
   "execution_count": null,
   "metadata": {},
   "outputs": [],
   "source": [
    "pd.Series(ic_30_mean).plot(kind=\"barh\",xerr=pd.Series(ic_30_std),figsize=(15,5))"
   ]
  },
  {
   "cell_type": "code",
   "execution_count": null,
   "metadata": {},
   "outputs": [],
   "source": [
    "print(ic_30_mean[\"equal_weight\"])\n",
    "print(ic_30_mean[\"ic_weight\"])\n",
    "print(ic_30_mean[\"pe\"])"
   ]
  },
  {
   "cell_type": "code",
   "execution_count": null,
   "metadata": {},
   "outputs": [],
   "source": [
    "pd.Series(ir_30).plot(kind=\"barh\",figsize=(15,5))"
   ]
  },
  {
   "cell_type": "code",
   "execution_count": null,
   "metadata": {},
   "outputs": [],
   "source": [
    "print(ir_30[\"equal_weight\"])\n",
    "print(ir_30[\"ic_weight\"])\n",
    "print(ir_30[\"pe\"])"
   ]
  },
  {
   "cell_type": "code",
   "execution_count": null,
   "metadata": {},
   "outputs": [],
   "source": [
    "ic_30_df[[\"equal_weight\",\"ic_weight\",\"pe\"]].plot(kind=\"line\",figsize=(15,5),)"
   ]
  },
  {
   "cell_type": "code",
   "execution_count": null,
   "metadata": {
    "scrolled": true
   },
   "outputs": [],
   "source": [
    "ic_30_df.loc[datetime.date(2017,1,3):,][[\"equal_weight\",\"ic_weight\",\"pe\"]].plot(kind=\"line\",figsize=(15,5),)"
   ]
  },
  {
   "cell_type": "markdown",
   "metadata": {},
   "source": [
    "### 查看等权合成因子的详情报告"
   ]
  },
  {
   "cell_type": "code",
   "execution_count": null,
   "metadata": {
    "collapsed": true
   },
   "outputs": [],
   "source": [
    "import matplotlib.pyplot as plt\n",
    "from jaqs.research.signaldigger.analysis import analysis\n",
    "\n",
    "def draw_analysis(signal_data,period):  \n",
    "    obj.signal_data = signal_data\n",
    "    obj.period = period\n",
    "    obj.create_full_report()\n",
    "    plt.show()\n",
    "    \n",
    "def factor_stats(signal_data, is_event, period):\n",
    "    return(analysis(signal_data, is_event=is_event, period=period))"
   ]
  },
  {
   "cell_type": "code",
   "execution_count": null,
   "metadata": {},
   "outputs": [],
   "source": [
    "draw_analysis(signal_data[\"equal_weight\"][30],period=30)"
   ]
  },
  {
   "cell_type": "code",
   "execution_count": null,
   "metadata": {
    "scrolled": true
   },
   "outputs": [],
   "source": [
    "print(factor_stats(signal_data[\"equal_weight\"][30],False,30))"
   ]
  },
  {
   "cell_type": "markdown",
   "metadata": {},
   "source": [
    "进一步测试下等权合成因子的绝对收益效果"
   ]
  },
  {
   "cell_type": "code",
   "execution_count": null,
   "metadata": {},
   "outputs": [],
   "source": [
    "obj.process_signal_before_analysis(signal=comb_factors[\"equal_weight\"],\n",
    "                                       price=dv.get_ts(\"close_adj\"),\n",
    "                                       high=dv.get_ts(\"high_adj\"), # 可为空\n",
    "                                       low=dv.get_ts(\"low_adj\"),# 可为空\n",
    "                                       n_quantiles=5,# quantile分类数\n",
    "                                       mask=mask,# 过滤条件\n",
    "                                       can_enter=can_enter,# 是否能进场\n",
    "                                       can_exit=can_exit,# 是否能出场\n",
    "                                       period=30,# 持有期\n",
    "                                       #benchmark_price=dv.data_benchmark, # 基准价格 可不传入，持有期收益（return）计算为绝对收益\n",
    "                                       commission = 0.0008,\n",
    "                                       )\n",
    "obj.create_full_report()\n",
    "plt.show()"
   ]
  },
  {
   "cell_type": "markdown",
   "metadata": {},
   "source": [
    "## 将Quantile5的选股结果保存成excel"
   ]
  },
  {
   "cell_type": "code",
   "execution_count": null,
   "metadata": {
    "scrolled": true
   },
   "outputs": [],
   "source": [
    "excel_data = obj.signal_data[obj.signal_data['quantile']==5][\"quantile\"].unstack().replace(np.nan, 0).replace(5, 1)\n",
    "print (excel_data.head())\n",
    "excel_data.to_excel('./equal_weight_quantile_5.xlsx')"
   ]
  }
 ],
 "metadata": {
  "anaconda-cloud": {},
  "kernelspec": {
   "display_name": "Python 3",
   "language": "python",
   "name": "python3"
  },
  "language_info": {
   "codemirror_mode": {
    "name": "ipython",
    "version": 3
   },
   "file_extension": ".py",
   "mimetype": "text/x-python",
   "name": "python",
   "nbconvert_exporter": "python",
   "pygments_lexer": "ipython3",
   "version": "3.6.1"
  }
 },
 "nbformat": 4,
 "nbformat_minor": 1
}
